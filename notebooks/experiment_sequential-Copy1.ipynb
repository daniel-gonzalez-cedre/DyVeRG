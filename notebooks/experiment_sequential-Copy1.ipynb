{
 "cells": [
  {
   "cell_type": "code",
   "execution_count": 1,
   "id": "3da7a225",
   "metadata": {},
   "outputs": [],
   "source": [
    "import sys\n",
    "import random\n",
    "from os.path import join\n",
    "\n",
    "sys.path.append('..')\n",
    "\n",
    "import numpy as np\n",
    "import networkx as nx\n",
    "\n",
    "from cnrg.VRG import VRG as VRG\n",
    "from cnrg.LightMultiGraph import LightMultiGraph as LightMultiGraph"
   ]
  },
  {
   "cell_type": "code",
   "execution_count": 2,
   "id": "c87046fb",
   "metadata": {},
   "outputs": [],
   "source": [
    "sys.path.append('../src')\n",
    "from data_scripts import read_data, create_graphs\n",
    "from bookkeeping import convert_LMG, decompose\n",
    "from update_grammar import update_grammar"
   ]
  },
  {
   "cell_type": "code",
   "execution_count": 3,
   "id": "93223596",
   "metadata": {},
   "outputs": [],
   "source": [
    "dataname = 'fb-messages'\n",
    "graphs, years = read_data(dataname=dataname, lookback=1)"
   ]
  },
  {
   "cell_type": "markdown",
   "id": "f8cb5f7e",
   "metadata": {},
   "source": [
    "# independent sequential experiments"
   ]
  },
  {
   "cell_type": "code",
   "execution_count": 4,
   "id": "a82c86f5",
   "metadata": {
    "scrolled": false
   },
   "outputs": [
    {
     "name": "stderr",
     "output_type": "stream",
     "text": [
      "100%|███████████████████████████████|[00:00<00:00]\n",
      "WARNING:root:graph: , mu: 4, type: mu_level_dl clustering: leiden rules: 108(108) mdl: 16_305.2 bits generated in 0.212 secs\n",
      "\n"
     ]
    },
    {
     "name": "stdout",
     "output_type": "stream",
     "text": [
      "0 [16305.21293832015]\n",
      "year 0->1 joint grammar\n"
     ]
    },
    {
     "name": "stderr",
     "output_type": "stream",
     "text": [
      "joint changes: 1:   0%|          | 0/69 [00:00<?, ?it/s]\n",
      "100%|███████████████████████████████|[00:00<00:00]\u001b[A\n",
      "WARNING:root:graph: , mu: 4, type: mu_level_dl clustering: leiden rules: 101(101) mdl: 12_023.3 bits generated in 0.095 secs\n",
      "\n",
      "joint changes: 1: 100%|██████████| 69/69 [00:01<00:00, 45.23it/s]\n",
      "additions: 1:  15%|█▌        | 69/457 [00:01<00:07, 52.84it/s] "
     ]
    },
    {
     "name": "stdout",
     "output_type": "stream",
     "text": [
      "!!!!!!!!!!!!!!!?\n",
      "159 [94, 128, 135, 244, 360, 380]\n",
      "!!!!!!!!!!!!!!!?\n"
     ]
    },
    {
     "name": "stderr",
     "output_type": "stream",
     "text": [
      "additions: 1: 100%|██████████| 457/457 [00:16<00:00, 27.03it/s]\n",
      "additions: 2: 100%|██████████| 3/3 [00:00<00:00, 94.65it/s]\n"
     ]
    },
    {
     "name": "stdout",
     "output_type": "stream",
     "text": [
      "0 [-80.70387073852342, 437581.0820768023]\n",
      "year 0->1 independent grammar\n"
     ]
    },
    {
     "name": "stderr",
     "output_type": "stream",
     "text": [
      "additions: 1: 100%|██████████| 854/854 [00:19<00:00, 42.76it/s] \n",
      "additions: 2:   7%|▋         | 20/296 [00:00<00:07, 39.10it/s]"
     ]
    },
    {
     "name": "stdout",
     "output_type": "stream",
     "text": [
      "!!!!!!!!!!!!!!!?\n",
      "1285 [45, 235, 244]\n",
      "!!!!!!!!!!!!!!!?\n",
      "!!!!!!!!!!!!!!!?\n",
      "311 [45, 235, 244]\n",
      "!!!!!!!!!!!!!!!?\n"
     ]
    },
    {
     "name": "stderr",
     "output_type": "stream",
     "text": [
      "additions: 2:  27%|██▋       | 81/296 [00:02<00:08, 26.44it/s]"
     ]
    },
    {
     "name": "stdout",
     "output_type": "stream",
     "text": [
      "!!!!!!!!!!!!!!!?\n",
      "1610 [50, 233, 244]\n",
      "!!!!!!!!!!!!!!!?\n",
      "!!!!!!!!!!!!!!!?\n",
      "1463 [50, 233, 244]\n",
      "!!!!!!!!!!!!!!!?\n"
     ]
    },
    {
     "name": "stderr",
     "output_type": "stream",
     "text": [
      "additions: 2:  38%|███▊      | 111/296 [00:03<00:08, 21.73it/s]"
     ]
    },
    {
     "name": "stdout",
     "output_type": "stream",
     "text": [
      "!!!!!!!!!!!!!!!?\n",
      "947 [37, 227, 244]\n",
      "!!!!!!!!!!!!!!!?\n",
      "!!!!!!!!!!!!!!!?\n",
      "791 [37, 227, 244]\n",
      "!!!!!!!!!!!!!!!?\n"
     ]
    },
    {
     "name": "stderr",
     "output_type": "stream",
     "text": [
      "additions: 2:  84%|████████▍ | 248/296 [00:09<00:02, 22.19it/s]"
     ]
    },
    {
     "name": "stdout",
     "output_type": "stream",
     "text": [
      "!!!!!!!!!!!!!!!?\n",
      "1498 [48, 238, 244]\n",
      "!!!!!!!!!!!!!!!?\n",
      "!!!!!!!!!!!!!!!?\n",
      "126 [48, 238, 244]\n",
      "!!!!!!!!!!!!!!!?\n"
     ]
    },
    {
     "name": "stderr",
     "output_type": "stream",
     "text": [
      "additions: 2: 100%|██████████| 296/296 [00:11<00:00, 26.51it/s]\n",
      "additions: 3: 100%|██████████| 75/75 [00:03<00:00, 19.54it/s]\n",
      "additions: 4: 100%|██████████| 10/10 [00:00<00:00, 17.75it/s]\n"
     ]
    },
    {
     "name": "stdout",
     "output_type": "stream",
     "text": [
      "0 [-258.41023671219097, 769663.8322374003]\n"
     ]
    },
    {
     "name": "stderr",
     "output_type": "stream",
     "text": [
      "100%|███████████████████████████████|[00:00<00:00]\n",
      "WARNING:root:graph: , mu: 4, type: mu_level_dl clustering: leiden rules: 169(169) mdl: 21_290.4 bits generated in 0.19 secs\n",
      "\n"
     ]
    },
    {
     "name": "stdout",
     "output_type": "stream",
     "text": [
      "1 [21290.39548228957]\n",
      "year 1->2 joint grammar\n"
     ]
    },
    {
     "name": "stderr",
     "output_type": "stream",
     "text": [
      "joint changes: 1:   0%|          | 0/104 [00:00<?, ?it/s]\n",
      "  0%|                                   |[00:00<?]\u001b[A\n",
      "100%|███████████████████████████████|[00:00<00:00]\u001b[A\n",
      "WARNING:root:graph: , mu: 4, type: mu_level_dl clustering: leiden rules: 105(105) mdl: 13_603.6 bits generated in 0.12 secs\n",
      "\n",
      "joint changes: 1:   1%|          | 1/104 [00:01<02:33,  1.49s/it]\n",
      "100%|███████████████████████████████|[00:00<00:00]\u001b[A\n",
      "WARNING:root:graph: , mu: 4, type: mu_level_dl clustering: leiden rules: 2(2) mdl: 110.886 bits generated in 0.002 secs\n",
      "\n",
      "\n",
      "100%|███████████████████████████████|[00:00<00:00]\u001b[A\n",
      "WARNING:root:graph: , mu: 4, type: mu_level_dl clustering: leiden rules: 2(2) mdl: 117.811 bits generated in 0.002 secs\n",
      "\n",
      "joint changes: 1: 100%|██████████| 104/104 [00:01<00:00, 66.51it/s]\n",
      "additions: 1:  40%|███▉      | 262/663 [00:04<00:08, 49.35it/s]"
     ]
    },
    {
     "name": "stdout",
     "output_type": "stream",
     "text": [
      "!!!!!!!!!!!!!!!?\n",
      "1833 [249, 368, 380]\n",
      "!!!!!!!!!!!!!!!?\n",
      "!!!!!!!!!!!!!!!?\n",
      "1833 [249, 368, 380]\n",
      "!!!!!!!!!!!!!!!?\n"
     ]
    },
    {
     "name": "stderr",
     "output_type": "stream",
     "text": [
      "additions: 1:  55%|█████▍    | 363/663 [00:06<00:05, 55.53it/s]\n"
     ]
    },
    {
     "name": "stdout",
     "output_type": "stream",
     "text": [
      "!!!!!!!!!!!!!!!?\n",
      "202 [219, 375, 380]\n",
      "!!!!!!!!!!!!!!!?\n",
      "1\n",
      "16\n",
      "{202: 1, 338: 16}\n",
      "219\n",
      "(52) 24 -> (n = 3, m = 129)nt: {16}\n"
     ]
    },
    {
     "ename": "IndexError",
     "evalue": "?? wlist index out of rangew ??",
     "output_type": "error",
     "traceback": [
      "\u001b[0;31m---------------------------------------------------------------------------\u001b[0m",
      "\u001b[0;31mIndexError\u001b[0m                                Traceback (most recent call last)",
      "File \u001b[0;32m~/repos/temporal_VRG/notebooks/../src/rule_transitions.py:21\u001b[0m, in \u001b[0;36mupdate_rule_domestic\u001b[0;34m(grammar, u, v, mode)\u001b[0m\n\u001b[1;32m     20\u001b[0m     ancestor_u \u001b[38;5;241m=\u001b[39m \u001b[38;5;28mlist\u001b[39m(parent_rule\u001b[38;5;241m.\u001b[39mgraph\u001b[38;5;241m.\u001b[39mnodes())[which_u]\n\u001b[0;32m---> 21\u001b[0m     ancestor_v \u001b[38;5;241m=\u001b[39m \u001b[38;5;28;43mlist\u001b[39;49m\u001b[43m(\u001b[49m\u001b[43mparent_rule\u001b[49m\u001b[38;5;241;43m.\u001b[39;49m\u001b[43mgraph\u001b[49m\u001b[38;5;241;43m.\u001b[39;49m\u001b[43mnodes\u001b[49m\u001b[43m(\u001b[49m\u001b[43m)\u001b[49m\u001b[43m)\u001b[49m\u001b[43m[\u001b[49m\u001b[43mwhich_v\u001b[49m\u001b[43m]\u001b[49m\n\u001b[1;32m     22\u001b[0m \u001b[38;5;28;01mexcept\u001b[39;00m \u001b[38;5;167;01mIndexError\u001b[39;00m \u001b[38;5;28;01mas\u001b[39;00m e:\n",
      "\u001b[0;31mIndexError\u001b[0m: list index out of range",
      "\nDuring handling of the above exception, another exception occurred:\n",
      "\u001b[0;31mIndexError\u001b[0m                                Traceback (most recent call last)",
      "Input \u001b[0;32mIn [4]\u001b[0m, in \u001b[0;36m<module>\u001b[0;34m\u001b[0m\n\u001b[1;32m     17\u001b[0m \u001b[38;5;28mprint\u001b[39m(idx, [bmdl])\n\u001b[1;32m     19\u001b[0m \u001b[38;5;28mprint\u001b[39m(\u001b[38;5;124mf\u001b[39m\u001b[38;5;124m'\u001b[39m\u001b[38;5;124myear \u001b[39m\u001b[38;5;132;01m{\u001b[39;00midx\u001b[38;5;132;01m}\u001b[39;00m\u001b[38;5;124m->\u001b[39m\u001b[38;5;132;01m{\u001b[39;00midx\u001b[38;5;241m+\u001b[39m\u001b[38;5;241m1\u001b[39m\u001b[38;5;132;01m}\u001b[39;00m\u001b[38;5;124m joint grammar\u001b[39m\u001b[38;5;124m'\u001b[39m)\n\u001b[0;32m---> 20\u001b[0m joint_grammar \u001b[38;5;241m=\u001b[39m \u001b[43mupdate_grammar\u001b[49m\u001b[43m(\u001b[49m\u001b[43mbase_grammar\u001b[49m\u001b[43m,\u001b[49m\u001b[43m \u001b[49m\u001b[43mhome_graph\u001b[49m\u001b[43m,\u001b[49m\u001b[43m \u001b[49m\u001b[43maway_graph\u001b[49m\u001b[43m,\u001b[49m\u001b[43m \u001b[49m\u001b[43mmode\u001b[49m\u001b[38;5;241;43m=\u001b[39;49m\u001b[38;5;124;43m'\u001b[39;49m\u001b[38;5;124;43mjoint\u001b[39;49m\u001b[38;5;124;43m'\u001b[39;49m\u001b[43m)\u001b[49m\n\u001b[1;32m     21\u001b[0m jll \u001b[38;5;241m=\u001b[39m joint_grammar\u001b[38;5;241m.\u001b[39mconditional_ll()\n\u001b[1;32m     22\u001b[0m jmdl \u001b[38;5;241m=\u001b[39m joint_grammar\u001b[38;5;241m.\u001b[39mcalculate_cost()\n",
      "File \u001b[0;32m~/repos/temporal_VRG/notebooks/../src/update_grammar.py:88\u001b[0m, in \u001b[0;36mupdate_grammar\u001b[0;34m(grammar, home_graph, away_graph, mode, mu)\u001b[0m\n\u001b[1;32m     86\u001b[0m \u001b[38;5;28;01mfor\u001b[39;00m u, v \u001b[38;5;129;01min\u001b[39;00m tqdm(changes, desc\u001b[38;5;241m=\u001b[39m\u001b[38;5;124mf\u001b[39m\u001b[38;5;124m'\u001b[39m\u001b[38;5;124madditions: \u001b[39m\u001b[38;5;132;01m{\u001b[39;00mcount\u001b[38;5;132;01m}\u001b[39;00m\u001b[38;5;124m'\u001b[39m, leave\u001b[38;5;241m=\u001b[39m\u001b[38;5;28;01mTrue\u001b[39;00m):\n\u001b[1;32m     87\u001b[0m     \u001b[38;5;28;01mif\u001b[39;00m u \u001b[38;5;129;01min\u001b[39;00m conquered \u001b[38;5;129;01mand\u001b[39;00m v \u001b[38;5;129;01min\u001b[39;00m conquered:\n\u001b[0;32m---> 88\u001b[0m         charted_grammar \u001b[38;5;241m=\u001b[39m \u001b[43mupdate_rule_domestic\u001b[49m\u001b[43m(\u001b[49m\u001b[43mcharted_grammar\u001b[49m\u001b[43m,\u001b[49m\u001b[43m \u001b[49m\u001b[43mu\u001b[49m\u001b[43m,\u001b[49m\u001b[43m \u001b[49m\u001b[43mv\u001b[49m\u001b[43m,\u001b[49m\u001b[43m \u001b[49m\u001b[38;5;124;43m'\u001b[39;49m\u001b[38;5;124;43madd\u001b[39;49m\u001b[38;5;124;43m'\u001b[39;49m\u001b[43m)\u001b[49m\n\u001b[1;32m     89\u001b[0m     \u001b[38;5;28;01melif\u001b[39;00m u \u001b[38;5;129;01min\u001b[39;00m conquered \u001b[38;5;129;01mand\u001b[39;00m v \u001b[38;5;129;01mnot\u001b[39;00m \u001b[38;5;129;01min\u001b[39;00m conquered:\n\u001b[1;32m     90\u001b[0m         charted_grammar \u001b[38;5;241m=\u001b[39m update_rule_diplomatic(charted_grammar, u, v, \u001b[38;5;124m'\u001b[39m\u001b[38;5;124madd\u001b[39m\u001b[38;5;124m'\u001b[39m)\n",
      "File \u001b[0;32m~/repos/temporal_VRG/notebooks/../src/rule_transitions.py:28\u001b[0m, in \u001b[0;36mupdate_rule_domestic\u001b[0;34m(grammar, u, v, mode)\u001b[0m\n\u001b[1;32m     26\u001b[0m     \u001b[38;5;28mprint\u001b[39m(which_parent)\n\u001b[1;32m     27\u001b[0m     \u001b[38;5;28mprint\u001b[39m(parent_rule)\n\u001b[0;32m---> 28\u001b[0m     \u001b[38;5;28;01mraise\u001b[39;00m \u001b[38;5;167;01mIndexError\u001b[39;00m(\u001b[38;5;124mf\u001b[39m\u001b[38;5;124m'\u001b[39m\u001b[38;5;124m?? w\u001b[39m\u001b[38;5;132;01m{\u001b[39;00me\u001b[38;5;132;01m}\u001b[39;00m\u001b[38;5;124mw ??\u001b[39m\u001b[38;5;124m'\u001b[39m)\n\u001b[1;32m     30\u001b[0m new_rule \u001b[38;5;241m=\u001b[39m copy\u001b[38;5;241m.\u001b[39mdeepcopy(parent_rule)\n\u001b[1;32m     32\u001b[0m \u001b[38;5;28;01mif\u001b[39;00m mode \u001b[38;5;241m==\u001b[39m \u001b[38;5;124m'\u001b[39m\u001b[38;5;124madd\u001b[39m\u001b[38;5;124m'\u001b[39m:\n",
      "\u001b[0;31mIndexError\u001b[0m: ?? wlist index out of rangew ??"
     ]
    }
   ],
   "source": [
    "mu = 4\n",
    "\n",
    "base_mdl = []\n",
    "\n",
    "joint_ll = []\n",
    "joint_mdl = []\n",
    "\n",
    "indep_ll = []\n",
    "indep_mdl = []\n",
    "\n",
    "for idx, (home_graph, away_graph) in enumerate(zip(graphs[:-1], graphs[1:])):\n",
    "    # if idx == 0:\n",
    "    #     continue\n",
    "    base_grammar = decompose(home_graph, mu=4)\n",
    "    bmdl = base_grammar.calculate_cost()\n",
    "    base_mdl += [bmdl]\n",
    "    print(idx, [bmdl])\n",
    "    \n",
    "    print(f'year {idx}->{idx+1} joint grammar')\n",
    "    joint_grammar = update_grammar(base_grammar, home_graph, away_graph, mode='joint')\n",
    "    jll = joint_grammar.conditional_ll()\n",
    "    jmdl = joint_grammar.calculate_cost()\n",
    "    joint_ll += [jll]\n",
    "    joint_mdl += [jmdl]\n",
    "    print(idx, [jll, jmdl])\n",
    "    \n",
    "    print(f'year {idx}->{idx+1} independent grammar')\n",
    "    indep_grammar = update_grammar(base_grammar, home_graph, away_graph, mode='independent')\n",
    "    ill = indep_grammar.conditional_ll()\n",
    "    imdl = indep_grammar.calculate_cost()\n",
    "    indep_ll += [ill]\n",
    "    indep_mdl += [imdl]\n",
    "    print(idx, [ill, imdl])"
   ]
  },
  {
   "cell_type": "code",
   "execution_count": null,
   "id": "52acf3ae",
   "metadata": {},
   "outputs": [],
   "source": []
  },
  {
   "cell_type": "markdown",
   "id": "5a1e37ef",
   "metadata": {},
   "source": [
    "# accumulated sequential experiments"
   ]
  },
  {
   "cell_type": "code",
   "execution_count": null,
   "id": "7201315c",
   "metadata": {},
   "outputs": [],
   "source": []
  },
  {
   "cell_type": "code",
   "execution_count": null,
   "id": "0e76deb6",
   "metadata": {},
   "outputs": [],
   "source": []
  }
 ],
 "metadata": {
  "kernelspec": {
   "display_name": "Python 3",
   "language": "python",
   "name": "python3"
  },
  "language_info": {
   "codemirror_mode": {
    "name": "ipython",
    "version": 3
   },
   "file_extension": ".py",
   "mimetype": "text/x-python",
   "name": "python",
   "nbconvert_exporter": "python",
   "pygments_lexer": "ipython3",
   "version": "3.9.5"
  }
 },
 "nbformat": 4,
 "nbformat_minor": 5
}
