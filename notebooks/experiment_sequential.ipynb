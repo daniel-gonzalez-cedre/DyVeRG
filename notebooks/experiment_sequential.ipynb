{
 "cells": [
  {
   "cell_type": "code",
   "execution_count": 1,
   "id": "2109d799",
   "metadata": {},
   "outputs": [],
   "source": [
    "import sys\n",
    "import random\n",
    "import pickle\n",
    "from os.path import join\n",
    "\n",
    "sys.path.append('..')\n",
    "\n",
    "import numpy as np\n",
    "import networkx as nx\n",
    "\n",
    "from cnrg.VRG import VRG as VRG\n",
    "from cnrg.LightMultiGraph import LightMultiGraph as LightMultiGraph\n",
    "\n",
    "import matplotlib.pyplot as plt\n",
    "import seaborn as sns\n",
    "%matplotlib inline"
   ]
  },
  {
   "cell_type": "code",
   "execution_count": 2,
   "id": "e42cc78c",
   "metadata": {},
   "outputs": [],
   "source": [
    "sys.path.append('../src')\n",
    "from utils import silence\n",
    "from data import load_data\n",
    "from data_old import read_data\n",
    "from bookkeeping import convert_LMG, decompose, decompose_component\n",
    "from update_grammar import update_grammar"
   ]
  },
  {
   "cell_type": "code",
   "execution_count": 3,
   "id": "44f5e783",
   "metadata": {},
   "outputs": [],
   "source": [
    "loaded = load_data(dataname='facebook-links', lookback=0)\n",
    "graphs = [g for _, g in loaded]"
   ]
  },
  {
   "cell_type": "code",
   "execution_count": 4,
   "id": "e28d1e7a",
   "metadata": {},
   "outputs": [],
   "source": [
    "with silence():\n",
    "    grammar = decompose(graphs[0])"
   ]
  },
  {
   "cell_type": "code",
   "execution_count": 5,
   "id": "b3caae4a",
   "metadata": {},
   "outputs": [
    {
     "name": "stdout",
     "output_type": "stream",
     "text": [
      "graph: , mu: 4, type: mu_level_dl clustering: leiden rules: 477(476) mdl: 22.288 bits\n"
     ]
    }
   ],
   "source": [
    "print(grammar)"
   ]
  },
  {
   "cell_type": "code",
   "execution_count": null,
   "id": "56c78570",
   "metadata": {},
   "outputs": [],
   "source": []
  },
  {
   "cell_type": "markdown",
   "id": "6f7306dd",
   "metadata": {},
   "source": [
    "# independent sequential experiments"
   ]
  },
  {
   "cell_type": "code",
   "execution_count": null,
   "id": "a4122a38",
   "metadata": {
    "scrolled": false
   },
   "outputs": [],
   "source": [
    "dataname = 'facebook-links'\n",
    "# facebook-links ['weight'] edge missing?\n",
    "lookbacks = [0]\n",
    "\n",
    "base_grammars = {lookback: [] for lookback in lookbacks}\n",
    "joint_grammars = {lookback: [] for lookback in lookbacks}\n",
    "indep_grammars = {lookback: [] for lookback in lookbacks}\n",
    "\n",
    "base_mdls = {lookback: [] for lookback in lookbacks}\n",
    "joint_mdls = {lookback: [] for lookback in lookbacks}\n",
    "joint_lls = {lookback: [] for lookback in lookbacks}\n",
    "indep_mdls = {lookback: [] for lookback in lookbacks}\n",
    "indep_lls = {lookback: [] for lookback in lookbacks}\n",
    "\n",
    "mu = 4\n",
    "for lookback in lookbacks:\n",
    "    loaded = load_data(dataname=dataname, lookback=lookback)\n",
    "    graphs = [g for _, g in loaded]\n",
    "    years = [t for t, _ in loaded][:len(graphs) - 1]\n",
    "    \n",
    "    # graphs, years = read_data(dataname=dataname, lookback=lookback)\n",
    "    \n",
    "    graphs = graphs[0:]\n",
    "    \n",
    "    base_mdl = []\n",
    "    joint_ll = []\n",
    "    joint_mdl = []\n",
    "    indep_ll = []\n",
    "    indep_mdl = []\n",
    "\n",
    "    for idx, (home_graph, away_graph) in enumerate(zip(graphs[:-1], graphs[1:])):\n",
    "        base_grammar = decompose(home_graph, mu=mu)\n",
    "        joint_grammar = update_grammar(base_grammar, home_graph, away_graph, mode='joint')\n",
    "        indep_grammar = update_grammar(base_grammar, home_graph, away_graph, mode='independent')\n",
    "        \n",
    "        base_grammars[lookback] += [base_grammar]\n",
    "        joint_grammars[lookback] += [joint_grammar]\n",
    "        indep_grammars[lookback] += [indep_grammar]\n",
    "        \n",
    "        joint_mdl += [joint_grammar.calculate_cost()]\n",
    "        joint_ll += [joint_grammar.conditional_ll()]\n",
    "        \n",
    "        joint_mdls[lookback] += [joint_grammar.calculate_cost()]\n",
    "        joint_lls[lookback] += [joint_grammar.conditional_ll()]\n",
    "        indep_mdls[lookback] += [indep_grammar.calculate_cost()]\n",
    "        indep_lls[lookback] += [indep_grammar.conditional_ll()]\n",
    "        \n",
    "        base_mdls[lookback] += [base_grammar.calculate_cost()]\n",
    "    \n",
    "    base_grammar = decompose(graphs[-1], mu=mu)\n",
    "    base_grammars[lookback] += [base_grammar]\n",
    "    base_mdls[lookback] += [base_grammar.calculate_cost()]\n",
    "\n",
    "    with open(f'../results/experiment_sequential/{dataname}_base.grammars', 'wb') as outfile:\n",
    "        pickle.dump(base_grammars, outfile)\n",
    "    with open(f'../results/experiment_sequential/{dataname}_joint.grammars', 'wb') as outfile:\n",
    "        pickle.dump(joint_grammars, outfile)\n",
    "    with open(f'../results/experiment_sequential/{dataname}_indep.grammars', 'wb') as outfile:\n",
    "        pickle.dump(indep_grammars, outfile)\n",
    "\n",
    "    with open(f'../results/experiment_sequential/{dataname}_base.mdls', 'wb') as outfile:\n",
    "        pickle.dump(base_mdls, outfile)\n",
    "    with open(f'../results/experiment_sequential/{dataname}_joint.mdls', 'wb') as outfile:\n",
    "        pickle.dump(joint_mdls, outfile)\n",
    "    with open(f'../results/experiment_sequential/{dataname}_joint.lls', 'wb') as outfile:\n",
    "        pickle.dump(joint_lls, outfile)\n",
    "    with open(f'../results/experiment_sequential/{dataname}_indep.mdls', 'wb') as outfile:\n",
    "        pickle.dump(indep_mdls, outfile)\n",
    "    with open(f'../results/experiment_sequential/{dataname}_indep.lls', 'wb') as outfile:\n",
    "        pickle.dump(indep_lls, outfile)"
   ]
  },
  {
   "cell_type": "code",
   "execution_count": null,
   "id": "6cc89203",
   "metadata": {},
   "outputs": [],
   "source": [
    "print('hi')"
   ]
  },
  {
   "cell_type": "code",
   "execution_count": null,
   "id": "c6ee200f",
   "metadata": {},
   "outputs": [],
   "source": []
  },
  {
   "cell_type": "code",
   "execution_count": null,
   "id": "1267697b",
   "metadata": {},
   "outputs": [],
   "source": [
    "loaded = load_data(dataname='email-dnc', lookback=0)\n",
    "graphs = [g for _, g in loaded]\n",
    "[(g.order(), g.size()) for g in graphs]"
   ]
  },
  {
   "cell_type": "code",
   "execution_count": null,
   "id": "54a118cf",
   "metadata": {
    "scrolled": true
   },
   "outputs": [],
   "source": [
    "loaded = load_data(dataname='facebook-links', lookback=0)\n",
    "graphs = [g for _, g in loaded]\n",
    "[(g.order(), g.size()) for g in graphs]\n",
    "#[(len(set(cur.nodes()) & set(nxt.nodes())), len(set(cur.edges()) & set(nxt.edges()))) for cur, nxt in zip(graphs[:-1], graphs[1:])]"
   ]
  },
  {
   "cell_type": "code",
   "execution_count": null,
   "id": "2a6aaa51",
   "metadata": {},
   "outputs": [],
   "source": [
    "graphs, _ = read_data(dataname='fb-messages', lookback=0)\n",
    "[(len(set(cur.nodes()) & set(nxt.nodes())), len(set(cur.edges()) & set(nxt.edges()))) for cur, nxt in zip(graphs[:-1], graphs[1:])]"
   ]
  },
  {
   "cell_type": "code",
   "execution_count": null,
   "id": "87a2b8d6",
   "metadata": {},
   "outputs": [],
   "source": []
  },
  {
   "cell_type": "code",
   "execution_count": null,
   "id": "1eb50272",
   "metadata": {
    "scrolled": false
   },
   "outputs": [],
   "source": [
    "joint_lls"
   ]
  },
  {
   "cell_type": "code",
   "execution_count": null,
   "id": "40e51546",
   "metadata": {},
   "outputs": [],
   "source": [
    "indep_lls"
   ]
  },
  {
   "cell_type": "code",
   "execution_count": null,
   "id": "895ae0cd",
   "metadata": {},
   "outputs": [],
   "source": []
  },
  {
   "cell_type": "code",
   "execution_count": null,
   "id": "bdfda3c0",
   "metadata": {
    "scrolled": true
   },
   "outputs": [],
   "source": [
    "#with plt.style.context(['ipynb', 'use_mathtext', 'colors5-light']):\n",
    "plt.title(f'sequential experiments: {dataname}, lookback {lookback}')\n",
    "plt.xlabel('time')\n",
    "plt.ylabel('log likelihood')\n",
    "plt.plot(range(len(years)), joint_lls[0], label='joint model')\n",
    "plt.plot(range(len(years)), indep_lls[0], label='independent model')\n",
    "plt.legend(loc='upper left', bbox_to_anchor=(1, 1))\n",
    "plt.ticklabel_format(style='plain')\n",
    "    #plt.savefig(f'../figures/exp3_{dataname}_{cumulative}.svg')"
   ]
  },
  {
   "cell_type": "code",
   "execution_count": null,
   "id": "2bd4e0af",
   "metadata": {
    "scrolled": true
   },
   "outputs": [],
   "source": [
    "#with plt.style.context(['ipynb', 'use_mathtext', 'colors5-light']):\n",
    "plt.title(f'sequential experiments: {dataname}, lookback {lookback}')\n",
    "plt.xlabel('time')\n",
    "plt.ylabel('minimal description length')\n",
    "plt.plot(range(len(years)), joint_mdls[0], label='joint model')\n",
    "plt.plot(range(len(years)), indep_mdls[0], label='independent model')\n",
    "plt.plot(range(len(years)), [base_mdls[0] for _ in years], label='base model')\n",
    "plt.legend(loc='upper left', bbox_to_anchor=(1, 1))\n",
    "plt.ticklabel_format(style='plain')\n",
    "    #plt.savefig(f'../figures/exp3_{dataname}_{cumulative}.svg')"
   ]
  },
  {
   "cell_type": "code",
   "execution_count": null,
   "id": "fb5f7094",
   "metadata": {},
   "outputs": [],
   "source": [
    "base_mdls"
   ]
  },
  {
   "cell_type": "code",
   "execution_count": null,
   "id": "b3a0067e",
   "metadata": {},
   "outputs": [],
   "source": []
  },
  {
   "cell_type": "markdown",
   "id": "47a91b33",
   "metadata": {},
   "source": [
    "# accumulated sequential experiments"
   ]
  },
  {
   "cell_type": "code",
   "execution_count": null,
   "id": "bfede589",
   "metadata": {},
   "outputs": [],
   "source": []
  },
  {
   "cell_type": "code",
   "execution_count": null,
   "id": "29dfb920",
   "metadata": {},
   "outputs": [],
   "source": []
  }
 ],
 "metadata": {
  "kernelspec": {
   "display_name": "Python 3",
   "language": "python",
   "name": "python3"
  },
  "language_info": {
   "codemirror_mode": {
    "name": "ipython",
    "version": 3
   },
   "file_extension": ".py",
   "mimetype": "text/x-python",
   "name": "python",
   "nbconvert_exporter": "python",
   "pygments_lexer": "ipython3",
   "version": "3.9.5"
  }
 },
 "nbformat": 4,
 "nbformat_minor": 5
}
