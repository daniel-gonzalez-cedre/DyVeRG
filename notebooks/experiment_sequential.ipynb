{
 "cells": [
  {
   "cell_type": "code",
   "execution_count": 1,
   "id": "2109d799",
   "metadata": {},
   "outputs": [],
   "source": [
    "import sys\n",
    "import random\n",
    "import pickle\n",
    "from os.path import join\n",
    "\n",
    "sys.path.append('..')\n",
    "\n",
    "import numpy as np\n",
    "import networkx as nx\n",
    "\n",
    "from cnrg.VRG import VRG as VRG\n",
    "from cnrg.LightMultiGraph import convert\n",
    "from cnrg.LightMultiGraph import LightMultiGraph as LightMultiGraph\n",
    "\n",
    "import matplotlib.pyplot as plt\n",
    "import seaborn as sns\n",
    "%matplotlib inline"
   ]
  },
  {
   "cell_type": "code",
   "execution_count": 2,
   "id": "e42cc78c",
   "metadata": {},
   "outputs": [],
   "source": [
    "sys.path.append('../src')\n",
    "from utils import silence\n",
    "from data import load_data\n",
    "# from data_old import read_data\n",
    "from decomposition import decompose, decompose_component\n",
    "from graph_transitions import update_grammar\n",
    "from utils import silence, find, replace\n",
    "from utils import graph_edit_distance as ged"
   ]
  },
  {
   "cell_type": "code",
   "execution_count": 3,
   "id": "44f5e783",
   "metadata": {},
   "outputs": [],
   "source": [
    "loaded = load_data(dataname='email-eucore', lookback=0)\n",
    "graphs = [g for _, g in loaded]"
   ]
  },
  {
   "cell_type": "code",
   "execution_count": 4,
   "id": "e28d1e7a",
   "metadata": {
    "scrolled": true
   },
   "outputs": [
    {
     "name": "stderr",
     "output_type": "stream",
     "text": [
      "100%|███████████████████████████████|[00:00<00:00]\n",
      "100%|███████████████████████████████|[00:00<00:00]\n",
      "100%|███████████████████████████████|[00:00<00:00]\n",
      "100%|███████████████████████████████|[00:00<00:00]\n",
      "100%|███████████████████████████████|[00:00<00:00]\n"
     ]
    }
   ],
   "source": [
    "grammar = decompose(graphs[0], time=0)"
   ]
  },
  {
   "cell_type": "code",
   "execution_count": 5,
   "id": "ce81d906",
   "metadata": {
    "scrolled": true
   },
   "outputs": [
    {
     "name": "stderr",
     "output_type": "stream",
     "text": [
      "joint changes: 100%|██████████| 44/44 [01:38<00:00,  2.24s/it]\n",
      "additions: 100%|██████████| 2207/2207 [00:01<00:00, 1356.32it/s]\n"
     ]
    },
    {
     "name": "stdout",
     "output_type": "stream",
     "text": [
      "graph: , mu: 4, type: mu_level_dl clustering: leiden rules: 245(244) mdl: 27_455.5 bits\n"
     ]
    },
    {
     "name": "stderr",
     "output_type": "stream",
     "text": [
      "additions: 100%|██████████| 2289/2289 [00:00<00:00, 2348.54it/s]"
     ]
    },
    {
     "name": "stdout",
     "output_type": "stream",
     "text": [
      "graph: , mu: 4, type: mu_level_dl clustering: leiden rules: 235(234) mdl: 26_291.1 bits\n"
     ]
    },
    {
     "name": "stderr",
     "output_type": "stream",
     "text": [
      "\n"
     ]
    }
   ],
   "source": [
    "if True:\n",
    "    joint_grammar = update_grammar(grammar, graphs[0], graphs[1], 1, mode='joint')\n",
    "    indep_grammar = update_grammar(grammar, graphs[0], graphs[1], 1, mode='indep')"
   ]
  },
  {
   "cell_type": "code",
   "execution_count": 6,
   "id": "49afc13d",
   "metadata": {
    "scrolled": false
   },
   "outputs": [
    {
     "data": {
      "text/plain": [
       "2244.0"
      ]
     },
     "metadata": {},
     "output_type": "display_data"
    },
    {
     "data": {
      "text/plain": [
       "2283"
      ]
     },
     "metadata": {},
     "output_type": "display_data"
    }
   ],
   "source": [
    "display(joint_grammar.ll(), indep_grammar.ll())"
   ]
  },
  {
   "cell_type": "code",
   "execution_count": 7,
   "id": "be527f4f",
   "metadata": {},
   "outputs": [
    {
     "name": "stdout",
     "output_type": "stream",
     "text": [
      "0 1 2207\n",
      "1 1 0\n",
      "1 1 6.0\n",
      "1 1 4.0\n",
      "1 1 6.0\n",
      "1 1 2.0\n",
      "1 1 12.0\n",
      "1 1 2.0\n",
      "1 1 4.0\n",
      "1 1 0\n",
      "1 1 1.0\n"
     ]
    }
   ],
   "source": [
    "for rule in joint_grammar.rule_list:\n",
    "    if rule.time_changed > 0:\n",
    "        print(rule.time, rule.time_changed, rule.edit_cost)"
   ]
  },
  {
   "cell_type": "code",
   "execution_count": 8,
   "id": "290b5b3d",
   "metadata": {
    "scrolled": true
   },
   "outputs": [
    {
     "name": "stdout",
     "output_type": "stream",
     "text": [
      "0 1 1\n",
      "0 1 1\n",
      "0 1 1\n",
      "0 1 1\n",
      "0 1 1\n",
      "0 1 1\n",
      "0 1 1\n",
      "0 1 1\n",
      "0 1 2\n",
      "0 1 1\n",
      "0 1 3\n",
      "0 1 1\n",
      "0 1 1\n",
      "0 1 1\n",
      "0 1 1\n",
      "0 1 1\n",
      "0 1 1\n",
      "0 1 2\n",
      "0 1 1\n",
      "0 1 1\n",
      "0 1 3\n",
      "0 1 1\n",
      "0 1 1\n",
      "0 1 1\n",
      "0 1 1\n",
      "0 1 1\n",
      "0 1 1\n",
      "0 1 1\n",
      "0 1 2\n",
      "0 1 4\n",
      "0 1 1\n",
      "0 1 1\n",
      "0 1 1\n",
      "0 1 2\n",
      "0 1 1\n",
      "0 1 1\n",
      "0 1 1\n",
      "0 1 4\n",
      "0 1 2\n",
      "0 1 1\n",
      "0 1 1\n",
      "0 1 2\n",
      "0 1 1\n",
      "0 1 2\n",
      "0 1 1\n",
      "0 1 2\n",
      "0 1 1\n",
      "0 1 4\n",
      "0 1 1\n",
      "0 1 2\n",
      "0 1 1\n",
      "0 1 1\n",
      "0 1 1\n",
      "0 1 2207\n",
      "0 1 1\n"
     ]
    }
   ],
   "source": [
    "for rule in indep_grammar.rule_list:\n",
    "    if rule.time_changed > 0:\n",
    "        print(rule.time, rule.time_changed, rule.edit_cost)"
   ]
  },
  {
   "cell_type": "code",
   "execution_count": null,
   "id": "87f3953a",
   "metadata": {},
   "outputs": [],
   "source": [
    "old = [rule for rule in joint_grammar.rule_list if rule.time == 0]\n",
    "new = [rule for rule in joint_grammar.rule_list if rule.time == 1]\n",
    "new_rule = new[0]\n",
    "print(len(old), len(new))"
   ]
  },
  {
   "cell_type": "code",
   "execution_count": null,
   "id": "f2dc407f",
   "metadata": {},
   "outputs": [],
   "source": [
    "for rule in joint_grammar.rule_dict[new_rule.lhs]:\n",
    "    if rule == new_rule and rule is not new_rule:\n",
    "        break\n",
    "else:\n",
    "    rule = None"
   ]
  },
  {
   "cell_type": "code",
   "execution_count": null,
   "id": "f879744a",
   "metadata": {},
   "outputs": [],
   "source": [
    "dists = [ged(rule.graph, new_rule.graph)\n",
    "         for rule in joint_grammar.rule_dict[new_rule.lhs]\n",
    "         if rule is not new_rule]\n",
    "min(dists)"
   ]
  },
  {
   "cell_type": "code",
   "execution_count": null,
   "id": "a831f98e",
   "metadata": {},
   "outputs": [],
   "source": [
    "dists"
   ]
  },
  {
   "cell_type": "code",
   "execution_count": null,
   "id": "a34d582c",
   "metadata": {},
   "outputs": [],
   "source": []
  },
  {
   "cell_type": "code",
   "execution_count": null,
   "id": "887fffc7",
   "metadata": {},
   "outputs": [],
   "source": []
  },
  {
   "cell_type": "code",
   "execution_count": null,
   "id": "824963b3",
   "metadata": {},
   "outputs": [],
   "source": []
  },
  {
   "cell_type": "code",
   "execution_count": null,
   "id": "69dadf83",
   "metadata": {},
   "outputs": [],
   "source": [
    "grammar.rule_dict[0][2].graph.edges(data=True)"
   ]
  },
  {
   "cell_type": "code",
   "execution_count": null,
   "id": "9ecce90d",
   "metadata": {},
   "outputs": [],
   "source": [
    "h = nx.Graph()\n",
    "h.add_nodes_from([0, 1, 2, 3, 4, 5])\n",
    "h.add_edges_from([(i, i + 1) for i in range(5)])\n",
    "hgrammar = decompose(h)\n",
    "hgrammarc = decompose_component(h)"
   ]
  },
  {
   "cell_type": "code",
   "execution_count": null,
   "id": "84412681",
   "metadata": {},
   "outputs": [],
   "source": [
    "hgrammar.rule_list"
   ]
  },
  {
   "cell_type": "code",
   "execution_count": null,
   "id": "9cecb2f6",
   "metadata": {},
   "outputs": [],
   "source": [
    "for rule in hgrammarc.rule_list:\n",
    "    print(f'{rule.lhs} -> ', end='')\n",
    "    labels = nx.get_node_attributes(rule.graph, 'label')  # | nx.get_node_attributes(rule.graph, 'b_deg')\n",
    "    nx.draw(rule.graph, labels=labels)\n",
    "    plt.show()"
   ]
  },
  {
   "cell_type": "code",
   "execution_count": null,
   "id": "a5216d54",
   "metadata": {},
   "outputs": [],
   "source": []
  },
  {
   "cell_type": "code",
   "execution_count": null,
   "id": "6085ccea",
   "metadata": {},
   "outputs": [],
   "source": []
  },
  {
   "cell_type": "code",
   "execution_count": null,
   "id": "5e44d482",
   "metadata": {
    "scrolled": true
   },
   "outputs": [],
   "source": [
    "grammar.rule_dict[0][1].graph.nodes(data=True)"
   ]
  },
  {
   "cell_type": "code",
   "execution_count": null,
   "id": "7c19170e",
   "metadata": {},
   "outputs": [],
   "source": [
    "for s in nx.connected_components(graphs[0]):\n",
    "    print(graphs[0].subgraph(s).size())"
   ]
  },
  {
   "cell_type": "code",
   "execution_count": null,
   "id": "9c21934c",
   "metadata": {},
   "outputs": [],
   "source": [
    "newedgesizes = [rule.graph.size() for rule in new_grammar.rule_list]\n",
    "display(sorted(edgesizes))"
   ]
  },
  {
   "cell_type": "code",
   "execution_count": null,
   "id": "bc65e394",
   "metadata": {},
   "outputs": [],
   "source": [
    "for rule in new_grammar.rule_list:\n",
    "    if rule.edit_cost != 0:\n",
    "        print(rule.edit_cost)"
   ]
  },
  {
   "cell_type": "code",
   "execution_count": null,
   "id": "ebc1465e",
   "metadata": {},
   "outputs": [],
   "source": [
    "len(new_grammar.rule_list) - len(grammar.rule_list)"
   ]
  },
  {
   "cell_type": "code",
   "execution_count": null,
   "id": "634ec934",
   "metadata": {},
   "outputs": [],
   "source": [
    "for rule in new_grammar.rule_list:\n",
    "    print(rule.edit_cost)"
   ]
  },
  {
   "cell_type": "code",
   "execution_count": null,
   "id": "6321414b",
   "metadata": {},
   "outputs": [],
   "source": [
    "for rule in new_grammar.rule_list:\n",
    "    print(rule.time)"
   ]
  },
  {
   "cell_type": "code",
   "execution_count": null,
   "id": "8c65e3b0",
   "metadata": {},
   "outputs": [],
   "source": [
    "r0 = grammar.rule_list[0]\n",
    "r0.time"
   ]
  },
  {
   "cell_type": "code",
   "execution_count": null,
   "id": "39b10e90",
   "metadata": {},
   "outputs": [],
   "source": [
    "g0 = grammar.rule_list[0].graph\n",
    "print(g0.order(), g0.size())"
   ]
  },
  {
   "cell_type": "code",
   "execution_count": null,
   "id": "c5e45c88",
   "metadata": {},
   "outputs": [],
   "source": [
    "grammar.rule_list[6].graph.nodes(data=True)"
   ]
  },
  {
   "cell_type": "code",
   "execution_count": null,
   "id": "69ea3849",
   "metadata": {},
   "outputs": [],
   "source": [
    "def node_match(d1, d2):\n",
    "    if d1.keys() != d2.keys():\n",
    "        return False\n",
    "    \n",
    "    if 'label' in d1 and d1['label'] != d2['label']:\n",
    "        return False\n",
    "    \n",
    "    if 'b_deg' in d1 and d1['b_deg'] != d2['b_deg']:\n",
    "        return False\n",
    "    \n",
    "    return True"
   ]
  },
  {
   "cell_type": "code",
   "execution_count": null,
   "id": "34a12b84",
   "metadata": {},
   "outputs": [],
   "source": [
    "%%time\n",
    "edit_dists = [nx.graph_edit_distance(g0, rule.graph, node_match=node_match, timeout=None)\n",
    "              for rule in grammar.rule_list]"
   ]
  },
  {
   "cell_type": "code",
   "execution_count": null,
   "id": "aae9d437",
   "metadata": {},
   "outputs": [],
   "source": [
    "edit_dists"
   ]
  },
  {
   "cell_type": "code",
   "execution_count": null,
   "id": "55ce4b59",
   "metadata": {},
   "outputs": [],
   "source": [
    "%%time\n",
    "opt_edit_dists = []\n",
    "for rule in grammar.rule_list:\n",
    "    g = rule.graph\n",
    "    for val in nx.optimize_graph_edit_distance(g0, g, node_match=node_match):\n",
    "        # print('.', end='')\n",
    "        minval = val\n",
    "    opt_edit_dists += [minval]\n",
    "    # print(f'min: {minval}')"
   ]
  },
  {
   "cell_type": "code",
   "execution_count": null,
   "id": "b6bcfeb0",
   "metadata": {},
   "outputs": [],
   "source": [
    "edit_dists == opt_edit_dists"
   ]
  },
  {
   "cell_type": "code",
   "execution_count": null,
   "id": "27ceff52",
   "metadata": {},
   "outputs": [],
   "source": []
  },
  {
   "cell_type": "code",
   "execution_count": null,
   "id": "16b9b94a",
   "metadata": {},
   "outputs": [],
   "source": []
  },
  {
   "cell_type": "markdown",
   "id": "6f7306dd",
   "metadata": {},
   "source": [
    "# independent sequential experiments"
   ]
  },
  {
   "cell_type": "code",
   "execution_count": null,
   "id": "a4122a38",
   "metadata": {
    "scrolled": false
   },
   "outputs": [],
   "source": [
    "dataname = 'email-eucore'\n",
    "# facebook-links ['weight'] edge missing?\n",
    "lookbacks = [0]\n",
    "\n",
    "base_grammars = {lookback: [] for lookback in lookbacks}\n",
    "joint_grammars = {lookback: [] for lookback in lookbacks}\n",
    "indep_grammars = {lookback: [] for lookback in lookbacks}\n",
    "\n",
    "base_mdls = {lookback: [] for lookback in lookbacks}\n",
    "joint_mdls = {lookback: [] for lookback in lookbacks}\n",
    "joint_lls = {lookback: [] for lookback in lookbacks}\n",
    "indep_mdls = {lookback: [] for lookback in lookbacks}\n",
    "indep_lls = {lookback: [] for lookback in lookbacks}\n",
    "\n",
    "mu = 4\n",
    "for lookback in lookbacks:\n",
    "    loaded = load_data(dataname=dataname, lookback=lookback)\n",
    "    graphs = [g for _, g in loaded]\n",
    "    years = [t for t, _ in loaded][:len(graphs) - 1]\n",
    "    \n",
    "    # graphs, years = read_data(dataname=dataname, lookback=lookback)\n",
    "    \n",
    "    graphs = graphs[0:]\n",
    "    \n",
    "    base_mdl = []\n",
    "    joint_ll = []\n",
    "    joint_mdl = []\n",
    "    indep_ll = []\n",
    "    indep_mdl = []\n",
    "\n",
    "    for idx, (home_graph, away_graph) in enumerate(zip(graphs[:-1], graphs[1:])):\n",
    "        base_grammar = decompose(home_graph, mu=mu)\n",
    "        joint_grammar = update_grammar(base_grammar, home_graph, away_graph, mode='joint')\n",
    "        indep_grammar = update_grammar(base_grammar, home_graph, away_graph, mode='independent')\n",
    "        \n",
    "        base_grammars[lookback] += [base_grammar]\n",
    "        joint_grammars[lookback] += [joint_grammar]\n",
    "        indep_grammars[lookback] += [indep_grammar]\n",
    "        \n",
    "        joint_mdl += [joint_grammar.calculate_cost()]\n",
    "        joint_ll += [joint_grammar.conditional_ll()]\n",
    "        \n",
    "        joint_mdls[lookback] += [joint_grammar.calculate_cost()]\n",
    "        joint_lls[lookback] += [joint_grammar.conditional_ll()]\n",
    "        indep_mdls[lookback] += [indep_grammar.calculate_cost()]\n",
    "        indep_lls[lookback] += [indep_grammar.conditional_ll()]\n",
    "        \n",
    "        base_mdls[lookback] += [base_grammar.calculate_cost()]\n",
    "    \n",
    "    base_grammar = decompose(graphs[-1], mu=mu)\n",
    "    base_grammars[lookback] += [base_grammar]\n",
    "    base_mdls[lookback] += [base_grammar.calculate_cost()]\n",
    "\n",
    "    with open(f'../results/experiment_sequential/{dataname}_base.grammars', 'wb') as outfile:\n",
    "        pickle.dump(base_grammars, outfile)\n",
    "    with open(f'../results/experiment_sequential/{dataname}_joint.grammars', 'wb') as outfile:\n",
    "        pickle.dump(joint_grammars, outfile)\n",
    "    with open(f'../results/experiment_sequential/{dataname}_indep.grammars', 'wb') as outfile:\n",
    "        pickle.dump(indep_grammars, outfile)\n",
    "\n",
    "    with open(f'../results/experiment_sequential/{dataname}_base.mdls', 'wb') as outfile:\n",
    "        pickle.dump(base_mdls, outfile)\n",
    "    with open(f'../results/experiment_sequential/{dataname}_joint.mdls', 'wb') as outfile:\n",
    "        pickle.dump(joint_mdls, outfile)\n",
    "    with open(f'../results/experiment_sequential/{dataname}_joint.lls', 'wb') as outfile:\n",
    "        pickle.dump(joint_lls, outfile)\n",
    "    with open(f'../results/experiment_sequential/{dataname}_indep.mdls', 'wb') as outfile:\n",
    "        pickle.dump(indep_mdls, outfile)\n",
    "    with open(f'../results/experiment_sequential/{dataname}_indep.lls', 'wb') as outfile:\n",
    "        pickle.dump(indep_lls, outfile)"
   ]
  },
  {
   "cell_type": "code",
   "execution_count": null,
   "id": "6cc89203",
   "metadata": {},
   "outputs": [],
   "source": [
    "print('hi')"
   ]
  },
  {
   "cell_type": "code",
   "execution_count": null,
   "id": "c6ee200f",
   "metadata": {},
   "outputs": [],
   "source": []
  },
  {
   "cell_type": "code",
   "execution_count": null,
   "id": "1267697b",
   "metadata": {},
   "outputs": [],
   "source": [
    "loaded = load_data(dataname='email-dnc', lookback=0)\n",
    "graphs = [g for _, g in loaded]\n",
    "[(g.order(), g.size()) for g in graphs]"
   ]
  },
  {
   "cell_type": "code",
   "execution_count": null,
   "id": "54a118cf",
   "metadata": {
    "scrolled": true
   },
   "outputs": [],
   "source": [
    "loaded = load_data(dataname='facebook-links', lookback=0)\n",
    "graphs = [g for _, g in loaded]\n",
    "[(g.order(), g.size()) for g in graphs]\n",
    "#[(len(set(cur.nodes()) & set(nxt.nodes())), len(set(cur.edges()) & set(nxt.edges()))) for cur, nxt in zip(graphs[:-1], graphs[1:])]"
   ]
  },
  {
   "cell_type": "code",
   "execution_count": null,
   "id": "2a6aaa51",
   "metadata": {},
   "outputs": [],
   "source": [
    "graphs, _ = read_data(dataname='fb-messages', lookback=0)\n",
    "[(len(set(cur.nodes()) & set(nxt.nodes())), len(set(cur.edges()) & set(nxt.edges()))) for cur, nxt in zip(graphs[:-1], graphs[1:])]"
   ]
  },
  {
   "cell_type": "code",
   "execution_count": null,
   "id": "87a2b8d6",
   "metadata": {},
   "outputs": [],
   "source": []
  },
  {
   "cell_type": "code",
   "execution_count": null,
   "id": "1eb50272",
   "metadata": {
    "scrolled": false
   },
   "outputs": [],
   "source": [
    "joint_lls"
   ]
  },
  {
   "cell_type": "code",
   "execution_count": null,
   "id": "40e51546",
   "metadata": {},
   "outputs": [],
   "source": [
    "indep_lls"
   ]
  },
  {
   "cell_type": "code",
   "execution_count": null,
   "id": "895ae0cd",
   "metadata": {},
   "outputs": [],
   "source": []
  },
  {
   "cell_type": "code",
   "execution_count": null,
   "id": "bdfda3c0",
   "metadata": {
    "scrolled": true
   },
   "outputs": [],
   "source": [
    "#with plt.style.context(['ipynb', 'use_mathtext', 'colors5-light']):\n",
    "plt.title(f'sequential experiments: {dataname}, lookback {lookback}')\n",
    "plt.xlabel('time')\n",
    "plt.ylabel('log likelihood')\n",
    "plt.plot(range(len(years)), joint_lls[0], label='joint model')\n",
    "plt.plot(range(len(years)), indep_lls[0], label='independent model')\n",
    "plt.legend(loc='upper left', bbox_to_anchor=(1, 1))\n",
    "plt.ticklabel_format(style='plain')\n",
    "    #plt.savefig(f'../figures/exp3_{dataname}_{cumulative}.svg')"
   ]
  },
  {
   "cell_type": "code",
   "execution_count": null,
   "id": "2bd4e0af",
   "metadata": {
    "scrolled": true
   },
   "outputs": [],
   "source": [
    "#with plt.style.context(['ipynb', 'use_mathtext', 'colors5-light']):\n",
    "plt.title(f'sequential experiments: {dataname}, lookback {lookback}')\n",
    "plt.xlabel('time')\n",
    "plt.ylabel('minimal description length')\n",
    "plt.plot(range(len(years)), joint_mdls[0], label='joint model')\n",
    "plt.plot(range(len(years)), indep_mdls[0], label='independent model')\n",
    "plt.plot(range(len(years)), [base_mdls[0] for _ in years], label='base model')\n",
    "plt.legend(loc='upper left', bbox_to_anchor=(1, 1))\n",
    "plt.ticklabel_format(style='plain')\n",
    "    #plt.savefig(f'../figures/exp3_{dataname}_{cumulative}.svg')"
   ]
  },
  {
   "cell_type": "code",
   "execution_count": null,
   "id": "fb5f7094",
   "metadata": {},
   "outputs": [],
   "source": [
    "base_mdls"
   ]
  },
  {
   "cell_type": "code",
   "execution_count": null,
   "id": "b3a0067e",
   "metadata": {},
   "outputs": [],
   "source": []
  },
  {
   "cell_type": "markdown",
   "id": "47a91b33",
   "metadata": {},
   "source": [
    "# accumulated sequential experiments"
   ]
  },
  {
   "cell_type": "code",
   "execution_count": null,
   "id": "bfede589",
   "metadata": {},
   "outputs": [],
   "source": []
  },
  {
   "cell_type": "code",
   "execution_count": null,
   "id": "29dfb920",
   "metadata": {},
   "outputs": [],
   "source": []
  }
 ],
 "metadata": {
  "kernelspec": {
   "display_name": "Python 3",
   "language": "python",
   "name": "python3"
  },
  "language_info": {
   "codemirror_mode": {
    "name": "ipython",
    "version": 3
   },
   "file_extension": ".py",
   "mimetype": "text/x-python",
   "name": "python",
   "nbconvert_exporter": "python",
   "pygments_lexer": "ipython3",
   "version": "3.9.5"
  }
 },
 "nbformat": 4,
 "nbformat_minor": 5
}
