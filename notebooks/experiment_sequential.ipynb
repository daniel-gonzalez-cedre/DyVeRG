{
 "cells": [
  {
   "cell_type": "code",
   "execution_count": 1,
   "id": "2109d799",
   "metadata": {},
   "outputs": [],
   "source": [
    "import sys\n",
    "import random\n",
    "import pickle\n",
    "from os.path import join\n",
    "\n",
    "sys.path.append('..')\n",
    "\n",
    "import numpy as np\n",
    "import networkx as nx\n",
    "\n",
    "from cnrg.VRG import VRG as VRG\n",
    "from cnrg.LightMultiGraph import LightMultiGraph as LightMultiGraph\n",
    "\n",
    "import matplotlib.pyplot as plt\n",
    "import seaborn as sns\n",
    "%matplotlib inline"
   ]
  },
  {
   "cell_type": "code",
   "execution_count": 2,
   "id": "e42cc78c",
   "metadata": {},
   "outputs": [],
   "source": [
    "sys.path.append('../src')\n",
    "from utils import silence\n",
    "from data import load_data\n",
    "# from data_old import read_data\n",
    "from bookkeeping import convert_LMG, decompose, decompose_component\n",
    "from update_grammar import update_grammar"
   ]
  },
  {
   "cell_type": "code",
   "execution_count": 3,
   "id": "44f5e783",
   "metadata": {},
   "outputs": [],
   "source": [
    "loaded = load_data(dataname='email-eucore', lookback=0)\n",
    "graphs = [g for _, g in loaded]"
   ]
  },
  {
   "cell_type": "code",
   "execution_count": 4,
   "id": "e28d1e7a",
   "metadata": {},
   "outputs": [
    {
     "name": "stderr",
     "output_type": "stream",
     "text": [
      "100%|███████████████████████████████|[00:00<00:00]\n",
      "WARNING:root:graph: , mu: 4, type: mu_level_dl clustering: leiden rules: 234(234) mdl: 32_686.1 bits generated in 0.374 secs\n",
      "\n",
      "100%|███████████████████████████████|[00:00<00:00]\n",
      "WARNING:root:graph: , mu: 4, type: mu_level_dl clustering: leiden rules: 1(1) mdl: 103.345 bits generated in 0.001 secs\n",
      "\n",
      "100%|███████████████████████████████|[00:00<00:00]\n",
      "WARNING:root:graph: , mu: 4, type: mu_level_dl clustering: leiden rules: 1(1) mdl: 22.288 bits generated in 0.001 secs\n",
      "\n",
      "100%|███████████████████████████████|[00:00<00:00]\n",
      "WARNING:root:graph: , mu: 4, type: mu_level_dl clustering: leiden rules: 1(1) mdl: 22.288 bits generated in 0.001 secs\n",
      "\n",
      "100%|███████████████████████████████|[00:00<00:00]\n",
      "WARNING:root:graph: , mu: 4, type: mu_level_dl clustering: leiden rules: 1(1) mdl: 22.288 bits generated in 0.001 secs\n",
      "\n"
     ]
    },
    {
     "name": "stdout",
     "output_type": "stream",
     "text": [
      "\n"
     ]
    }
   ],
   "source": [
    "grammar = decompose(graphs[0])"
   ]
  },
  {
   "cell_type": "code",
   "execution_count": 6,
   "id": "b319f4cb",
   "metadata": {
    "scrolled": true
   },
   "outputs": [
    {
     "name": "stderr",
     "output_type": "stream",
     "text": [
      "joint changes: 1:   0%|          | 0/44 [00:00<?, ?it/s]WARNING:root:graph: , mu: 4, type: mu_level_dl clustering: leiden rules: 1(1) mdl: 22.288 bits generated in 0.0 secs\n",
      "\n",
      "joint changes: 1:   2%|▏         | 1/44 [00:01<00:46,  1.09s/it]WARNING:root:graph: , mu: 4, type: mu_level_dl clustering: leiden rules: 1(1) mdl: 22.288 bits generated in 0.0 secs\n",
      "\n",
      "joint changes: 1:   5%|▍         | 2/44 [00:02<00:45,  1.09s/it]WARNING:root:graph: , mu: 4, type: mu_level_dl clustering: leiden rules: 2(2) mdl: 140.286 bits generated in 0.001 secs\n",
      "\n",
      "joint changes: 1:   7%|▋         | 3/44 [00:03<00:45,  1.10s/it]WARNING:root:graph: , mu: 4, type: mu_level_dl clustering: leiden rules: 1(1) mdl: 22.288 bits generated in 0.0 secs\n",
      "\n",
      "joint changes: 1:   9%|▉         | 4/44 [00:04<00:44,  1.11s/it]WARNING:root:graph: , mu: 4, type: mu_level_dl clustering: leiden rules: 1(1) mdl: 59.448 bits generated in 0.0 secs\n",
      "\n",
      "joint changes: 1:  11%|█▏        | 5/44 [00:05<00:43,  1.12s/it]WARNING:root:graph: , mu: 4, type: mu_level_dl clustering: leiden rules: 1(1) mdl: 103.345 bits generated in 0.0 secs\n",
      "\n",
      "joint changes: 1:  14%|█▎        | 6/44 [00:06<00:42,  1.13s/it]WARNING:root:graph: , mu: 4, type: mu_level_dl clustering: leiden rules: 1(1) mdl: 22.288 bits generated in 0.0 secs\n",
      "\n",
      "joint changes: 1:  16%|█▌        | 7/44 [00:07<00:41,  1.13s/it]WARNING:root:graph: , mu: 4, type: mu_level_dl clustering: leiden rules: 1(1) mdl: 40.16 bits generated in 0.0 secs\n",
      "\n",
      "joint changes: 1:  18%|█▊        | 8/44 [00:09<00:41,  1.14s/it]WARNING:root:graph: , mu: 4, type: mu_level_dl clustering: leiden rules: 3(3) mdl: 237.436 bits generated in 0.001 secs\n",
      "\n",
      "joint changes: 1:  20%|██        | 9/44 [00:10<00:40,  1.16s/it]WARNING:root:graph: , mu: 4, type: mu_level_dl clustering: leiden rules: 1(1) mdl: 59.448 bits generated in 0.0 secs\n",
      "\n",
      "joint changes: 1:  23%|██▎       | 10/44 [00:11<00:39,  1.17s/it]WARNING:root:graph: , mu: 4, type: mu_level_dl clustering: leiden rules: 1(1) mdl: 22.288 bits generated in 0.0 secs\n",
      "\n",
      "joint changes: 1:  25%|██▌       | 11/44 [00:12<00:39,  1.18s/it]WARNING:root:graph: , mu: 4, type: mu_level_dl clustering: leiden rules: 3(3) mdl: 148.484 bits generated in 0.001 secs\n",
      "\n",
      "joint changes: 1:  27%|██▋       | 12/44 [00:13<00:38,  1.21s/it]WARNING:root:graph: , mu: 4, type: mu_level_dl clustering: leiden rules: 1(1) mdl: 22.288 bits generated in 0.0 secs\n",
      "\n",
      "joint changes: 1:  30%|██▉       | 13/44 [00:15<00:37,  1.22s/it]WARNING:root:graph: , mu: 4, type: mu_level_dl clustering: leiden rules: 1(1) mdl: 22.288 bits generated in 0.0 secs\n",
      "\n",
      "joint changes: 1:  32%|███▏      | 14/44 [00:16<00:36,  1.23s/it]WARNING:root:graph: , mu: 4, type: mu_level_dl clustering: leiden rules: 1(1) mdl: 22.288 bits generated in 0.0 secs\n",
      "\n",
      "joint changes: 1:  34%|███▍      | 15/44 [00:17<00:35,  1.24s/it]WARNING:root:graph: , mu: 4, type: mu_level_dl clustering: leiden rules: 1(1) mdl: 40.16 bits generated in 0.0 secs\n",
      "\n",
      "joint changes: 1:  36%|███▋      | 16/44 [00:18<00:35,  1.25s/it]WARNING:root:graph: , mu: 4, type: mu_level_dl clustering: leiden rules: 1(1) mdl: 22.288 bits generated in 0.0 secs\n",
      "\n",
      "joint changes: 1:  39%|███▊      | 17/44 [00:20<00:34,  1.27s/it]WARNING:root:graph: , mu: 4, type: mu_level_dl clustering: leiden rules: 1(1) mdl: 22.288 bits generated in 0.0 secs\n",
      "\n",
      "joint changes: 1:  41%|████      | 18/44 [00:21<00:33,  1.28s/it]WARNING:root:graph: , mu: 4, type: mu_level_dl clustering: leiden rules: 2(2) mdl: 110.886 bits generated in 0.001 secs\n",
      "\n",
      "joint changes: 1:  43%|████▎     | 19/44 [00:22<00:32,  1.29s/it]WARNING:root:graph: , mu: 4, type: mu_level_dl clustering: leiden rules: 1(1) mdl: 22.288 bits generated in 0.0 secs\n",
      "\n",
      "joint changes: 1:  45%|████▌     | 20/44 [00:24<00:31,  1.30s/it]WARNING:root:graph: , mu: 4, type: mu_level_dl clustering: leiden rules: 1(1) mdl: 22.288 bits generated in 0.0 secs\n",
      "\n",
      "joint changes: 1:  48%|████▊     | 21/44 [00:25<00:30,  1.31s/it]WARNING:root:graph: , mu: 4, type: mu_level_dl clustering: leiden rules: 1(1) mdl: 40.16 bits generated in 0.0 secs\n",
      "\n",
      "joint changes: 1:  50%|█████     | 22/44 [00:26<00:28,  1.32s/it]WARNING:root:graph: , mu: 4, type: mu_level_dl clustering: leiden rules: 1(1) mdl: 40.16 bits generated in 0.0 secs\n",
      "\n",
      "joint changes: 1:  52%|█████▏    | 23/44 [00:28<00:27,  1.33s/it]WARNING:root:graph: , mu: 4, type: mu_level_dl clustering: leiden rules: 1(1) mdl: 22.288 bits generated in 0.0 secs\n",
      "\n",
      "joint changes: 1:  55%|█████▍    | 24/44 [00:29<00:26,  1.34s/it]WARNING:root:graph: , mu: 4, type: mu_level_dl clustering: leiden rules: 1(1) mdl: 22.288 bits generated in 0.0 secs\n",
      "\n",
      "joint changes: 1:  57%|█████▋    | 25/44 [00:30<00:25,  1.35s/it]WARNING:root:graph: , mu: 4, type: mu_level_dl clustering: leiden rules: 1(1) mdl: 22.288 bits generated in 0.0 secs\n",
      "\n",
      "joint changes: 1:  59%|█████▉    | 26/44 [00:32<00:24,  1.36s/it]WARNING:root:graph: , mu: 4, type: mu_level_dl clustering: leiden rules: 1(1) mdl: 22.288 bits generated in 0.0 secs\n",
      "\n",
      "joint changes: 1:  61%|██████▏   | 27/44 [00:33<00:23,  1.40s/it]WARNING:root:graph: , mu: 4, type: mu_level_dl clustering: leiden rules: 1(1) mdl: 40.16 bits generated in 0.0 secs\n",
      "\n",
      "joint changes: 1:  64%|██████▎   | 28/44 [00:35<00:22,  1.41s/it]WARNING:root:graph: , mu: 4, type: mu_level_dl clustering: leiden rules: 1(1) mdl: 22.288 bits generated in 0.0 secs\n",
      "\n",
      "joint changes: 1:  66%|██████▌   | 29/44 [00:36<00:21,  1.41s/it]WARNING:root:graph: , mu: 4, type: mu_level_dl clustering: leiden rules: 1(1) mdl: 22.288 bits generated in 0.0 secs\n",
      "\n",
      "joint changes: 1:  68%|██████▊   | 30/44 [00:38<00:19,  1.42s/it]WARNING:root:graph: , mu: 4, type: mu_level_dl clustering: leiden rules: 1(1) mdl: 22.288 bits generated in 0.0 secs\n",
      "\n",
      "joint changes: 1:  70%|███████   | 31/44 [00:39<00:18,  1.43s/it]WARNING:root:graph: , mu: 4, type: mu_level_dl clustering: leiden rules: 1(1) mdl: 22.288 bits generated in 0.0 secs\n",
      "\n",
      "joint changes: 1:  73%|███████▎  | 32/44 [00:41<00:17,  1.44s/it]WARNING:root:graph: , mu: 4, type: mu_level_dl clustering: leiden rules: 1(1) mdl: 22.288 bits generated in 0.0 secs\n",
      "\n",
      "joint changes: 1:  75%|███████▌  | 33/44 [00:42<00:16,  1.46s/it]WARNING:root:graph: , mu: 4, type: mu_level_dl clustering: leiden rules: 2(2) mdl: 110.886 bits generated in 0.001 secs\n",
      "\n",
      "joint changes: 1:  77%|███████▋  | 34/44 [00:44<00:14,  1.47s/it]WARNING:root:graph: , mu: 4, type: mu_level_dl clustering: leiden rules: 1(1) mdl: 22.288 bits generated in 0.0 secs\n",
      "\n",
      "joint changes: 1:  80%|███████▉  | 35/44 [00:45<00:13,  1.49s/it]WARNING:root:graph: , mu: 4, type: mu_level_dl clustering: leiden rules: 1(1) mdl: 22.288 bits generated in 0.0 secs\n",
      "\n",
      "joint changes: 1:  82%|████████▏ | 36/44 [00:47<00:11,  1.50s/it]WARNING:root:graph: , mu: 4, type: mu_level_dl clustering: leiden rules: 1(1) mdl: 22.288 bits generated in 0.0 secs\n",
      "\n",
      "joint changes: 1:  84%|████████▍ | 37/44 [00:48<00:10,  1.51s/it]WARNING:root:graph: , mu: 4, type: mu_level_dl clustering: leiden rules: 1(1) mdl: 22.288 bits generated in 0.0 secs\n",
      "\n",
      "joint changes: 1:  86%|████████▋ | 38/44 [00:50<00:09,  1.52s/it]WARNING:root:graph: , mu: 4, type: mu_level_dl clustering: leiden rules: 1(1) mdl: 22.288 bits generated in 0.0 secs\n",
      "\n",
      "joint changes: 1:  89%|████████▊ | 39/44 [00:51<00:07,  1.53s/it]WARNING:root:graph: , mu: 4, type: mu_level_dl clustering: leiden rules: 1(1) mdl: 22.288 bits generated in 0.0 secs\n",
      "\n",
      "joint changes: 1:  91%|█████████ | 40/44 [00:53<00:06,  1.57s/it]WARNING:root:graph: , mu: 4, type: mu_level_dl clustering: leiden rules: 1(1) mdl: 22.288 bits generated in 0.0 secs\n",
      "\n",
      "joint changes: 1:  93%|█████████▎| 41/44 [00:54<00:04,  1.58s/it]WARNING:root:graph: , mu: 4, type: mu_level_dl clustering: leiden rules: 1(1) mdl: 22.288 bits generated in 0.0 secs\n",
      "\n",
      "joint changes: 1:  95%|█████████▌| 42/44 [00:56<00:03,  1.59s/it]WARNING:root:graph: , mu: 4, type: mu_level_dl clustering: leiden rules: 1(1) mdl: 22.288 bits generated in 0.0 secs\n",
      "\n",
      "joint changes: 1:  98%|█████████▊| 43/44 [00:58<00:01,  1.61s/it]WARNING:root:graph: , mu: 4, type: mu_level_dl clustering: leiden rules: 1(1) mdl: 22.288 bits generated in 0.0 secs\n",
      "\n",
      "joint changes: 1: 100%|██████████| 44/44 [00:59<00:00,  1.36s/it]\n",
      "additions: 1: 100%|██████████| 2207/2207 [00:20<00:00, 109.13it/s]\n"
     ]
    }
   ],
   "source": [
    "new_grammar = update_grammar(grammar, graphs[0], graphs[1], time=0, mode='joint')"
   ]
  },
  {
   "cell_type": "code",
   "execution_count": null,
   "id": "68200e42",
   "metadata": {},
   "outputs": [],
   "source": []
  },
  {
   "cell_type": "code",
   "execution_count": null,
   "id": "2ffef807",
   "metadata": {},
   "outputs": [],
   "source": []
  },
  {
   "cell_type": "code",
   "execution_count": null,
   "id": "c0137edf",
   "metadata": {},
   "outputs": [],
   "source": []
  },
  {
   "cell_type": "markdown",
   "id": "6f7306dd",
   "metadata": {},
   "source": [
    "# independent sequential experiments"
   ]
  },
  {
   "cell_type": "code",
   "execution_count": null,
   "id": "a4122a38",
   "metadata": {
    "scrolled": false
   },
   "outputs": [],
   "source": [
    "dataname = 'email-eucore'\n",
    "# facebook-links ['weight'] edge missing?\n",
    "lookbacks = [0]\n",
    "\n",
    "base_grammars = {lookback: [] for lookback in lookbacks}\n",
    "joint_grammars = {lookback: [] for lookback in lookbacks}\n",
    "indep_grammars = {lookback: [] for lookback in lookbacks}\n",
    "\n",
    "base_mdls = {lookback: [] for lookback in lookbacks}\n",
    "joint_mdls = {lookback: [] for lookback in lookbacks}\n",
    "joint_lls = {lookback: [] for lookback in lookbacks}\n",
    "indep_mdls = {lookback: [] for lookback in lookbacks}\n",
    "indep_lls = {lookback: [] for lookback in lookbacks}\n",
    "\n",
    "mu = 4\n",
    "for lookback in lookbacks:\n",
    "    loaded = load_data(dataname=dataname, lookback=lookback)\n",
    "    graphs = [g for _, g in loaded]\n",
    "    years = [t for t, _ in loaded][:len(graphs) - 1]\n",
    "    \n",
    "    # graphs, years = read_data(dataname=dataname, lookback=lookback)\n",
    "    \n",
    "    graphs = graphs[0:]\n",
    "    \n",
    "    base_mdl = []\n",
    "    joint_ll = []\n",
    "    joint_mdl = []\n",
    "    indep_ll = []\n",
    "    indep_mdl = []\n",
    "\n",
    "    for idx, (home_graph, away_graph) in enumerate(zip(graphs[:-1], graphs[1:])):\n",
    "        base_grammar = decompose(home_graph, mu=mu)\n",
    "        joint_grammar = update_grammar(base_grammar, home_graph, away_graph, mode='joint')\n",
    "        indep_grammar = update_grammar(base_grammar, home_graph, away_graph, mode='independent')\n",
    "        \n",
    "        base_grammars[lookback] += [base_grammar]\n",
    "        joint_grammars[lookback] += [joint_grammar]\n",
    "        indep_grammars[lookback] += [indep_grammar]\n",
    "        \n",
    "        joint_mdl += [joint_grammar.calculate_cost()]\n",
    "        joint_ll += [joint_grammar.conditional_ll()]\n",
    "        \n",
    "        joint_mdls[lookback] += [joint_grammar.calculate_cost()]\n",
    "        joint_lls[lookback] += [joint_grammar.conditional_ll()]\n",
    "        indep_mdls[lookback] += [indep_grammar.calculate_cost()]\n",
    "        indep_lls[lookback] += [indep_grammar.conditional_ll()]\n",
    "        \n",
    "        base_mdls[lookback] += [base_grammar.calculate_cost()]\n",
    "    \n",
    "    base_grammar = decompose(graphs[-1], mu=mu)\n",
    "    base_grammars[lookback] += [base_grammar]\n",
    "    base_mdls[lookback] += [base_grammar.calculate_cost()]\n",
    "\n",
    "    with open(f'../results/experiment_sequential/{dataname}_base.grammars', 'wb') as outfile:\n",
    "        pickle.dump(base_grammars, outfile)\n",
    "    with open(f'../results/experiment_sequential/{dataname}_joint.grammars', 'wb') as outfile:\n",
    "        pickle.dump(joint_grammars, outfile)\n",
    "    with open(f'../results/experiment_sequential/{dataname}_indep.grammars', 'wb') as outfile:\n",
    "        pickle.dump(indep_grammars, outfile)\n",
    "\n",
    "    with open(f'../results/experiment_sequential/{dataname}_base.mdls', 'wb') as outfile:\n",
    "        pickle.dump(base_mdls, outfile)\n",
    "    with open(f'../results/experiment_sequential/{dataname}_joint.mdls', 'wb') as outfile:\n",
    "        pickle.dump(joint_mdls, outfile)\n",
    "    with open(f'../results/experiment_sequential/{dataname}_joint.lls', 'wb') as outfile:\n",
    "        pickle.dump(joint_lls, outfile)\n",
    "    with open(f'../results/experiment_sequential/{dataname}_indep.mdls', 'wb') as outfile:\n",
    "        pickle.dump(indep_mdls, outfile)\n",
    "    with open(f'../results/experiment_sequential/{dataname}_indep.lls', 'wb') as outfile:\n",
    "        pickle.dump(indep_lls, outfile)"
   ]
  },
  {
   "cell_type": "code",
   "execution_count": null,
   "id": "6cc89203",
   "metadata": {},
   "outputs": [],
   "source": [
    "print('hi')"
   ]
  },
  {
   "cell_type": "code",
   "execution_count": null,
   "id": "c6ee200f",
   "metadata": {},
   "outputs": [],
   "source": []
  },
  {
   "cell_type": "code",
   "execution_count": null,
   "id": "1267697b",
   "metadata": {},
   "outputs": [],
   "source": [
    "loaded = load_data(dataname='email-dnc', lookback=0)\n",
    "graphs = [g for _, g in loaded]\n",
    "[(g.order(), g.size()) for g in graphs]"
   ]
  },
  {
   "cell_type": "code",
   "execution_count": null,
   "id": "54a118cf",
   "metadata": {
    "scrolled": true
   },
   "outputs": [],
   "source": [
    "loaded = load_data(dataname='facebook-links', lookback=0)\n",
    "graphs = [g for _, g in loaded]\n",
    "[(g.order(), g.size()) for g in graphs]\n",
    "#[(len(set(cur.nodes()) & set(nxt.nodes())), len(set(cur.edges()) & set(nxt.edges()))) for cur, nxt in zip(graphs[:-1], graphs[1:])]"
   ]
  },
  {
   "cell_type": "code",
   "execution_count": null,
   "id": "2a6aaa51",
   "metadata": {},
   "outputs": [],
   "source": [
    "graphs, _ = read_data(dataname='fb-messages', lookback=0)\n",
    "[(len(set(cur.nodes()) & set(nxt.nodes())), len(set(cur.edges()) & set(nxt.edges()))) for cur, nxt in zip(graphs[:-1], graphs[1:])]"
   ]
  },
  {
   "cell_type": "code",
   "execution_count": null,
   "id": "87a2b8d6",
   "metadata": {},
   "outputs": [],
   "source": []
  },
  {
   "cell_type": "code",
   "execution_count": null,
   "id": "1eb50272",
   "metadata": {
    "scrolled": false
   },
   "outputs": [],
   "source": [
    "joint_lls"
   ]
  },
  {
   "cell_type": "code",
   "execution_count": null,
   "id": "40e51546",
   "metadata": {},
   "outputs": [],
   "source": [
    "indep_lls"
   ]
  },
  {
   "cell_type": "code",
   "execution_count": null,
   "id": "895ae0cd",
   "metadata": {},
   "outputs": [],
   "source": []
  },
  {
   "cell_type": "code",
   "execution_count": null,
   "id": "bdfda3c0",
   "metadata": {
    "scrolled": true
   },
   "outputs": [],
   "source": [
    "#with plt.style.context(['ipynb', 'use_mathtext', 'colors5-light']):\n",
    "plt.title(f'sequential experiments: {dataname}, lookback {lookback}')\n",
    "plt.xlabel('time')\n",
    "plt.ylabel('log likelihood')\n",
    "plt.plot(range(len(years)), joint_lls[0], label='joint model')\n",
    "plt.plot(range(len(years)), indep_lls[0], label='independent model')\n",
    "plt.legend(loc='upper left', bbox_to_anchor=(1, 1))\n",
    "plt.ticklabel_format(style='plain')\n",
    "    #plt.savefig(f'../figures/exp3_{dataname}_{cumulative}.svg')"
   ]
  },
  {
   "cell_type": "code",
   "execution_count": null,
   "id": "2bd4e0af",
   "metadata": {
    "scrolled": true
   },
   "outputs": [],
   "source": [
    "#with plt.style.context(['ipynb', 'use_mathtext', 'colors5-light']):\n",
    "plt.title(f'sequential experiments: {dataname}, lookback {lookback}')\n",
    "plt.xlabel('time')\n",
    "plt.ylabel('minimal description length')\n",
    "plt.plot(range(len(years)), joint_mdls[0], label='joint model')\n",
    "plt.plot(range(len(years)), indep_mdls[0], label='independent model')\n",
    "plt.plot(range(len(years)), [base_mdls[0] for _ in years], label='base model')\n",
    "plt.legend(loc='upper left', bbox_to_anchor=(1, 1))\n",
    "plt.ticklabel_format(style='plain')\n",
    "    #plt.savefig(f'../figures/exp3_{dataname}_{cumulative}.svg')"
   ]
  },
  {
   "cell_type": "code",
   "execution_count": null,
   "id": "fb5f7094",
   "metadata": {},
   "outputs": [],
   "source": [
    "base_mdls"
   ]
  },
  {
   "cell_type": "code",
   "execution_count": null,
   "id": "b3a0067e",
   "metadata": {},
   "outputs": [],
   "source": []
  },
  {
   "cell_type": "markdown",
   "id": "47a91b33",
   "metadata": {},
   "source": [
    "# accumulated sequential experiments"
   ]
  },
  {
   "cell_type": "code",
   "execution_count": null,
   "id": "bfede589",
   "metadata": {},
   "outputs": [],
   "source": []
  },
  {
   "cell_type": "code",
   "execution_count": null,
   "id": "29dfb920",
   "metadata": {},
   "outputs": [],
   "source": []
  }
 ],
 "metadata": {
  "kernelspec": {
   "display_name": "Python 3",
   "language": "python",
   "name": "python3"
  },
  "language_info": {
   "codemirror_mode": {
    "name": "ipython",
    "version": 3
   },
   "file_extension": ".py",
   "mimetype": "text/x-python",
   "name": "python",
   "nbconvert_exporter": "python",
   "pygments_lexer": "ipython3",
   "version": "3.9.5"
  }
 },
 "nbformat": 4,
 "nbformat_minor": 5
}
