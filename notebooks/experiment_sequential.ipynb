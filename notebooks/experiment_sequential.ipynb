{
 "cells": [
  {
   "cell_type": "code",
   "execution_count": 1,
   "id": "2109d799",
   "metadata": {},
   "outputs": [],
   "source": [
    "import sys\n",
    "import random\n",
    "import pickle\n",
    "from os.path import join\n",
    "\n",
    "sys.path.append('..')\n",
    "\n",
    "import numpy as np\n",
    "import networkx as nx\n",
    "\n",
    "from cnrg.VRG import VRG as VRG\n",
    "from cnrg.LightMultiGraph import convert\n",
    "from cnrg.LightMultiGraph import LightMultiGraph as LightMultiGraph\n",
    "\n",
    "import matplotlib.pyplot as plt\n",
    "import seaborn as sns\n",
    "%matplotlib inline"
   ]
  },
  {
   "cell_type": "code",
   "execution_count": 2,
   "id": "e42cc78c",
   "metadata": {},
   "outputs": [],
   "source": [
    "sys.path.append('../src')\n",
    "from utils import silence\n",
    "from data import load_data\n",
    "# from data_old import read_data\n",
    "from decomposition import decompose, decompose_component\n",
    "from graph_transitions import update_grammar\n",
    "from utils import silence, find, replace\n",
    "from utils import graph_edit_distance as ged"
   ]
  },
  {
   "cell_type": "code",
   "execution_count": 3,
   "id": "44f5e783",
   "metadata": {},
   "outputs": [],
   "source": [
    "loaded = load_data(dataname='email-eucore', lookback=0)\n",
    "graphs = [g for _, g in loaded]"
   ]
  },
  {
   "cell_type": "code",
   "execution_count": 4,
   "id": "e28d1e7a",
   "metadata": {
    "scrolled": true
   },
   "outputs": [
    {
     "name": "stderr",
     "output_type": "stream",
     "text": [
      "100%|███████████████████████████████|[00:00<00:00]\n",
      "100%|███████████████████████████████|[00:00<00:00]\n",
      "100%|███████████████████████████████|[00:00<00:00]\n",
      "100%|███████████████████████████████|[00:00<00:00]\n",
      "100%|███████████████████████████████|[00:00<00:00]\n"
     ]
    }
   ],
   "source": [
    "grammar = decompose(graphs[0], time=0)"
   ]
  },
  {
   "cell_type": "code",
   "execution_count": 9,
   "id": "ce81d906",
   "metadata": {
    "scrolled": true
   },
   "outputs": [
    {
     "name": "stderr",
     "output_type": "stream",
     "text": [
      "joint changes: 100%|██████████| 44/44 [02:41<00:00,  3.66s/it]\n",
      "additions: 100%|██████████| 2207/2207 [00:02<00:00, 784.30it/s]"
     ]
    },
    {
     "name": "stdout",
     "output_type": "stream",
     "text": [
      "graph: , mu: 4, type: mu_level_dl clustering: leiden rules: 241(240) mdl: 26_931.7 bits\n",
      "-7.716015266642587\n"
     ]
    },
    {
     "name": "stderr",
     "output_type": "stream",
     "text": [
      "\n"
     ]
    }
   ],
   "source": [
    "joint_grammar = update_grammar(grammar, graphs[0], graphs[1], 1, mode='joint')\n",
    "print(joint_grammar.ll())"
   ]
  },
  {
   "cell_type": "code",
   "execution_count": 10,
   "id": "fb116a95",
   "metadata": {
    "scrolled": true
   },
   "outputs": [
    {
     "name": "stderr",
     "output_type": "stream",
     "text": [
      "additions: 100%|██████████| 2289/2289 [00:01<00:00, 1455.83it/s]"
     ]
    },
    {
     "name": "stdout",
     "output_type": "stream",
     "text": [
      "graph: , mu: 4, type: mu_level_dl clustering: leiden rules: 232(231) mdl: 26_034.7 bits\n",
      "-7.734121303328305\n"
     ]
    },
    {
     "name": "stderr",
     "output_type": "stream",
     "text": [
      "\n"
     ]
    }
   ],
   "source": [
    "indep_grammar = update_grammar(grammar, graphs[0], graphs[1], 1, mode='indep')\n",
    "print(indep_grammar.ll())"
   ]
  },
  {
   "cell_type": "code",
   "execution_count": null,
   "id": "8e946bf9",
   "metadata": {},
   "outputs": [],
   "source": []
  },
  {
   "cell_type": "code",
   "execution_count": 5,
   "id": "b5469183",
   "metadata": {},
   "outputs": [],
   "source": [
    "n = graphs[1].order()\n",
    "p = (2 * graphs[1].size()) / (n * (n - 1))\n",
    "er = nx.fast_gnp_random_graph(graphs[1].order(), p)"
   ]
  },
  {
   "cell_type": "code",
   "execution_count": 6,
   "id": "37a7ef15",
   "metadata": {
    "scrolled": false
   },
   "outputs": [
    {
     "name": "stdout",
     "output_type": "stream",
     "text": [
      "702 3463\n",
      "702 3472\n"
     ]
    }
   ],
   "source": [
    "print(graphs[1].order(), graphs[1].size())\n",
    "print(er.order(), er.size())"
   ]
  },
  {
   "cell_type": "code",
   "execution_count": 11,
   "id": "c5f7fece",
   "metadata": {},
   "outputs": [
    {
     "name": "stderr",
     "output_type": "stream",
     "text": [
      "joint changes: 100%|██████████| 1/1 [00:10<00:00, 10.39s/it]\n",
      "additions: 100%|██████████| 1699/1699 [00:01<00:00, 904.25it/s]"
     ]
    },
    {
     "name": "stdout",
     "output_type": "stream",
     "text": [
      "graph: , mu: 4, type: mu_level_dl clustering: leiden rules: 358(357) mdl: 38_217.3 bits\n",
      "-7.754481547470383\n"
     ]
    },
    {
     "name": "stderr",
     "output_type": "stream",
     "text": [
      "\n"
     ]
    }
   ],
   "source": [
    "erjoint = update_grammar(grammar, graphs[0], er, 1, mode='joint')\n",
    "print(erjoint.ll())"
   ]
  },
  {
   "cell_type": "code",
   "execution_count": 12,
   "id": "26e22912",
   "metadata": {
    "scrolled": true
   },
   "outputs": [
    {
     "name": "stderr",
     "output_type": "stream",
     "text": [
      "additions: 100%|██████████| 3159/3159 [00:13<00:00, 231.28it/s] \n"
     ]
    },
    {
     "name": "stdout",
     "output_type": "stream",
     "text": [
      "is_isomorphic interrupted after 10 seconds running on [9 -> (22, 23)[3], 9 -> (22, 22)[3]]\n"
     ]
    },
    {
     "name": "stderr",
     "output_type": "stream",
     "text": [
      "additions: 100%|██████████| 298/298 [00:00<00:00, 1458.68it/s]"
     ]
    },
    {
     "name": "stdout",
     "output_type": "stream",
     "text": [
      "graph: , mu: 4, type: mu_level_dl clustering: leiden rules: 232(231) mdl: 74_825.9 bits\n",
      "-8.145259566516865\n"
     ]
    },
    {
     "name": "stderr",
     "output_type": "stream",
     "text": [
      "\n"
     ]
    }
   ],
   "source": [
    "erindep = update_grammar(grammar, graphs[0], er, 1, mode='indep')\n",
    "print(erindep.ll())"
   ]
  },
  {
   "cell_type": "code",
   "execution_count": null,
   "id": "b16e7858",
   "metadata": {},
   "outputs": [],
   "source": []
  },
  {
   "cell_type": "code",
   "execution_count": null,
   "id": "43b7c3df",
   "metadata": {},
   "outputs": [],
   "source": []
  },
  {
   "cell_type": "code",
   "execution_count": null,
   "id": "b10f5808",
   "metadata": {},
   "outputs": [],
   "source": []
  },
  {
   "cell_type": "code",
   "execution_count": null,
   "id": "f634a61b",
   "metadata": {},
   "outputs": [],
   "source": []
  },
  {
   "cell_type": "code",
   "execution_count": null,
   "id": "06f427c7",
   "metadata": {},
   "outputs": [],
   "source": []
  },
  {
   "cell_type": "code",
   "execution_count": null,
   "id": "86a70a43",
   "metadata": {},
   "outputs": [],
   "source": []
  },
  {
   "cell_type": "code",
   "execution_count": null,
   "id": "3c403be5",
   "metadata": {},
   "outputs": [],
   "source": []
  },
  {
   "cell_type": "code",
   "execution_count": null,
   "id": "0c334a4e",
   "metadata": {},
   "outputs": [],
   "source": [
    "grammar.rule_dict[0][2].graph.edges(data=True)"
   ]
  },
  {
   "cell_type": "code",
   "execution_count": null,
   "id": "dabfab68",
   "metadata": {},
   "outputs": [],
   "source": [
    "h = nx.Graph()\n",
    "h.add_nodes_from([0, 1, 2, 3, 4, 5])\n",
    "h.add_edges_from([(i, i + 1) for i in range(5)])\n",
    "hgrammar = decompose(h)\n",
    "hgrammarc = decompose_component(h)"
   ]
  },
  {
   "cell_type": "code",
   "execution_count": null,
   "id": "21a5a68c",
   "metadata": {},
   "outputs": [],
   "source": [
    "hgrammar.rule_list"
   ]
  },
  {
   "cell_type": "code",
   "execution_count": null,
   "id": "b31460ee",
   "metadata": {},
   "outputs": [],
   "source": [
    "for rule in hgrammarc.rule_list:\n",
    "    print(f'{rule.lhs} -> ', end='')\n",
    "    labels = nx.get_node_attributes(rule.graph, 'label')  # | nx.get_node_attributes(rule.graph, 'b_deg')\n",
    "    nx.draw(rule.graph, labels=labels)\n",
    "    plt.show()"
   ]
  },
  {
   "cell_type": "code",
   "execution_count": null,
   "id": "65aa173c",
   "metadata": {},
   "outputs": [],
   "source": []
  },
  {
   "cell_type": "code",
   "execution_count": null,
   "id": "08b422c0",
   "metadata": {},
   "outputs": [],
   "source": []
  },
  {
   "cell_type": "code",
   "execution_count": null,
   "id": "e2389f4f",
   "metadata": {
    "scrolled": true
   },
   "outputs": [],
   "source": [
    "grammar.rule_dict[0][1].graph.nodes(data=True)"
   ]
  },
  {
   "cell_type": "code",
   "execution_count": null,
   "id": "2135513f",
   "metadata": {},
   "outputs": [],
   "source": [
    "for s in nx.connected_components(graphs[0]):\n",
    "    print(graphs[0].subgraph(s).size())"
   ]
  },
  {
   "cell_type": "code",
   "execution_count": null,
   "id": "9bdaac6d",
   "metadata": {},
   "outputs": [],
   "source": [
    "newedgesizes = [rule.graph.size() for rule in new_grammar.rule_list]\n",
    "display(sorted(edgesizes))"
   ]
  },
  {
   "cell_type": "code",
   "execution_count": null,
   "id": "c0d1df2e",
   "metadata": {},
   "outputs": [],
   "source": [
    "for rule in new_grammar.rule_list:\n",
    "    if rule.edit_cost != 0:\n",
    "        print(rule.edit_cost)"
   ]
  },
  {
   "cell_type": "code",
   "execution_count": null,
   "id": "bdae50c3",
   "metadata": {},
   "outputs": [],
   "source": [
    "len(new_grammar.rule_list) - len(grammar.rule_list)"
   ]
  },
  {
   "cell_type": "code",
   "execution_count": null,
   "id": "c9e0a634",
   "metadata": {},
   "outputs": [],
   "source": [
    "for rule in new_grammar.rule_list:\n",
    "    print(rule.edit_cost)"
   ]
  },
  {
   "cell_type": "code",
   "execution_count": null,
   "id": "bc6300ae",
   "metadata": {},
   "outputs": [],
   "source": [
    "for rule in new_grammar.rule_list:\n",
    "    print(rule.time)"
   ]
  },
  {
   "cell_type": "code",
   "execution_count": null,
   "id": "ffe2ff37",
   "metadata": {},
   "outputs": [],
   "source": [
    "r0 = grammar.rule_list[0]\n",
    "r0.time"
   ]
  },
  {
   "cell_type": "code",
   "execution_count": null,
   "id": "39b10e90",
   "metadata": {},
   "outputs": [],
   "source": [
    "g0 = grammar.rule_list[0].graph\n",
    "print(g0.order(), g0.size())"
   ]
  },
  {
   "cell_type": "code",
   "execution_count": null,
   "id": "07ffe5c9",
   "metadata": {},
   "outputs": [],
   "source": [
    "grammar.rule_list[6].graph.nodes(data=True)"
   ]
  },
  {
   "cell_type": "code",
   "execution_count": null,
   "id": "1da7ef15",
   "metadata": {},
   "outputs": [],
   "source": [
    "def node_match(d1, d2):\n",
    "    if d1.keys() != d2.keys():\n",
    "        return False\n",
    "    \n",
    "    if 'label' in d1 and d1['label'] != d2['label']:\n",
    "        return False\n",
    "    \n",
    "    if 'b_deg' in d1 and d1['b_deg'] != d2['b_deg']:\n",
    "        return False\n",
    "    \n",
    "    return True"
   ]
  },
  {
   "cell_type": "code",
   "execution_count": null,
   "id": "34a12b84",
   "metadata": {},
   "outputs": [],
   "source": [
    "%%time\n",
    "edit_dists = [nx.graph_edit_distance(g0, rule.graph, node_match=node_match, timeout=None)\n",
    "              for rule in grammar.rule_list]"
   ]
  },
  {
   "cell_type": "code",
   "execution_count": null,
   "id": "0a44f7cc",
   "metadata": {},
   "outputs": [],
   "source": [
    "edit_dists"
   ]
  },
  {
   "cell_type": "code",
   "execution_count": null,
   "id": "55ce4b59",
   "metadata": {},
   "outputs": [],
   "source": [
    "%%time\n",
    "opt_edit_dists = []\n",
    "for rule in grammar.rule_list:\n",
    "    g = rule.graph\n",
    "    for val in nx.optimize_graph_edit_distance(g0, g, node_match=node_match):\n",
    "        # print('.', end='')\n",
    "        minval = val\n",
    "    opt_edit_dists += [minval]\n",
    "    # print(f'min: {minval}')"
   ]
  },
  {
   "cell_type": "code",
   "execution_count": null,
   "id": "b6bcfeb0",
   "metadata": {},
   "outputs": [],
   "source": [
    "edit_dists == opt_edit_dists"
   ]
  },
  {
   "cell_type": "code",
   "execution_count": null,
   "id": "27ceff52",
   "metadata": {},
   "outputs": [],
   "source": []
  },
  {
   "cell_type": "code",
   "execution_count": null,
   "id": "16b9b94a",
   "metadata": {},
   "outputs": [],
   "source": []
  },
  {
   "cell_type": "markdown",
   "id": "6f7306dd",
   "metadata": {},
   "source": [
    "# independent sequential experiments"
   ]
  },
  {
   "cell_type": "code",
   "execution_count": null,
   "id": "a4122a38",
   "metadata": {
    "scrolled": false
   },
   "outputs": [],
   "source": [
    "dataname = 'email-eucore'\n",
    "# facebook-links ['weight'] edge missing?\n",
    "lookbacks = [0]\n",
    "\n",
    "base_grammars = {lookback: [] for lookback in lookbacks}\n",
    "joint_grammars = {lookback: [] for lookback in lookbacks}\n",
    "indep_grammars = {lookback: [] for lookback in lookbacks}\n",
    "\n",
    "base_mdls = {lookback: [] for lookback in lookbacks}\n",
    "joint_mdls = {lookback: [] for lookback in lookbacks}\n",
    "joint_lls = {lookback: [] for lookback in lookbacks}\n",
    "indep_mdls = {lookback: [] for lookback in lookbacks}\n",
    "indep_lls = {lookback: [] for lookback in lookbacks}\n",
    "\n",
    "mu = 4\n",
    "for lookback in lookbacks:\n",
    "    loaded = load_data(dataname=dataname, lookback=lookback)\n",
    "    graphs = [g for _, g in loaded]\n",
    "    years = [t for t, _ in loaded][:len(graphs) - 1]\n",
    "    \n",
    "    # graphs, years = read_data(dataname=dataname, lookback=lookback)\n",
    "    \n",
    "    graphs = graphs[0:]\n",
    "    \n",
    "    base_mdl = []\n",
    "    joint_ll = []\n",
    "    joint_mdl = []\n",
    "    indep_ll = []\n",
    "    indep_mdl = []\n",
    "\n",
    "    for idx, (home_graph, away_graph) in enumerate(zip(graphs[:-1], graphs[1:])):\n",
    "        base_grammar = decompose(home_graph, mu=mu)\n",
    "        joint_grammar = update_grammar(base_grammar, home_graph, away_graph, mode='joint')\n",
    "        indep_grammar = update_grammar(base_grammar, home_graph, away_graph, mode='independent')\n",
    "        \n",
    "        base_grammars[lookback] += [base_grammar]\n",
    "        joint_grammars[lookback] += [joint_grammar]\n",
    "        indep_grammars[lookback] += [indep_grammar]\n",
    "        \n",
    "        joint_mdl += [joint_grammar.calculate_cost()]\n",
    "        joint_ll += [joint_grammar.conditional_ll()]\n",
    "        \n",
    "        joint_mdls[lookback] += [joint_grammar.calculate_cost()]\n",
    "        joint_lls[lookback] += [joint_grammar.conditional_ll()]\n",
    "        indep_mdls[lookback] += [indep_grammar.calculate_cost()]\n",
    "        indep_lls[lookback] += [indep_grammar.conditional_ll()]\n",
    "        \n",
    "        base_mdls[lookback] += [base_grammar.calculate_cost()]\n",
    "    \n",
    "    base_grammar = decompose(graphs[-1], mu=mu)\n",
    "    base_grammars[lookback] += [base_grammar]\n",
    "    base_mdls[lookback] += [base_grammar.calculate_cost()]\n",
    "\n",
    "    with open(f'../results/experiment_sequential/{dataname}_base.grammars', 'wb') as outfile:\n",
    "        pickle.dump(base_grammars, outfile)\n",
    "    with open(f'../results/experiment_sequential/{dataname}_joint.grammars', 'wb') as outfile:\n",
    "        pickle.dump(joint_grammars, outfile)\n",
    "    with open(f'../results/experiment_sequential/{dataname}_indep.grammars', 'wb') as outfile:\n",
    "        pickle.dump(indep_grammars, outfile)\n",
    "\n",
    "    with open(f'../results/experiment_sequential/{dataname}_base.mdls', 'wb') as outfile:\n",
    "        pickle.dump(base_mdls, outfile)\n",
    "    with open(f'../results/experiment_sequential/{dataname}_joint.mdls', 'wb') as outfile:\n",
    "        pickle.dump(joint_mdls, outfile)\n",
    "    with open(f'../results/experiment_sequential/{dataname}_joint.lls', 'wb') as outfile:\n",
    "        pickle.dump(joint_lls, outfile)\n",
    "    with open(f'../results/experiment_sequential/{dataname}_indep.mdls', 'wb') as outfile:\n",
    "        pickle.dump(indep_mdls, outfile)\n",
    "    with open(f'../results/experiment_sequential/{dataname}_indep.lls', 'wb') as outfile:\n",
    "        pickle.dump(indep_lls, outfile)"
   ]
  },
  {
   "cell_type": "code",
   "execution_count": null,
   "id": "6cc89203",
   "metadata": {},
   "outputs": [],
   "source": [
    "print('hi')"
   ]
  },
  {
   "cell_type": "code",
   "execution_count": null,
   "id": "c6ee200f",
   "metadata": {},
   "outputs": [],
   "source": []
  },
  {
   "cell_type": "code",
   "execution_count": null,
   "id": "1267697b",
   "metadata": {},
   "outputs": [],
   "source": [
    "loaded = load_data(dataname='email-dnc', lookback=0)\n",
    "graphs = [g for _, g in loaded]\n",
    "[(g.order(), g.size()) for g in graphs]"
   ]
  },
  {
   "cell_type": "code",
   "execution_count": null,
   "id": "54a118cf",
   "metadata": {
    "scrolled": true
   },
   "outputs": [],
   "source": [
    "loaded = load_data(dataname='facebook-links', lookback=0)\n",
    "graphs = [g for _, g in loaded]\n",
    "[(g.order(), g.size()) for g in graphs]\n",
    "#[(len(set(cur.nodes()) & set(nxt.nodes())), len(set(cur.edges()) & set(nxt.edges()))) for cur, nxt in zip(graphs[:-1], graphs[1:])]"
   ]
  },
  {
   "cell_type": "code",
   "execution_count": null,
   "id": "2a6aaa51",
   "metadata": {},
   "outputs": [],
   "source": [
    "graphs, _ = read_data(dataname='fb-messages', lookback=0)\n",
    "[(len(set(cur.nodes()) & set(nxt.nodes())), len(set(cur.edges()) & set(nxt.edges()))) for cur, nxt in zip(graphs[:-1], graphs[1:])]"
   ]
  },
  {
   "cell_type": "code",
   "execution_count": null,
   "id": "87a2b8d6",
   "metadata": {},
   "outputs": [],
   "source": []
  },
  {
   "cell_type": "code",
   "execution_count": null,
   "id": "1eb50272",
   "metadata": {
    "scrolled": false
   },
   "outputs": [],
   "source": [
    "joint_lls"
   ]
  },
  {
   "cell_type": "code",
   "execution_count": null,
   "id": "40e51546",
   "metadata": {},
   "outputs": [],
   "source": [
    "indep_lls"
   ]
  },
  {
   "cell_type": "code",
   "execution_count": null,
   "id": "895ae0cd",
   "metadata": {},
   "outputs": [],
   "source": []
  },
  {
   "cell_type": "code",
   "execution_count": null,
   "id": "bdfda3c0",
   "metadata": {
    "scrolled": true
   },
   "outputs": [],
   "source": [
    "#with plt.style.context(['ipynb', 'use_mathtext', 'colors5-light']):\n",
    "plt.title(f'sequential experiments: {dataname}, lookback {lookback}')\n",
    "plt.xlabel('time')\n",
    "plt.ylabel('log likelihood')\n",
    "plt.plot(range(len(years)), joint_lls[0], label='joint model')\n",
    "plt.plot(range(len(years)), indep_lls[0], label='independent model')\n",
    "plt.legend(loc='upper left', bbox_to_anchor=(1, 1))\n",
    "plt.ticklabel_format(style='plain')\n",
    "    #plt.savefig(f'../figures/exp3_{dataname}_{cumulative}.svg')"
   ]
  },
  {
   "cell_type": "code",
   "execution_count": null,
   "id": "2bd4e0af",
   "metadata": {
    "scrolled": true
   },
   "outputs": [],
   "source": [
    "#with plt.style.context(['ipynb', 'use_mathtext', 'colors5-light']):\n",
    "plt.title(f'sequential experiments: {dataname}, lookback {lookback}')\n",
    "plt.xlabel('time')\n",
    "plt.ylabel('minimal description length')\n",
    "plt.plot(range(len(years)), joint_mdls[0], label='joint model')\n",
    "plt.plot(range(len(years)), indep_mdls[0], label='independent model')\n",
    "plt.plot(range(len(years)), [base_mdls[0] for _ in years], label='base model')\n",
    "plt.legend(loc='upper left', bbox_to_anchor=(1, 1))\n",
    "plt.ticklabel_format(style='plain')\n",
    "    #plt.savefig(f'../figures/exp3_{dataname}_{cumulative}.svg')"
   ]
  },
  {
   "cell_type": "code",
   "execution_count": null,
   "id": "fb5f7094",
   "metadata": {},
   "outputs": [],
   "source": [
    "base_mdls"
   ]
  },
  {
   "cell_type": "code",
   "execution_count": null,
   "id": "b3a0067e",
   "metadata": {},
   "outputs": [],
   "source": []
  },
  {
   "cell_type": "markdown",
   "id": "47a91b33",
   "metadata": {},
   "source": [
    "# accumulated sequential experiments"
   ]
  },
  {
   "cell_type": "code",
   "execution_count": null,
   "id": "bfede589",
   "metadata": {},
   "outputs": [],
   "source": []
  },
  {
   "cell_type": "code",
   "execution_count": null,
   "id": "29dfb920",
   "metadata": {},
   "outputs": [],
   "source": []
  }
 ],
 "metadata": {
  "kernelspec": {
   "display_name": "Python 3",
   "language": "python",
   "name": "python3"
  },
  "language_info": {
   "codemirror_mode": {
    "name": "ipython",
    "version": 3
   },
   "file_extension": ".py",
   "mimetype": "text/x-python",
   "name": "python",
   "nbconvert_exporter": "python",
   "pygments_lexer": "ipython3",
   "version": "3.9.5"
  }
 },
 "nbformat": 4,
 "nbformat_minor": 5
}
