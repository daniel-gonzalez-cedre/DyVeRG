{
 "cells": [
  {
   "cell_type": "code",
   "execution_count": 1,
   "id": "2109d799",
   "metadata": {},
   "outputs": [],
   "source": [
    "import sys\n",
    "import random\n",
    "import pickle\n",
    "from os.path import join\n",
    "\n",
    "sys.path.append('..')\n",
    "\n",
    "import numpy as np\n",
    "import networkx as nx\n",
    "\n",
    "from cnrg.VRG import VRG as VRG\n",
    "from cnrg.LightMultiGraph import LightMultiGraph as LightMultiGraph\n",
    "\n",
    "import matplotlib.pyplot as plt\n",
    "import seaborn as sns\n",
    "%matplotlib inline"
   ]
  },
  {
   "cell_type": "code",
   "execution_count": 2,
   "id": "e42cc78c",
   "metadata": {},
   "outputs": [],
   "source": [
    "sys.path.append('../src')\n",
    "from utils import silence\n",
    "from data import load_data\n",
    "# from data_old import read_data\n",
    "from bookkeeping import convert_LMG, decompose, decompose_component\n",
    "from graph_transitions import update_grammar\n",
    "from utils import silence"
   ]
  },
  {
   "cell_type": "code",
   "execution_count": 3,
   "id": "44f5e783",
   "metadata": {},
   "outputs": [],
   "source": [
    "loaded = load_data(dataname='email-eucore', lookback=0)\n",
    "graphs = [g for _, g in loaded]"
   ]
  },
  {
   "cell_type": "code",
   "execution_count": 4,
   "id": "e28d1e7a",
   "metadata": {
    "scrolled": true
   },
   "outputs": [
    {
     "name": "stderr",
     "output_type": "stream",
     "text": [
      "100%|███████████████████████████████|[00:00<00:00]\n",
      "100%|███████████████████████████████|[00:00<00:00]\n",
      "100%|███████████████████████████████|[00:00<00:00]\n",
      "100%|███████████████████████████████|[00:00<00:00]\n",
      "100%|███████████████████████████████|[00:00<00:00]\n"
     ]
    }
   ],
   "source": [
    "grammar = decompose(graphs[0], time=0)"
   ]
  },
  {
   "cell_type": "code",
   "execution_count": 5,
   "id": "ce81d906",
   "metadata": {
    "scrolled": true
   },
   "outputs": [
    {
     "name": "stderr",
     "output_type": "stream",
     "text": [
      "joint changes: 100%|██████████| 44/44 [01:25<00:00,  1.95s/it]\n",
      "additions: 100%|██████████| 2207/2207 [00:00<00:00, 66935.38it/s]"
     ]
    },
    {
     "name": "stdout",
     "output_type": "stream",
     "text": [
      "graph: , mu: 4, type: mu_level_dl clustering: leiden rules: 248(241) mdl: 27_074.9 bits\n"
     ]
    },
    {
     "name": "stderr",
     "output_type": "stream",
     "text": [
      "\n"
     ]
    }
   ],
   "source": [
    "if True:\n",
    "    new_grammar = update_grammar(grammar, graphs[0], graphs[1], 1, mode='joint')"
   ]
  },
  {
   "cell_type": "code",
   "execution_count": 8,
   "id": "606e7494",
   "metadata": {
    "scrolled": true
   },
   "outputs": [
    {
     "name": "stdout",
     "output_type": "stream",
     "text": [
      "0 0\n",
      "0 0\n",
      "0 0\n",
      "0 0\n",
      "0 0\n",
      "0 0\n",
      "0 0\n",
      "0 0\n",
      "0 0\n",
      "0 0\n",
      "0 0\n",
      "0 0\n",
      "0 0\n",
      "0 0\n",
      "0 0\n",
      "0 0\n",
      "0 0\n",
      "0 0\n",
      "0 0\n",
      "0 0\n",
      "0 0\n",
      "0 0\n",
      "0 0\n",
      "0 0\n",
      "0 0\n",
      "0 0\n",
      "0 0\n",
      "0 0\n",
      "0 0\n",
      "0 0\n",
      "0 0\n",
      "0 0\n",
      "0 0\n",
      "0 0\n",
      "0 0\n",
      "1 0\n",
      "0 0\n",
      "0 0\n",
      "0 0\n",
      "0 0\n",
      "0 0\n",
      "0 0\n",
      "0 0\n",
      "0 0\n",
      "0 0\n",
      "0 0\n",
      "0 0\n",
      "0 0\n",
      "0 0\n",
      "0 0\n",
      "0 0\n",
      "0 0\n",
      "1 0\n",
      "0 0\n",
      "0 0\n",
      "0 0\n",
      "0 0\n",
      "0 0\n",
      "0 0\n",
      "0 0\n",
      "0 0\n",
      "0 0\n",
      "0 0\n",
      "0 0\n",
      "0 0\n",
      "0 0\n",
      "0 0\n",
      "0 0\n",
      "0 0\n",
      "0 0\n",
      "0 0\n",
      "0 0\n",
      "0 0\n",
      "0 0\n",
      "0 0\n",
      "0 0\n",
      "0 0\n",
      "0 0\n",
      "0 0\n",
      "0 0\n",
      "0 0\n",
      "0 0\n",
      "0 0\n",
      "0 0\n",
      "0 0\n",
      "0 0\n",
      "0 0\n",
      "0 0\n",
      "0 0\n",
      "0 0\n",
      "0 0\n",
      "0 0\n",
      "0 0\n",
      "0 0\n",
      "0 0\n",
      "0 0\n",
      "0 0\n",
      "0 0\n",
      "0 0\n",
      "0 0\n",
      "0 0\n",
      "0 0\n",
      "0 0\n",
      "0 0\n",
      "0 0\n",
      "0 0\n",
      "0 0\n",
      "1 0\n",
      "0 0\n",
      "0 0\n",
      "0 0\n",
      "0 0\n",
      "0 0\n",
      "0 0\n",
      "0 0\n",
      "0 0\n",
      "0 0\n",
      "0 0\n",
      "0 0\n",
      "0 0\n",
      "0 0\n",
      "0 0\n",
      "0 0\n",
      "0 0\n",
      "0 0\n",
      "0 0\n",
      "0 0\n",
      "0 0\n",
      "0 0\n",
      "0 0\n",
      "0 0\n",
      "0 0\n",
      "0 0\n",
      "0 0\n",
      "0 0\n",
      "1 0\n",
      "0 0\n",
      "0 0\n",
      "0 0\n",
      "0 0\n",
      "0 0\n",
      "0 0\n",
      "0 0\n",
      "0 0\n",
      "0 0\n",
      "0 0\n",
      "0 0\n",
      "0 0\n",
      "0 0\n",
      "0 0\n",
      "0 0\n",
      "0 0\n",
      "0 0\n",
      "0 0\n",
      "0 0\n",
      "0 0\n",
      "0 0\n",
      "0 0\n",
      "0 0\n",
      "0 0\n",
      "0 0\n",
      "0 0\n",
      "0 0\n",
      "0 0\n",
      "1 0\n",
      "0 0\n",
      "0 0\n",
      "0 0\n",
      "0 0\n",
      "0 0\n",
      "0 0\n",
      "0 0\n",
      "0 0\n",
      "0 0\n",
      "0 0\n",
      "0 0\n",
      "0 0\n",
      "0 0\n",
      "0 0\n",
      "0 0\n",
      "0 0\n",
      "0 0\n",
      "0 0\n",
      "0 0\n",
      "0 0\n",
      "0 0\n",
      "0 0\n",
      "0 0\n",
      "0 0\n",
      "0 0\n",
      "0 0\n",
      "0 0\n",
      "0 0\n",
      "0 0\n",
      "0 0\n",
      "0 0\n",
      "0 0\n",
      "0 0\n",
      "0 0\n",
      "0 0\n",
      "0 0\n",
      "0 0\n",
      "0 0\n",
      "0 0\n",
      "1 0\n",
      "0 0\n",
      "0 0\n",
      "0 0\n",
      "0 0\n",
      "0 0\n",
      "0 0\n",
      "0 0\n",
      "0 0\n",
      "0 0\n",
      "0 0\n",
      "0 0\n",
      "0 0\n",
      "0 0\n",
      "0 0\n",
      "0 0\n",
      "0 0\n",
      "0 0\n",
      "0 0\n",
      "0 0\n",
      "0 0\n",
      "0 0\n",
      "0 0\n",
      "0 0\n",
      "0 0\n",
      "0 0\n",
      "0 0\n",
      "0 0\n",
      "0 0\n",
      "0 0\n",
      "0 0\n",
      "0 0\n",
      "0 0\n",
      "1 0\n",
      "1 0\n",
      "1 0\n",
      "0 0\n",
      "0 0\n",
      "0 0\n",
      "0 0\n",
      "0 0\n",
      "0 0\n",
      "0 0\n",
      "1 1\n"
     ]
    }
   ],
   "source": [
    "for rule in new_grammar.rule_list:\n",
    "        # print(rule.graph.edges(data=True))\n",
    "    print(rule.time, rule.edit_cost)"
   ]
  },
  {
   "cell_type": "code",
   "execution_count": null,
   "id": "905846f3",
   "metadata": {},
   "outputs": [],
   "source": [
    "for rule in new_grammar.rule_list:\n",
    "    print(rule.lhs, rule)"
   ]
  },
  {
   "cell_type": "code",
   "execution_count": 6,
   "id": "60883021",
   "metadata": {},
   "outputs": [
    {
     "data": {
      "text/plain": [
       "[1 -> (2, 1)[32],\n",
       " 2 -> (2, 1)[5],\n",
       " 5 -> (2, 1)[3],\n",
       " 10 -> (2, 1)[2],\n",
       " 9 -> (2, 1)[2],\n",
       " 21 -> (2, 1),\n",
       " 4 -> (2, 1)[2],\n",
       " 14 -> (2, 1)[2],\n",
       " 9 -> (2, 1){1,1},\n",
       " 22 -> (2, 1){4,20},\n",
       " 0 -> (2, 1)[3],\n",
       " 4 -> (3, 2)[4],\n",
       " 6 -> (3, 2)[2],\n",
       " 9 -> (3, 2),\n",
       " 10 -> (3, 2)[2],\n",
       " 13 -> (3, 2)[3],\n",
       " 14 -> (3, 2)[2],\n",
       " 12 -> (3, 2)[2],\n",
       " 16 -> (3, 2)[2],\n",
       " 17 -> (3, 2)[2],\n",
       " 19 -> (3, 2),\n",
       " 8 -> (3, 2){1,2,1},\n",
       " 4 -> (3, 2){1}[3],\n",
       " 10 -> (3, 2){1}[2],\n",
       " 24 -> (3, 2){1},\n",
       " 101 -> (2, 2){91,14},\n",
       " 9 -> (3, 2){6},\n",
       " 18 -> (3, 2)[3],\n",
       " 15 -> (3, 2),\n",
       " 20 -> (3, 2),\n",
       " 26 -> (3, 2),\n",
       " 27 -> (3, 2),\n",
       " 22 -> (3, 2),\n",
       " 24 -> (3, 2),\n",
       " 25 -> (3, 2),\n",
       " 28 -> (3, 2),\n",
       " 32 -> (3, 2)[2],\n",
       " 41 -> (3, 2),\n",
       " 46 -> (3, 2),\n",
       " 3 -> (3, 2)[3],\n",
       " 2 -> (3, 2)[5],\n",
       " 5 -> (3, 2),\n",
       " 29 -> (3, 3),\n",
       " 45 -> (3, 3),\n",
       " 53 -> (3, 3),\n",
       " 86 -> (3, 3),\n",
       " 44 -> (3, 3),\n",
       " 31 -> (3, 3){10,22,5},\n",
       " 21 -> (3, 3){16},\n",
       " 12 -> (4, 3){4,5},\n",
       " 31 -> (3, 3){13},\n",
       " 49 -> (3, 3){13},\n",
       " 23 -> (4, 3){1},\n",
       " 21 -> (4, 3){1},\n",
       " 17 -> (4, 3){1}[2],\n",
       " 35 -> (4, 3){1},\n",
       " 34 -> (3, 3),\n",
       " 16 -> (3, 3),\n",
       " 15 -> (3, 3),\n",
       " 30 -> (3, 3),\n",
       " 23 -> (3, 3),\n",
       " 26 -> (3, 3),\n",
       " 36 -> (3, 3)[2],\n",
       " 32 -> (3, 3)[2],\n",
       " 38 -> (3, 3)[3],\n",
       " 35 -> (4, 3),\n",
       " 29 -> (4, 3),\n",
       " 59 -> (4, 3),\n",
       " 96 -> (4, 3),\n",
       " 25 -> (4, 3),\n",
       " 53 -> (4, 3),\n",
       " 22 -> (4, 3),\n",
       " 12 -> (4, 3)[2],\n",
       " 4 -> (4, 3),\n",
       " 7 -> (4, 3),\n",
       " 14 -> (4, 3)[2],\n",
       " 20 -> (4, 3)[2],\n",
       " 16 -> (3, 3){17},\n",
       " 35 -> (3, 3){30},\n",
       " 29 -> (4, 3){1},\n",
       " 5 -> (4, 3){1},\n",
       " 26 -> (3, 3){25},\n",
       " 62 -> (3, 3){41},\n",
       " 34 -> (4, 3),\n",
       " 14 -> (4, 3),\n",
       " 62 -> (3, 3){44},\n",
       " 67 -> (3, 3){59},\n",
       " 37 -> (3, 3){38},\n",
       " 53 -> (3, 3){32},\n",
       " 3 -> (4, 3)[2],\n",
       " 30 -> (3, 3){19},\n",
       " 14 -> (4, 3){5,2},\n",
       " 26 -> (3, 3){21},\n",
       " 20 -> (4, 3){12},\n",
       " 20 -> (4, 4){14},\n",
       " 41 -> (3, 4){33},\n",
       " 24 -> (2, 4){14,18},\n",
       " 20 -> (3, 4){16},\n",
       " 16 -> (5, 4),\n",
       " 31 -> (5, 4),\n",
       " 42 -> (5, 4),\n",
       " 22 -> (3, 4){15},\n",
       " 46 -> (3, 4){17,25,12},\n",
       " 27 -> (3, 4){3},\n",
       " 20 -> (4, 4){16},\n",
       " 25 -> (4, 4),\n",
       " 15 -> (4, 4),\n",
       " 26 -> (4, 4),\n",
       " 30 -> (4, 4)[2],\n",
       " 33 -> (4, 4),\n",
       " 38 -> (4, 4),\n",
       " 16 -> (4, 4)[2],\n",
       " 23 -> (4, 4)[2],\n",
       " 69 -> (4, 4),\n",
       " 18 -> (4, 4),\n",
       " 56 -> (4, 4),\n",
       " 39 -> (4, 4)[2],\n",
       " 58 -> (4, 4),\n",
       " 68 -> (4, 4),\n",
       " 22 -> (4, 4),\n",
       " 26 -> (4, 4),\n",
       " 110 -> (2, 4){27,91},\n",
       " 61 -> (5, 4){1},\n",
       " 47 -> (3, 4){39},\n",
       " 10 -> (4, 4){1},\n",
       " 20 -> (4, 4){1}[2],\n",
       " 18 -> (4, 4),\n",
       " 33 -> (4, 4){1},\n",
       " 38 -> (4, 4){1}[3],\n",
       " 35 -> (3, 4){21},\n",
       " 85 -> (4, 5){2,86},\n",
       " 44 -> (4, 5)[2],\n",
       " 49 -> (4, 5){38,1},\n",
       " 39 -> (4, 5){26},\n",
       " 60 -> (3, 5){31,6,33},\n",
       " 26 -> (4, 5){15},\n",
       " 22 -> (6, 5),\n",
       " 41 -> (6, 5),\n",
       " 0 -> (6, 5),\n",
       " 5 -> (6, 5),\n",
       " 39 -> (5, 5){1}[2],\n",
       " 24 -> (6, 5){1,1},\n",
       " 40 -> (4, 5){18},\n",
       " 14 -> (6, 5){1},\n",
       " 50 -> (2, 5){30,30},\n",
       " 48 -> (4, 5),\n",
       " 56 -> (4, 5),\n",
       " 21 -> (4, 5),\n",
       " 20 -> (4, 5)[2],\n",
       " 19 -> (4, 5)[3],\n",
       " 14 -> (4, 5),\n",
       " 43 -> (4, 5),\n",
       " 64 -> (4, 5),\n",
       " 40 -> (4, 5),\n",
       " 34 -> (4, 5),\n",
       " 35 -> (4, 5){25,1},\n",
       " 16 -> (5, 5){1}[2],\n",
       " 37 -> (3, 5){10,23,14},\n",
       " 72 -> (3, 5){59},\n",
       " 33 -> (5, 6){1},\n",
       " 30 -> (5, 6){1},\n",
       " 65 -> (4, 6){56},\n",
       " 52 -> (2, 6){34,30},\n",
       " 87 -> (3, 6){26,4,69},\n",
       " 31 -> (5, 6),\n",
       " 34 -> (5, 6),\n",
       " 12 -> (5, 6),\n",
       " 91 -> (5, 6),\n",
       " 26 -> (4, 6){16},\n",
       " 48 -> (7, 6){1},\n",
       " 19 -> (4, 6),\n",
       " 40 -> (4, 6),\n",
       " 59 -> (4, 6),\n",
       " 59 -> (4, 6){36},\n",
       " 47 -> (3, 7){18,14,29},\n",
       " 38 -> (6, 7){1},\n",
       " 47 -> (4, 7){26},\n",
       " 47 -> (4, 7){32,23},\n",
       " 60 -> (4, 7){45,20},\n",
       " 9 -> (8, 7),\n",
       " 52 -> (4, 7){24},\n",
       " 78 -> (4, 7){22,44},\n",
       " 50 -> (3, 8){4,27,35},\n",
       " 24 -> (5, 8),\n",
       " 55 -> (4, 8){32,14},\n",
       " 27 -> (5, 8),\n",
       " 68 -> (7, 9){1,1},\n",
       " 158 -> (3, 9){27,53,96},\n",
       " 59 -> (3, 9){26,16,35},\n",
       " 37 -> (4, 9){20,29},\n",
       " 20 -> (6, 9){1},\n",
       " 26 -> (6, 9){1},\n",
       " 91 -> (6, 9){1},\n",
       " 103 -> (4, 9){28,68},\n",
       " 87 -> (4, 9){20,35},\n",
       " 112 -> (4, 10){74,35,22,1},\n",
       " 76 -> (4, 10){65,22},\n",
       " 28 -> (4, 10){4,14,12,18},\n",
       " 66 -> (4, 10){20,40},\n",
       " 23 -> (4, 10){19},\n",
       " 76 -> (3, 11){48,41,9},\n",
       " 132 -> (4, 11){67,7,49,31},\n",
       " 69 -> (4, 11){44,36},\n",
       " 111 -> (6, 11),\n",
       " 62 -> (6, 11),\n",
       " 61 -> (6, 11),\n",
       " 96 -> (2, 11){84,34},\n",
       " 54 -> (3, 12){21,9,48},\n",
       " 35 -> (3, 12){26,10,23},\n",
       " 75 -> (4, 12){48,22,10,19},\n",
       " 38 -> (3, 12){24,26,12},\n",
       " 190 -> (3, 12){47,9,158},\n",
       " 63 -> (4, 13){14,2,52,21},\n",
       " 99 -> (4, 13){53,58},\n",
       " -1 -> (17, 13){0,0,0,0,0,5,3,5,2,9,8,2,4,2,2,2,4}[2],\n",
       " 78 -> (3, 13){40,46,18},\n",
       " 59 -> (4, 13){19,56},\n",
       " 84 -> (6, 13),\n",
       " 48 -> (6, 14),\n",
       " 125 -> (3, 15){41,15,99},\n",
       " 49 -> (3, 15){20,20,39},\n",
       " 73 -> (4, 16){20,26,24,35},\n",
       " 77 -> (3, 16){23,34,52},\n",
       " 40 -> (3, 16){24,19,29},\n",
       " 93 -> (3, 17){47,64,16},\n",
       " 111 -> (4, 19){43,34,62,10},\n",
       " 58 -> (3, 19){33,23,40},\n",
       " 83 -> (4, 22){37,13,38,39},\n",
       " 74 -> (3, 23){69,37,14},\n",
       " 113 -> (4, 31){77,60,26,12},\n",
       " 90 -> (4, 34){47,12,49,50},\n",
       " 135 -> (3, 34){53,72,78},\n",
       " 113 -> (4, 35){58,26,38,61},\n",
       " 216 -> (4, 35){62,110,46,68},\n",
       " -1 -> (17, 35){0,0,0,0,0,5,3,5,2,9,8,2,4,2,2,2,4}[2],\n",
       " 269 -> (5, 42){2,78,85,87,101},\n",
       " 75 -> (3, 46){20,93,54},\n",
       " 155 -> (7, 60){9,20,50,24,38,59,75},\n",
       " 66 -> (6, 62){14,16,63,20,49,28},\n",
       " 176 -> (5, 63){55,42,111,62,32},\n",
       " 127 -> (4, 65){76,47,96,38},\n",
       " 120 -> (4, 69){103,61,35,59},\n",
       " 182 -> (4, 71){76,127,31,90},\n",
       " 280 -> (5, 83){113,31,87,83,132},\n",
       " 254 -> (4, 107){135,176,37,120},\n",
       " 203 -> (6, 119){60,125,59,20,66,111},\n",
       " 522 -> (6, 139){190,216,269,22,73,30},\n",
       " 0 -> (11, 1001){280,66,203,40,522,182,155,113,254,75,112}]"
      ]
     },
     "metadata": {},
     "output_type": "display_data"
    }
   ],
   "source": [
    "rulesizes = sorted(new_grammar.rule_list, key=lambda x: x.graph.size())\n",
    "display(rulesizes)"
   ]
  },
  {
   "cell_type": "code",
   "execution_count": 7,
   "id": "e8ceb22d",
   "metadata": {},
   "outputs": [
    {
     "name": "stdout",
     "output_type": "stream",
     "text": [
      "1 indep @ time 1 from time 1 domestic (None) -1 -> (n = 17, m = 35)nt: {0,0,0,0,0,5,3,5,2,9,8,2,4,2,2,2,4}[2]\n"
     ]
    }
   ],
   "source": [
    "for rule in new_grammar.rule_list:\n",
    "    try:\n",
    "        print(rule.time, rule.debug, rule)\n",
    "    except:\n",
    "        # print(rule.time, rule)\n",
    "        pass"
   ]
  },
  {
   "cell_type": "code",
   "execution_count": null,
   "id": "2bda98d6",
   "metadata": {},
   "outputs": [],
   "source": [
    "sum(len(r) for lhs, r in new_grammar.rule_dict.items())"
   ]
  },
  {
   "cell_type": "code",
   "execution_count": null,
   "id": "525beeca",
   "metadata": {},
   "outputs": [],
   "source": [
    "len({r for r, _, _ in new_grammar.rule_tree})"
   ]
  },
  {
   "cell_type": "code",
   "execution_count": null,
   "id": "feb6369f",
   "metadata": {},
   "outputs": [],
   "source": [
    "new_new_grammar = update_grammar(new_grammar,\n",
    "                                 nx.compose(graphs[0], graphs[1]),\n",
    "                                 graphs[2],\n",
    "                                 2,\n",
    "                                 mode='joint')"
   ]
  },
  {
   "cell_type": "code",
   "execution_count": null,
   "id": "67565721",
   "metadata": {},
   "outputs": [],
   "source": [
    "rulesizes = sorted(new_new_grammar.rule_list, key=lambda x: x.graph.size())\n",
    "display(rulesizes)"
   ]
  },
  {
   "cell_type": "code",
   "execution_count": null,
   "id": "e328e9ec",
   "metadata": {},
   "outputs": [],
   "source": [
    "rulelhs = sorted(new_new_grammar.rule_list, key=lambda x: x.lhs)\n",
    "display(rulelhs)"
   ]
  },
  {
   "cell_type": "code",
   "execution_count": null,
   "id": "49d9a0b4",
   "metadata": {},
   "outputs": [],
   "source": []
  },
  {
   "cell_type": "code",
   "execution_count": null,
   "id": "8550cb40",
   "metadata": {},
   "outputs": [],
   "source": [
    "print(grammar.calculate_cost())\n",
    "print(new_grammar.calculate_cost())\n",
    "print(new_new_grammar.calculate_cost())"
   ]
  },
  {
   "cell_type": "code",
   "execution_count": null,
   "id": "0dab3fc1",
   "metadata": {},
   "outputs": [],
   "source": [
    "print(grammar.conditional_ll())"
   ]
  },
  {
   "cell_type": "code",
   "execution_count": null,
   "id": "11dd9056",
   "metadata": {},
   "outputs": [],
   "source": []
  },
  {
   "cell_type": "code",
   "execution_count": null,
   "id": "301f5f0c",
   "metadata": {},
   "outputs": [],
   "source": [
    "grammar.rule_dict[0][2].graph.edges(data=True)"
   ]
  },
  {
   "cell_type": "code",
   "execution_count": null,
   "id": "ac399a46",
   "metadata": {},
   "outputs": [],
   "source": [
    "h = nx.Graph()\n",
    "h.add_nodes_from([0, 1, 2, 3, 4, 5])\n",
    "h.add_edges_from([(i, i + 1) for i in range(5)])\n",
    "hgrammar = decompose(h)\n",
    "hgrammarc = decompose_component(h)"
   ]
  },
  {
   "cell_type": "code",
   "execution_count": null,
   "id": "9da6fef7",
   "metadata": {},
   "outputs": [],
   "source": [
    "hgrammar.rule_list"
   ]
  },
  {
   "cell_type": "code",
   "execution_count": null,
   "id": "2df3a647",
   "metadata": {},
   "outputs": [],
   "source": [
    "for rule in hgrammarc.rule_list:\n",
    "    print(f'{rule.lhs} -> ', end='')\n",
    "    labels = nx.get_node_attributes(rule.graph, 'label')  # | nx.get_node_attributes(rule.graph, 'b_deg')\n",
    "    nx.draw(rule.graph, labels=labels)\n",
    "    plt.show()"
   ]
  },
  {
   "cell_type": "code",
   "execution_count": null,
   "id": "280851f1",
   "metadata": {},
   "outputs": [],
   "source": []
  },
  {
   "cell_type": "code",
   "execution_count": null,
   "id": "81d712fb",
   "metadata": {},
   "outputs": [],
   "source": []
  },
  {
   "cell_type": "code",
   "execution_count": null,
   "id": "d8fcc2d3",
   "metadata": {
    "scrolled": true
   },
   "outputs": [],
   "source": [
    "grammar.rule_dict[0][1].graph.nodes(data=True)"
   ]
  },
  {
   "cell_type": "code",
   "execution_count": null,
   "id": "07fc5254",
   "metadata": {},
   "outputs": [],
   "source": [
    "for s in nx.connected_components(graphs[0]):\n",
    "    print(graphs[0].subgraph(s).size())"
   ]
  },
  {
   "cell_type": "code",
   "execution_count": null,
   "id": "8eb765a8",
   "metadata": {},
   "outputs": [],
   "source": [
    "newedgesizes = [rule.graph.size() for rule in new_grammar.rule_list]\n",
    "display(sorted(edgesizes))"
   ]
  },
  {
   "cell_type": "code",
   "execution_count": null,
   "id": "f5e7000d",
   "metadata": {},
   "outputs": [],
   "source": [
    "for rule in new_grammar.rule_list:\n",
    "    if rule.edit_cost != 0:\n",
    "        print(rule.edit_cost)"
   ]
  },
  {
   "cell_type": "code",
   "execution_count": null,
   "id": "807170dd",
   "metadata": {},
   "outputs": [],
   "source": [
    "len(new_grammar.rule_list) - len(grammar.rule_list)"
   ]
  },
  {
   "cell_type": "code",
   "execution_count": null,
   "id": "c3484c75",
   "metadata": {},
   "outputs": [],
   "source": [
    "for rule in new_grammar.rule_list:\n",
    "    print(rule.edit_cost)"
   ]
  },
  {
   "cell_type": "code",
   "execution_count": null,
   "id": "eb5a7894",
   "metadata": {},
   "outputs": [],
   "source": [
    "for rule in new_grammar.rule_list:\n",
    "    print(rule.time)"
   ]
  },
  {
   "cell_type": "code",
   "execution_count": null,
   "id": "721d491c",
   "metadata": {},
   "outputs": [],
   "source": [
    "r0 = grammar.rule_list[0]\n",
    "r0.time"
   ]
  },
  {
   "cell_type": "code",
   "execution_count": null,
   "id": "39b10e90",
   "metadata": {},
   "outputs": [],
   "source": [
    "g0 = grammar.rule_list[0].graph\n",
    "print(g0.order(), g0.size())"
   ]
  },
  {
   "cell_type": "code",
   "execution_count": null,
   "id": "b800e345",
   "metadata": {},
   "outputs": [],
   "source": [
    "grammar.rule_list[6].graph.nodes(data=True)"
   ]
  },
  {
   "cell_type": "code",
   "execution_count": null,
   "id": "74b42632",
   "metadata": {},
   "outputs": [],
   "source": [
    "def node_match(d1, d2):\n",
    "    if d1.keys() != d2.keys():\n",
    "        return False\n",
    "    \n",
    "    if 'label' in d1 and d1['label'] != d2['label']:\n",
    "        return False\n",
    "    \n",
    "    if 'b_deg' in d1 and d1['b_deg'] != d2['b_deg']:\n",
    "        return False\n",
    "    \n",
    "    return True"
   ]
  },
  {
   "cell_type": "code",
   "execution_count": null,
   "id": "34a12b84",
   "metadata": {},
   "outputs": [],
   "source": [
    "%%time\n",
    "edit_dists = [nx.graph_edit_distance(g0, rule.graph, node_match=node_match, timeout=None)\n",
    "              for rule in grammar.rule_list]"
   ]
  },
  {
   "cell_type": "code",
   "execution_count": null,
   "id": "ab46fa7c",
   "metadata": {},
   "outputs": [],
   "source": [
    "edit_dists"
   ]
  },
  {
   "cell_type": "code",
   "execution_count": null,
   "id": "55ce4b59",
   "metadata": {},
   "outputs": [],
   "source": [
    "%%time\n",
    "opt_edit_dists = []\n",
    "for rule in grammar.rule_list:\n",
    "    g = rule.graph\n",
    "    for val in nx.optimize_graph_edit_distance(g0, g, node_match=node_match):\n",
    "        # print('.', end='')\n",
    "        minval = val\n",
    "    opt_edit_dists += [minval]\n",
    "    # print(f'min: {minval}')"
   ]
  },
  {
   "cell_type": "code",
   "execution_count": null,
   "id": "b6bcfeb0",
   "metadata": {},
   "outputs": [],
   "source": [
    "edit_dists == opt_edit_dists"
   ]
  },
  {
   "cell_type": "code",
   "execution_count": null,
   "id": "27ceff52",
   "metadata": {},
   "outputs": [],
   "source": []
  },
  {
   "cell_type": "code",
   "execution_count": null,
   "id": "16b9b94a",
   "metadata": {},
   "outputs": [],
   "source": []
  },
  {
   "cell_type": "markdown",
   "id": "6f7306dd",
   "metadata": {},
   "source": [
    "# independent sequential experiments"
   ]
  },
  {
   "cell_type": "code",
   "execution_count": null,
   "id": "a4122a38",
   "metadata": {
    "scrolled": false
   },
   "outputs": [],
   "source": [
    "dataname = 'email-eucore'\n",
    "# facebook-links ['weight'] edge missing?\n",
    "lookbacks = [0]\n",
    "\n",
    "base_grammars = {lookback: [] for lookback in lookbacks}\n",
    "joint_grammars = {lookback: [] for lookback in lookbacks}\n",
    "indep_grammars = {lookback: [] for lookback in lookbacks}\n",
    "\n",
    "base_mdls = {lookback: [] for lookback in lookbacks}\n",
    "joint_mdls = {lookback: [] for lookback in lookbacks}\n",
    "joint_lls = {lookback: [] for lookback in lookbacks}\n",
    "indep_mdls = {lookback: [] for lookback in lookbacks}\n",
    "indep_lls = {lookback: [] for lookback in lookbacks}\n",
    "\n",
    "mu = 4\n",
    "for lookback in lookbacks:\n",
    "    loaded = load_data(dataname=dataname, lookback=lookback)\n",
    "    graphs = [g for _, g in loaded]\n",
    "    years = [t for t, _ in loaded][:len(graphs) - 1]\n",
    "    \n",
    "    # graphs, years = read_data(dataname=dataname, lookback=lookback)\n",
    "    \n",
    "    graphs = graphs[0:]\n",
    "    \n",
    "    base_mdl = []\n",
    "    joint_ll = []\n",
    "    joint_mdl = []\n",
    "    indep_ll = []\n",
    "    indep_mdl = []\n",
    "\n",
    "    for idx, (home_graph, away_graph) in enumerate(zip(graphs[:-1], graphs[1:])):\n",
    "        base_grammar = decompose(home_graph, mu=mu)\n",
    "        joint_grammar = update_grammar(base_grammar, home_graph, away_graph, mode='joint')\n",
    "        indep_grammar = update_grammar(base_grammar, home_graph, away_graph, mode='independent')\n",
    "        \n",
    "        base_grammars[lookback] += [base_grammar]\n",
    "        joint_grammars[lookback] += [joint_grammar]\n",
    "        indep_grammars[lookback] += [indep_grammar]\n",
    "        \n",
    "        joint_mdl += [joint_grammar.calculate_cost()]\n",
    "        joint_ll += [joint_grammar.conditional_ll()]\n",
    "        \n",
    "        joint_mdls[lookback] += [joint_grammar.calculate_cost()]\n",
    "        joint_lls[lookback] += [joint_grammar.conditional_ll()]\n",
    "        indep_mdls[lookback] += [indep_grammar.calculate_cost()]\n",
    "        indep_lls[lookback] += [indep_grammar.conditional_ll()]\n",
    "        \n",
    "        base_mdls[lookback] += [base_grammar.calculate_cost()]\n",
    "    \n",
    "    base_grammar = decompose(graphs[-1], mu=mu)\n",
    "    base_grammars[lookback] += [base_grammar]\n",
    "    base_mdls[lookback] += [base_grammar.calculate_cost()]\n",
    "\n",
    "    with open(f'../results/experiment_sequential/{dataname}_base.grammars', 'wb') as outfile:\n",
    "        pickle.dump(base_grammars, outfile)\n",
    "    with open(f'../results/experiment_sequential/{dataname}_joint.grammars', 'wb') as outfile:\n",
    "        pickle.dump(joint_grammars, outfile)\n",
    "    with open(f'../results/experiment_sequential/{dataname}_indep.grammars', 'wb') as outfile:\n",
    "        pickle.dump(indep_grammars, outfile)\n",
    "\n",
    "    with open(f'../results/experiment_sequential/{dataname}_base.mdls', 'wb') as outfile:\n",
    "        pickle.dump(base_mdls, outfile)\n",
    "    with open(f'../results/experiment_sequential/{dataname}_joint.mdls', 'wb') as outfile:\n",
    "        pickle.dump(joint_mdls, outfile)\n",
    "    with open(f'../results/experiment_sequential/{dataname}_joint.lls', 'wb') as outfile:\n",
    "        pickle.dump(joint_lls, outfile)\n",
    "    with open(f'../results/experiment_sequential/{dataname}_indep.mdls', 'wb') as outfile:\n",
    "        pickle.dump(indep_mdls, outfile)\n",
    "    with open(f'../results/experiment_sequential/{dataname}_indep.lls', 'wb') as outfile:\n",
    "        pickle.dump(indep_lls, outfile)"
   ]
  },
  {
   "cell_type": "code",
   "execution_count": null,
   "id": "6cc89203",
   "metadata": {},
   "outputs": [],
   "source": [
    "print('hi')"
   ]
  },
  {
   "cell_type": "code",
   "execution_count": null,
   "id": "c6ee200f",
   "metadata": {},
   "outputs": [],
   "source": []
  },
  {
   "cell_type": "code",
   "execution_count": null,
   "id": "1267697b",
   "metadata": {},
   "outputs": [],
   "source": [
    "loaded = load_data(dataname='email-dnc', lookback=0)\n",
    "graphs = [g for _, g in loaded]\n",
    "[(g.order(), g.size()) for g in graphs]"
   ]
  },
  {
   "cell_type": "code",
   "execution_count": null,
   "id": "54a118cf",
   "metadata": {
    "scrolled": true
   },
   "outputs": [],
   "source": [
    "loaded = load_data(dataname='facebook-links', lookback=0)\n",
    "graphs = [g for _, g in loaded]\n",
    "[(g.order(), g.size()) for g in graphs]\n",
    "#[(len(set(cur.nodes()) & set(nxt.nodes())), len(set(cur.edges()) & set(nxt.edges()))) for cur, nxt in zip(graphs[:-1], graphs[1:])]"
   ]
  },
  {
   "cell_type": "code",
   "execution_count": null,
   "id": "2a6aaa51",
   "metadata": {},
   "outputs": [],
   "source": [
    "graphs, _ = read_data(dataname='fb-messages', lookback=0)\n",
    "[(len(set(cur.nodes()) & set(nxt.nodes())), len(set(cur.edges()) & set(nxt.edges()))) for cur, nxt in zip(graphs[:-1], graphs[1:])]"
   ]
  },
  {
   "cell_type": "code",
   "execution_count": null,
   "id": "87a2b8d6",
   "metadata": {},
   "outputs": [],
   "source": []
  },
  {
   "cell_type": "code",
   "execution_count": null,
   "id": "1eb50272",
   "metadata": {
    "scrolled": false
   },
   "outputs": [],
   "source": [
    "joint_lls"
   ]
  },
  {
   "cell_type": "code",
   "execution_count": null,
   "id": "40e51546",
   "metadata": {},
   "outputs": [],
   "source": [
    "indep_lls"
   ]
  },
  {
   "cell_type": "code",
   "execution_count": null,
   "id": "895ae0cd",
   "metadata": {},
   "outputs": [],
   "source": []
  },
  {
   "cell_type": "code",
   "execution_count": null,
   "id": "bdfda3c0",
   "metadata": {
    "scrolled": true
   },
   "outputs": [],
   "source": [
    "#with plt.style.context(['ipynb', 'use_mathtext', 'colors5-light']):\n",
    "plt.title(f'sequential experiments: {dataname}, lookback {lookback}')\n",
    "plt.xlabel('time')\n",
    "plt.ylabel('log likelihood')\n",
    "plt.plot(range(len(years)), joint_lls[0], label='joint model')\n",
    "plt.plot(range(len(years)), indep_lls[0], label='independent model')\n",
    "plt.legend(loc='upper left', bbox_to_anchor=(1, 1))\n",
    "plt.ticklabel_format(style='plain')\n",
    "    #plt.savefig(f'../figures/exp3_{dataname}_{cumulative}.svg')"
   ]
  },
  {
   "cell_type": "code",
   "execution_count": null,
   "id": "2bd4e0af",
   "metadata": {
    "scrolled": true
   },
   "outputs": [],
   "source": [
    "#with plt.style.context(['ipynb', 'use_mathtext', 'colors5-light']):\n",
    "plt.title(f'sequential experiments: {dataname}, lookback {lookback}')\n",
    "plt.xlabel('time')\n",
    "plt.ylabel('minimal description length')\n",
    "plt.plot(range(len(years)), joint_mdls[0], label='joint model')\n",
    "plt.plot(range(len(years)), indep_mdls[0], label='independent model')\n",
    "plt.plot(range(len(years)), [base_mdls[0] for _ in years], label='base model')\n",
    "plt.legend(loc='upper left', bbox_to_anchor=(1, 1))\n",
    "plt.ticklabel_format(style='plain')\n",
    "    #plt.savefig(f'../figures/exp3_{dataname}_{cumulative}.svg')"
   ]
  },
  {
   "cell_type": "code",
   "execution_count": null,
   "id": "fb5f7094",
   "metadata": {},
   "outputs": [],
   "source": [
    "base_mdls"
   ]
  },
  {
   "cell_type": "code",
   "execution_count": null,
   "id": "b3a0067e",
   "metadata": {},
   "outputs": [],
   "source": []
  },
  {
   "cell_type": "markdown",
   "id": "47a91b33",
   "metadata": {},
   "source": [
    "# accumulated sequential experiments"
   ]
  },
  {
   "cell_type": "code",
   "execution_count": null,
   "id": "bfede589",
   "metadata": {},
   "outputs": [],
   "source": []
  },
  {
   "cell_type": "code",
   "execution_count": null,
   "id": "29dfb920",
   "metadata": {},
   "outputs": [],
   "source": []
  }
 ],
 "metadata": {
  "kernelspec": {
   "display_name": "Python 3",
   "language": "python",
   "name": "python3"
  },
  "language_info": {
   "codemirror_mode": {
    "name": "ipython",
    "version": 3
   },
   "file_extension": ".py",
   "mimetype": "text/x-python",
   "name": "python",
   "nbconvert_exporter": "python",
   "pygments_lexer": "ipython3",
   "version": "3.9.5"
  }
 },
 "nbformat": 4,
 "nbformat_minor": 5
}
