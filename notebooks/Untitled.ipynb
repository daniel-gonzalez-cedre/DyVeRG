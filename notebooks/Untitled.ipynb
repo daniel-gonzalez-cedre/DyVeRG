{
 "cells": [
  {
   "cell_type": "code",
   "execution_count": 1,
   "id": "07a754c7",
   "metadata": {
    "scrolled": true
   },
   "outputs": [],
   "source": [
    "import sys\n",
    "import numpy as np\n",
    "import networkx as nx\n",
    "\n",
    "from os.path import join\n",
    "\n",
    "sys.path.append('../../../cnrg')\n",
    "sys.path.append('../../../cnrg/cnrg')\n",
    "\n",
    "from cnrg.VRG import VRG"
   ]
  },
  {
   "cell_type": "code",
   "execution_count": 2,
   "id": "15f678a7",
   "metadata": {},
   "outputs": [],
   "source": [
    "sys.path.append('../scripts')\n",
    "from data_scripts import read_data, create_graphs\n",
    "from rule_to_rule_scripts import convert_LMG, decompose, ancestor, common_ancestor\n",
    "from rule_to_rule_scripts import update_grammar_independent, update_rule_case1, update_rule_case2"
   ]
  },
  {
   "cell_type": "code",
   "execution_count": 3,
   "id": "5efaafcc",
   "metadata": {},
   "outputs": [],
   "source": [
    "dataname = 'fb-messages'\n",
    "graphs, years = read_data(dataname=dataname, lookback=10)"
   ]
  },
  {
   "cell_type": "code",
   "execution_count": 4,
   "id": "807b1e32",
   "metadata": {},
   "outputs": [],
   "source": [
    "graph0 = graphs[0]\n",
    "graph1 = graphs[1]"
   ]
  },
  {
   "cell_type": "code",
   "execution_count": 5,
   "id": "52d17512",
   "metadata": {},
   "outputs": [
    {
     "name": "stderr",
     "output_type": "stream",
     "text": [
      "100%|███████████████████████████████|[00:00<00:00]\n",
      "WARNING:root:graph: , mu: 4, type: mu_level_dl clustering: leiden rules: 132(132) mdl: 14_609.1 bits generated in 0.21 secs\n",
      "\n"
     ]
    }
   ],
   "source": [
    "grammar = decompose(graph0)"
   ]
  },
  {
   "cell_type": "code",
   "execution_count": 72,
   "id": "669ecae2",
   "metadata": {},
   "outputs": [
    {
     "name": "stdout",
     "output_type": "stream",
     "text": [
      "1656\n",
      "184\n"
     ]
    }
   ],
   "source": [
    "this_nodes = set(graph0.nodes())\n",
    "this_edges = set(graph0.edges())\n",
    "next_nodes = set(graph1.nodes())\n",
    "next_edges = set(graph1.edges())\n",
    "\n",
    "additions = next_edges - this_edges\n",
    "deletions = this_edges - next_edges\n",
    "\n",
    "case1 = {(u, v) for u, v in additions\n",
    "         if u in graph0.nodes() and v in graph0.nodes()}\n",
    "case2 = {(u, v) for u, v in additions\n",
    "         if (u in graph0.nodes()) ^ (v in graph0.nodes())}\n",
    "case3 = {(u, v) for u, v in additions\n",
    "         if u not in graph0.nodes() and v not in graph0.nodes()}\n",
    "\n",
    "# frontier = {(u, v) for (u, v) in additions\n",
    "#             if (u in this_nodes) ^ (v in this_nodes)}\n",
    "frontier = case2\n",
    "                                               \n",
    "print(len(additions))\n",
    "print(len(deletions))"
   ]
  },
  {
   "cell_type": "code",
   "execution_count": 73,
   "id": "adc82bf1",
   "metadata": {
    "scrolled": true
   },
   "outputs": [],
   "source": [
    "new_graph = nx.Graph()\n",
    "new_graph.add_edges_from(case2 | case3)\n",
    "\n",
    "new_nodes = [nodes for nodes in nx.connected_components(new_graph)]\n",
    "new_components = [(nodes, new_graph.subgraph(nodes)) for nodes in new_nodes]"
   ]
  },
  {
   "cell_type": "code",
   "execution_count": 83,
   "id": "8967a2a0",
   "metadata": {},
   "outputs": [
    {
     "name": "stdout",
     "output_type": "stream",
     "text": [
      "{(730, 1027)}\n"
     ]
    }
   ],
   "source": [
    "testing = new_nodes[2]\n",
    "incident_frontier = {(u, v) for (u, v) in frontier if (u in testing) or (v in testing)}\n",
    "print(incident_frontier)"
   ]
  },
  {
   "cell_type": "code",
   "execution_count": 86,
   "id": "16a86462",
   "metadata": {},
   "outputs": [
    {
     "name": "stderr",
     "output_type": "stream",
     "text": [
      "100%|███████████████████████████████|[00:00<00:00]\n",
      "WARNING:root:graph: , mu: 4, type: mu_level_dl clustering: leiden rules: 150(150) mdl: 13_510.3 bits generated in 0.151 secs\n",
      "\n"
     ]
    },
    {
     "name": "stdout",
     "output_type": "stream",
     "text": [
      "652\n"
     ]
    },
    {
     "name": "stderr",
     "output_type": "stream",
     "text": [
      "100%|███████████████████████████████|[00:00<00:00]\n",
      "WARNING:root:graph: , mu: 4, type: mu_level_dl clustering: leiden rules: 1(1) mdl: 22 bits generated in 0.001 secs\n",
      "\n"
     ]
    },
    {
     "name": "stdout",
     "output_type": "stream",
     "text": [
      "1\n"
     ]
    },
    {
     "name": "stderr",
     "output_type": "stream",
     "text": [
      "100%|███████████████████████████████|[00:00<00:00]\n",
      "WARNING:root:graph: , mu: 4, type: mu_level_dl clustering: leiden rules: 1(1) mdl: 22 bits generated in 0.001 secs\n",
      "\n"
     ]
    },
    {
     "name": "stdout",
     "output_type": "stream",
     "text": [
      "1\n"
     ]
    }
   ],
   "source": [
    "for nodes, component in new_components:\n",
    "    comp_grammar = decompose(component)\n",
    "    incident_frontier = {(u, v) for (u, v) in frontier if (u in component) or (v in component)}\n",
    "    \n",
    "    for u, v in incident_frontier:\n",
    "        if u not in graph0.nodes()\n",
    "    \n",
    "# grammar = decompose(graph0)"
   ]
  },
  {
   "cell_type": "code",
   "execution_count": null,
   "id": "daad5f92",
   "metadata": {},
   "outputs": [],
   "source": []
  },
  {
   "cell_type": "code",
   "execution_count": null,
   "id": "b292353c",
   "metadata": {},
   "outputs": [],
   "source": []
  },
  {
   "cell_type": "code",
   "execution_count": null,
   "id": "bb45086d",
   "metadata": {},
   "outputs": [],
   "source": []
  },
  {
   "cell_type": "code",
   "execution_count": null,
   "id": "1d67bfeb",
   "metadata": {},
   "outputs": [],
   "source": []
  },
  {
   "cell_type": "code",
   "execution_count": null,
   "id": "e08897ef",
   "metadata": {},
   "outputs": [],
   "source": []
  }
 ],
 "metadata": {
  "kernelspec": {
   "display_name": "Python 3",
   "language": "python",
   "name": "python3"
  },
  "language_info": {
   "codemirror_mode": {
    "name": "ipython",
    "version": 3
   },
   "file_extension": ".py",
   "mimetype": "text/x-python",
   "name": "python",
   "nbconvert_exporter": "python",
   "pygments_lexer": "ipython3",
   "version": "3.9.5"
  }
 },
 "nbformat": 4,
 "nbformat_minor": 5
}
