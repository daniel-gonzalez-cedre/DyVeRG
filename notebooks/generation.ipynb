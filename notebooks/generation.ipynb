{
 "cells": [
  {
   "cell_type": "code",
   "execution_count": 1,
   "id": "1cbb42e6",
   "metadata": {},
   "outputs": [],
   "source": [
    "import sys\n",
    "import random\n",
    "import pickle\n",
    "from os.path import join\n",
    "\n",
    "sys.path.append('..')\n",
    "\n",
    "import numpy as np\n",
    "import networkx as nx\n",
    "\n",
    "from cnrg.VRG import VRG as VRG\n",
    "from cnrg.LightMultiGraph import convert\n",
    "from cnrg.LightMultiGraph import LightMultiGraph as LightMultiGraph\n",
    "from cnrg.generate import generate_graph\n",
    "from cnrg.globals import find_boundary_edges\n",
    "from cnrg.generate import generate_graph\n",
    "\n",
    "import matplotlib.pyplot as plt\n",
    "import matplotlib_inline\n",
    "%matplotlib inline\n",
    "matplotlib_inline.backend_inline.set_matplotlib_formats('svg')"
   ]
  },
  {
   "cell_type": "code",
   "execution_count": 2,
   "id": "06d80261",
   "metadata": {},
   "outputs": [],
   "source": [
    "sys.path.append('../src')\n",
    "from data import load_data\n",
    "from decomposition import decompose, decompose_component\n",
    "from adjoin_graph import update_grammar"
   ]
  },
  {
   "cell_type": "markdown",
   "id": "140d4d2b",
   "metadata": {},
   "source": [
    "# prelims"
   ]
  },
  {
   "cell_type": "code",
   "execution_count": 3,
   "id": "4a7250d2",
   "metadata": {},
   "outputs": [],
   "source": [
    "loaded = load_data(dataname='email-eucore', lookback=0)\n",
    "graphs = [g for _, g in loaded]\n",
    "times = [t for t, _ in loaded]"
   ]
  },
  {
   "cell_type": "code",
   "execution_count": 4,
   "id": "c0b7c978",
   "metadata": {},
   "outputs": [],
   "source": [
    "t = 13\n",
    "g = graphs[t]\n",
    "h = graphs[t + 1]"
   ]
  },
  {
   "cell_type": "code",
   "execution_count": 11,
   "id": "da636c91",
   "metadata": {
    "scrolled": true
   },
   "outputs": [
    {
     "data": {
      "text/plain": [
       "graph: , mu: 4, type: mu_level_dl clustering: leiden rules: 243(243) mdl: 20_058.7 bits"
      ]
     },
     "execution_count": 11,
     "metadata": {},
     "output_type": "execute_result"
    }
   ],
   "source": [
    "grammar = decompose(g, time=t)\n",
    "grammar"
   ]
  },
  {
   "cell_type": "code",
   "execution_count": 9,
   "id": "98cbec98",
   "metadata": {
    "scrolled": true
   },
   "outputs": [
    {
     "name": "stderr",
     "output_type": "stream",
     "text": [
      "additions: 100%|██████████| 3464/3464 [00:00<00:00, 12280.37it/s]\n",
      "additions: 100%|██████████| 63/63 [00:00<00:00, 13852.02it/s]\n"
     ]
    },
    {
     "data": {
      "text/plain": [
       "graph: , mu: 4, type: mu_level_dl clustering: leiden rules: 245(245) mdl: 30_337.2 bits"
      ]
     },
     "metadata": {},
     "output_type": "display_data"
    },
    {
     "data": {
      "text/plain": [
       "-10.719007221086263"
      ]
     },
     "metadata": {},
     "output_type": "display_data"
    }
   ],
   "source": [
    "igrammar = update_grammar(grammar, g, h, time=t+1, signature='i', verbose=True)\n",
    "display(igrammar, igrammar.ll)"
   ]
  },
  {
   "cell_type": "code",
   "execution_count": 12,
   "id": "e0c83a2e",
   "metadata": {
    "scrolled": false
   },
   "outputs": [
    {
     "name": "stderr",
     "output_type": "stream",
     "text": [
      "joint changes: 100%|██████████| 120/120 [00:00<00:00, 9317.57it/s]\n",
      "additions: 100%|██████████| 3277/3277 [00:00<00:00, 11606.79it/s]\n",
      "additions: 100%|██████████| 11/11 [00:00<00:00, 16869.23it/s]\n"
     ]
    },
    {
     "data": {
      "text/plain": [
       "graph: , mu: 4, type: mu_level_dl clustering: leiden rules: 255(255) mdl: 30_687.8 bits"
      ]
     },
     "metadata": {},
     "output_type": "display_data"
    },
    {
     "data": {
      "text/plain": [
       "-10.663475290014881"
      ]
     },
     "metadata": {},
     "output_type": "display_data"
    }
   ],
   "source": [
    "jagrammar = update_grammar(grammar, g, h, time=t+1, signature='ja', verbose=True)\n",
    "display(jagrammar, jagrammar.ll)"
   ]
  },
  {
   "cell_type": "code",
   "execution_count": 13,
   "id": "89f80ac3",
   "metadata": {
    "scrolled": true
   },
   "outputs": [
    {
     "name": "stderr",
     "output_type": "stream",
     "text": [
      "joint changes: 100%|██████████| 120/120 [00:00<00:00, 5585.02it/s]\n",
      "additions: 100%|██████████| 3277/3277 [00:00<00:00, 12097.44it/s]\n",
      "additions: 100%|██████████| 11/11 [00:00<00:00, 19160.03it/s]\n"
     ]
    },
    {
     "data": {
      "text/plain": [
       "graph: , mu: 4, type: mu_level_dl clustering: leiden rules: 253(253) mdl: 30_588.5 bits"
      ]
     },
     "metadata": {},
     "output_type": "display_data"
    },
    {
     "data": {
      "text/plain": [
       "-10.6633817512079"
      ]
     },
     "metadata": {},
     "output_type": "display_data"
    }
   ],
   "source": [
    "jbgrammar = update_grammar(grammar, g, h, time=t+1, signature='jb', verbose=True)\n",
    "display(jbgrammar, jbgrammar.ll)"
   ]
  },
  {
   "cell_type": "markdown",
   "id": "311f4dde",
   "metadata": {},
   "source": [
    "# generation"
   ]
  },
  {
   "cell_type": "code",
   "execution_count": null,
   "id": "813689c3",
   "metadata": {},
   "outputs": [],
   "source": [
    "base_n = g.order()\n",
    "target_n = len(set(g.nodes()) | set(h.nodes()))\n",
    "target_e = len(set(g.edges()) | set(h.edges()))\n",
    "print(target_n, target_e, '|', g.order(), g.size(), '|', h.order(), h.size())"
   ]
  },
  {
   "cell_type": "code",
   "execution_count": null,
   "id": "203b2ea6",
   "metadata": {},
   "outputs": [],
   "source": [
    "base_g, base_ro = generate_graph(base_n, grammar, merge_iso_rules=False)\n",
    "base_g"
   ]
  },
  {
   "cell_type": "code",
   "execution_count": null,
   "id": "2784f3ef",
   "metadata": {
    "scrolled": true
   },
   "outputs": [],
   "source": [
    "ig, iro = generate_graph(target_n, igrammar, merge_iso_rules=False)\n",
    "ig"
   ]
  },
  {
   "cell_type": "code",
   "execution_count": null,
   "id": "e17e090d",
   "metadata": {},
   "outputs": [],
   "source": [
    "jag, jaro = generate_graph(target_n, jagrammar, merge_iso_rules=False)\n",
    "jag"
   ]
  },
  {
   "cell_type": "code",
   "execution_count": null,
   "id": "758c93d5",
   "metadata": {},
   "outputs": [],
   "source": [
    "jbg, jbro = generate_graph(target_n, jbgrammar, merge_iso_rules=False)\n",
    "jbg"
   ]
  },
  {
   "cell_type": "code",
   "execution_count": null,
   "id": "8d5ec156",
   "metadata": {},
   "outputs": [],
   "source": []
  },
  {
   "cell_type": "code",
   "execution_count": null,
   "id": "2f2451e7",
   "metadata": {},
   "outputs": [],
   "source": [
    "for rule, pidx, anode in jbgrammar:\n",
    "    if rule.lhs != (ll := sum(d['b_deg'] for v, d in rule.graph.nodes(data=True))):\n",
    "        print(rule.lhs, ll, rule, pidx, anode)"
   ]
  },
  {
   "cell_type": "code",
   "execution_count": null,
   "id": "83afe3e5",
   "metadata": {},
   "outputs": [],
   "source": [
    "for rule, _, _ in jbgrammar:\n",
    "    try:\n",
    "        if rule.branch:\n",
    "            print(rule)\n",
    "    except:\n",
    "        continue"
   ]
  },
  {
   "cell_type": "code",
   "execution_count": null,
   "id": "42a0e8d5",
   "metadata": {},
   "outputs": [],
   "source": [
    "jbgrammar.root"
   ]
  },
  {
   "cell_type": "code",
   "execution_count": null,
   "id": "128dad13",
   "metadata": {},
   "outputs": [],
   "source": []
  }
 ],
 "metadata": {
  "kernelspec": {
   "display_name": "Python 3",
   "language": "python",
   "name": "python3"
  },
  "language_info": {
   "codemirror_mode": {
    "name": "ipython",
    "version": 3
   },
   "file_extension": ".py",
   "mimetype": "text/x-python",
   "name": "python",
   "nbconvert_exporter": "python",
   "pygments_lexer": "ipython3",
   "version": "3.9.5"
  }
 },
 "nbformat": 4,
 "nbformat_minor": 5
}
