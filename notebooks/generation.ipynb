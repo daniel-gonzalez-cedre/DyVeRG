{
 "cells": [
  {
   "cell_type": "code",
   "execution_count": 1,
   "id": "1cbb42e6",
   "metadata": {},
   "outputs": [],
   "source": [
    "import sys\n",
    "import random\n",
    "import pickle\n",
    "from os.path import join\n",
    "\n",
    "sys.path.append('..')\n",
    "\n",
    "import numpy as np\n",
    "import networkx as nx\n",
    "\n",
    "from cnrg.VRG import VRG as VRG\n",
    "from cnrg.LightMultiGraph import convert\n",
    "from cnrg.LightMultiGraph import LightMultiGraph as LightMultiGraph\n",
    "from cnrg.generate import generate_graph\n",
    "from cnrg.globals import find_boundary_edges\n",
    "\n",
    "import matplotlib.pyplot as plt\n",
    "import matplotlib_inline\n",
    "%matplotlib inline\n",
    "matplotlib_inline.backend_inline.set_matplotlib_formats('svg')"
   ]
  },
  {
   "cell_type": "code",
   "execution_count": 2,
   "id": "06d80261",
   "metadata": {},
   "outputs": [],
   "source": [
    "sys.path.append('../src')\n",
    "from data import load_data\n",
    "from decomposition import decompose, decompose_component\n",
    "from adjoin_graph import update_grammar"
   ]
  },
  {
   "cell_type": "markdown",
   "id": "140d4d2b",
   "metadata": {},
   "source": [
    "# prelims"
   ]
  },
  {
   "cell_type": "code",
   "execution_count": 3,
   "id": "4a7250d2",
   "metadata": {},
   "outputs": [],
   "source": [
    "loaded = load_data(dataname='email-eucore', lookback=0)\n",
    "graphs = [g for _, g in loaded]\n",
    "times = [t for t, _ in loaded]"
   ]
  },
  {
   "cell_type": "code",
   "execution_count": 4,
   "id": "c0b7c978",
   "metadata": {},
   "outputs": [],
   "source": [
    "t = 0\n",
    "g = graphs[t]\n",
    "h = graphs[t + 1]"
   ]
  },
  {
   "cell_type": "code",
   "execution_count": 5,
   "id": "da636c91",
   "metadata": {
    "scrolled": false
   },
   "outputs": [
    {
     "name": "stderr",
     "output_type": "stream",
     "text": [
      "100%|███████████████████████████████|[00:00<00:00]\n",
      "100%|███████████████████████████████|[00:00<00:00]\n",
      "100%|███████████████████████████████|[00:00<00:00]\n",
      "100%|███████████████████████████████|[00:00<00:00]\n",
      "100%|███████████████████████████████|[00:00<00:00]\n"
     ]
    },
    {
     "data": {
      "text/plain": [
       "graph: , mu: 4, type: mu_level_dl clustering: leiden rules: 268(268) mdl: 25_861.1 bits"
      ]
     },
     "execution_count": 5,
     "metadata": {},
     "output_type": "execute_result"
    }
   ],
   "source": [
    "grammar = decompose(g, time=t)\n",
    "grammar"
   ]
  },
  {
   "cell_type": "code",
   "execution_count": 6,
   "id": "98cbec98",
   "metadata": {
    "scrolled": true
   },
   "outputs": [
    {
     "name": "stderr",
     "output_type": "stream",
     "text": [
      "additions: 100%|██████████| 2289/2289 [00:00<00:00, 6724.34it/s]\n"
     ]
    },
    {
     "data": {
      "text/plain": [
       "graph: , mu: 4, type: mu_level_dl clustering: leiden rules: 268(268) mdl: 30_141.2 bits"
      ]
     },
     "metadata": {},
     "output_type": "display_data"
    },
    {
     "data": {
      "text/plain": [
       "-10.321770164354907"
      ]
     },
     "metadata": {},
     "output_type": "display_data"
    }
   ],
   "source": [
    "igrammar = update_grammar(grammar, g, h, time=t, mode='i')\n",
    "display(igrammar, igrammar.ll)"
   ]
  },
  {
   "cell_type": "code",
   "execution_count": 7,
   "id": "e0c83a2e",
   "metadata": {},
   "outputs": [
    {
     "name": "stderr",
     "output_type": "stream",
     "text": [
      "joint changes: 100%|██████████| 53/53 [00:00<00:00, 869.04it/s]\n",
      "additions: 100%|██████████| 2207/2207 [00:01<00:00, 2182.14it/s]\n"
     ]
    },
    {
     "data": {
      "text/plain": [
       "graph: , mu: 4, type: mu_level_dl clustering: leiden rules: 374(374) mdl: 31_676.5 bits"
      ]
     },
     "metadata": {},
     "output_type": "display_data"
    },
    {
     "data": {
      "text/plain": [
       "-10.314503890682618"
      ]
     },
     "metadata": {},
     "output_type": "display_data"
    }
   ],
   "source": [
    "jagrammar = update_grammar(grammar, g, h, time=t, mode='ja')\n",
    "display(jagrammar, jagrammar.ll)"
   ]
  },
  {
   "cell_type": "code",
   "execution_count": 8,
   "id": "89f80ac3",
   "metadata": {},
   "outputs": [
    {
     "name": "stderr",
     "output_type": "stream",
     "text": [
      "joint changes: 100%|██████████| 53/53 [00:00<00:00, 966.23it/s]\n",
      "additions: 100%|██████████| 2207/2207 [00:01<00:00, 2175.12it/s]\n"
     ]
    },
    {
     "data": {
      "text/plain": [
       "graph: , mu: 4, type: mu_level_dl clustering: leiden rules: 374(374) mdl: 31_697.3 bits"
      ]
     },
     "metadata": {},
     "output_type": "display_data"
    },
    {
     "data": {
      "text/plain": [
       "-10.312214003346664"
      ]
     },
     "metadata": {},
     "output_type": "display_data"
    }
   ],
   "source": [
    "jbgrammar = update_grammar(grammar, g, h, time=t, mode='ja')\n",
    "display(jbgrammar, jbgrammar.ll)"
   ]
  },
  {
   "cell_type": "code",
   "execution_count": null,
   "id": "f297c154",
   "metadata": {},
   "outputs": [],
   "source": []
  },
  {
   "cell_type": "markdown",
   "id": "311f4dde",
   "metadata": {},
   "source": [
    "# generation"
   ]
  },
  {
   "cell_type": "code",
   "execution_count": 16,
   "id": "7429f7bc",
   "metadata": {},
   "outputs": [
    {
     "data": {
      "text/plain": [
       "<module 'cnrg.LightMultiGraph' from '/Users/danielgonzalez/repos/DyVeRG/notebooks/../cnrg/LightMultiGraph.py'>"
      ]
     },
     "execution_count": 16,
     "metadata": {},
     "output_type": "execute_result"
    }
   ],
   "source": [
    "from importlib import reload\n",
    "import sys\n",
    "import cnrg\n",
    "reload(cnrg.generate)\n",
    "reload(cnrg.LightMultiGraph)"
   ]
  },
  {
   "cell_type": "code",
   "execution_count": 17,
   "id": "813689c3",
   "metadata": {},
   "outputs": [
    {
     "name": "stdout",
     "output_type": "stream",
     "text": [
      "755 5626 | 702 3337 | 702 3463\n"
     ]
    }
   ],
   "source": [
    "base_n = g.order()\n",
    "target_n = len(set(g.nodes()) | set(h.nodes()))\n",
    "target_e = len(set(g.edges()) | set(h.edges()))\n",
    "print(target_n, target_e, '|', g.order(), g.size(), '|', h.order(), h.size())"
   ]
  },
  {
   "cell_type": "code",
   "execution_count": 18,
   "id": "203b2ea6",
   "metadata": {},
   "outputs": [
    {
     "name": "stdout",
     "output_type": "stream",
     "text": [
      "Graph generated in 4 tries.\n",
      "Generated graph: n = 675, m = 3275\n"
     ]
    },
    {
     "data": {
      "text/plain": [
       "n = 675 m = 3_275"
      ]
     },
     "execution_count": 18,
     "metadata": {},
     "output_type": "execute_result"
    }
   ],
   "source": [
    "base_g, base_ro = generate_graph(base_n, grammar, merge_iso_rules=False)\n",
    "base_g"
   ]
  },
  {
   "cell_type": "code",
   "execution_count": 25,
   "id": "2784f3ef",
   "metadata": {
    "scrolled": true
   },
   "outputs": [
    {
     "name": "stdout",
     "output_type": "stream",
     "text": [
      "Generated graph: n = 724, m = 5423\n"
     ]
    },
    {
     "data": {
      "text/plain": [
       "n = 724 m = 5_423"
      ]
     },
     "execution_count": 25,
     "metadata": {},
     "output_type": "execute_result"
    }
   ],
   "source": [
    "ig, iro = generate_graph(target_n, igrammar, merge_iso_rules=False)\n",
    "ig"
   ]
  },
  {
   "cell_type": "code",
   "execution_count": 28,
   "id": "a950771e",
   "metadata": {},
   "outputs": [
    {
     "ename": "AssertionError",
     "evalue": "",
     "output_type": "error",
     "traceback": [
      "\u001b[0;31m---------------------------------------------------------------------------\u001b[0m",
      "\u001b[0;31mAssertionError\u001b[0m                            Traceback (most recent call last)",
      "Input \u001b[0;32mIn [28]\u001b[0m, in \u001b[0;36m<module>\u001b[0;34m\u001b[0m\n\u001b[0;32m----> 1\u001b[0m jag, jaro \u001b[38;5;241m=\u001b[39m \u001b[43mgenerate_graph\u001b[49m\u001b[43m(\u001b[49m\u001b[43mtarget_n\u001b[49m\u001b[43m,\u001b[49m\u001b[43m \u001b[49m\u001b[43mjagrammar\u001b[49m\u001b[43m,\u001b[49m\u001b[43m \u001b[49m\u001b[43mmerge_iso_rules\u001b[49m\u001b[38;5;241;43m=\u001b[39;49m\u001b[38;5;28;43;01mFalse\u001b[39;49;00m\u001b[43m)\u001b[49m\n\u001b[1;32m      2\u001b[0m jag\n",
      "File \u001b[0;32m~/repos/DyVeRG/notebooks/../cnrg/generate.py:41\u001b[0m, in \u001b[0;36mgenerate_graph\u001b[0;34m(target_n, grammar, merge_iso_rules, tolerance)\u001b[0m\n\u001b[1;32m     38\u001b[0m \u001b[38;5;28;01mif\u001b[39;00m trial \u001b[38;5;241m>\u001b[39m max_trials:\n\u001b[1;32m     39\u001b[0m     \u001b[38;5;28;01mraise\u001b[39;00m \u001b[38;5;167;01mTimeoutError\u001b[39;00m(\u001b[38;5;124mf\u001b[39m\u001b[38;5;124m'\u001b[39m\u001b[38;5;124mGeneration failed in \u001b[39m\u001b[38;5;132;01m{\u001b[39;00mmax_trials\u001b[38;5;132;01m}\u001b[39;00m\u001b[38;5;124m steps\u001b[39m\u001b[38;5;124m'\u001b[39m)\n\u001b[0;32m---> 41\u001b[0m g, rule_ordering \u001b[38;5;241m=\u001b[39m \u001b[43m_generate_graph\u001b[49m\u001b[43m(\u001b[49m\u001b[43mrules\u001b[49m\u001b[38;5;241;43m=\u001b[39;49m\u001b[43mgrammar\u001b[49m\u001b[38;5;241;43m.\u001b[39;49m\u001b[43mrules\u001b[49m\u001b[43m,\u001b[49m\u001b[43m \u001b[49m\u001b[43mupper_bound\u001b[49m\u001b[38;5;241;43m=\u001b[39;49m\u001b[43mupper_bound\u001b[49m\u001b[43m)\u001b[49m\n\u001b[1;32m     42\u001b[0m \u001b[38;5;28;01mif\u001b[39;00m g \u001b[38;5;129;01mis\u001b[39;00m \u001b[38;5;28;01mNone\u001b[39;00m:  \u001b[38;5;66;03m# early termination\u001b[39;00m\n\u001b[1;32m     43\u001b[0m     \u001b[38;5;28;01mcontinue\u001b[39;00m\n",
      "File \u001b[0;32m~/repos/DyVeRG/notebooks/../cnrg/generate.py:101\u001b[0m, in \u001b[0;36m_generate_graph\u001b[0;34m(rules, upper_bound)\u001b[0m\n\u001b[1;32m     99\u001b[0m rule_ordering \u001b[38;5;241m+\u001b[39m\u001b[38;5;241m=\u001b[39m [rule\u001b[38;5;241m.\u001b[39midn]\n\u001b[1;32m    100\u001b[0m broken_edges \u001b[38;5;241m=\u001b[39m find_boundary_edges(new_g, {nts})\n\u001b[0;32m--> 101\u001b[0m \u001b[38;5;28;01massert\u001b[39;00m \u001b[38;5;28mlen\u001b[39m(broken_edges) \u001b[38;5;241m==\u001b[39m lhs \u001b[38;5;28;01mif\u001b[39;00m lhs \u001b[38;5;241m>\u001b[39m\u001b[38;5;241m=\u001b[39m \u001b[38;5;241m0\u001b[39m \u001b[38;5;28;01melse\u001b[39;00m \u001b[38;5;28;01mTrue\u001b[39;00m\n\u001b[1;32m    103\u001b[0m \u001b[38;5;66;03m# get ready to replace the chosen nonterminal with the right-hand side\u001b[39;00m\n\u001b[1;32m    104\u001b[0m new_g\u001b[38;5;241m.\u001b[39mremove_node(nts)\n",
      "\u001b[0;31mAssertionError\u001b[0m: "
     ]
    }
   ],
   "source": [
    "jag, jaro = generate_graph(target_n, jagrammar, merge_iso_rules=False)\n",
    "jag"
   ]
  },
  {
   "cell_type": "code",
   "execution_count": 29,
   "id": "cd5b8f52",
   "metadata": {},
   "outputs": [
    {
     "ename": "AssertionError",
     "evalue": "",
     "output_type": "error",
     "traceback": [
      "\u001b[0;31m---------------------------------------------------------------------------\u001b[0m",
      "\u001b[0;31mAssertionError\u001b[0m                            Traceback (most recent call last)",
      "Input \u001b[0;32mIn [29]\u001b[0m, in \u001b[0;36m<module>\u001b[0;34m\u001b[0m\n\u001b[0;32m----> 1\u001b[0m jbg, jbro \u001b[38;5;241m=\u001b[39m \u001b[43mgenerate_graph\u001b[49m\u001b[43m(\u001b[49m\u001b[43mtarget_n\u001b[49m\u001b[43m,\u001b[49m\u001b[43m \u001b[49m\u001b[43mjbgrammar\u001b[49m\u001b[43m,\u001b[49m\u001b[43m \u001b[49m\u001b[43mmerge_iso_rules\u001b[49m\u001b[38;5;241;43m=\u001b[39;49m\u001b[38;5;28;43;01mFalse\u001b[39;49;00m\u001b[43m)\u001b[49m\n\u001b[1;32m      2\u001b[0m jbg\n",
      "File \u001b[0;32m~/repos/DyVeRG/notebooks/../cnrg/generate.py:41\u001b[0m, in \u001b[0;36mgenerate_graph\u001b[0;34m(target_n, grammar, merge_iso_rules, tolerance)\u001b[0m\n\u001b[1;32m     38\u001b[0m \u001b[38;5;28;01mif\u001b[39;00m trial \u001b[38;5;241m>\u001b[39m max_trials:\n\u001b[1;32m     39\u001b[0m     \u001b[38;5;28;01mraise\u001b[39;00m \u001b[38;5;167;01mTimeoutError\u001b[39;00m(\u001b[38;5;124mf\u001b[39m\u001b[38;5;124m'\u001b[39m\u001b[38;5;124mGeneration failed in \u001b[39m\u001b[38;5;132;01m{\u001b[39;00mmax_trials\u001b[38;5;132;01m}\u001b[39;00m\u001b[38;5;124m steps\u001b[39m\u001b[38;5;124m'\u001b[39m)\n\u001b[0;32m---> 41\u001b[0m g, rule_ordering \u001b[38;5;241m=\u001b[39m \u001b[43m_generate_graph\u001b[49m\u001b[43m(\u001b[49m\u001b[43mrules\u001b[49m\u001b[38;5;241;43m=\u001b[39;49m\u001b[43mgrammar\u001b[49m\u001b[38;5;241;43m.\u001b[39;49m\u001b[43mrules\u001b[49m\u001b[43m,\u001b[49m\u001b[43m \u001b[49m\u001b[43mupper_bound\u001b[49m\u001b[38;5;241;43m=\u001b[39;49m\u001b[43mupper_bound\u001b[49m\u001b[43m)\u001b[49m\n\u001b[1;32m     42\u001b[0m \u001b[38;5;28;01mif\u001b[39;00m g \u001b[38;5;129;01mis\u001b[39;00m \u001b[38;5;28;01mNone\u001b[39;00m:  \u001b[38;5;66;03m# early termination\u001b[39;00m\n\u001b[1;32m     43\u001b[0m     \u001b[38;5;28;01mcontinue\u001b[39;00m\n",
      "File \u001b[0;32m~/repos/DyVeRG/notebooks/../cnrg/generate.py:101\u001b[0m, in \u001b[0;36m_generate_graph\u001b[0;34m(rules, upper_bound)\u001b[0m\n\u001b[1;32m     99\u001b[0m rule_ordering \u001b[38;5;241m+\u001b[39m\u001b[38;5;241m=\u001b[39m [rule\u001b[38;5;241m.\u001b[39midn]\n\u001b[1;32m    100\u001b[0m broken_edges \u001b[38;5;241m=\u001b[39m find_boundary_edges(new_g, {nts})\n\u001b[0;32m--> 101\u001b[0m \u001b[38;5;28;01massert\u001b[39;00m \u001b[38;5;28mlen\u001b[39m(broken_edges) \u001b[38;5;241m==\u001b[39m lhs \u001b[38;5;28;01mif\u001b[39;00m lhs \u001b[38;5;241m>\u001b[39m\u001b[38;5;241m=\u001b[39m \u001b[38;5;241m0\u001b[39m \u001b[38;5;28;01melse\u001b[39;00m \u001b[38;5;28;01mTrue\u001b[39;00m\n\u001b[1;32m    103\u001b[0m \u001b[38;5;66;03m# get ready to replace the chosen nonterminal with the right-hand side\u001b[39;00m\n\u001b[1;32m    104\u001b[0m new_g\u001b[38;5;241m.\u001b[39mremove_node(nts)\n",
      "\u001b[0;31mAssertionError\u001b[0m: "
     ]
    }
   ],
   "source": [
    "jbg, jbro = generate_graph(target_n, jbgrammar, merge_iso_rules=False)\n",
    "jbg"
   ]
  },
  {
   "cell_type": "code",
   "execution_count": null,
   "id": "94bb68a0",
   "metadata": {},
   "outputs": [],
   "source": []
  },
  {
   "cell_type": "code",
   "execution_count": null,
   "id": "83afe3e5",
   "metadata": {},
   "outputs": [],
   "source": []
  },
  {
   "cell_type": "code",
   "execution_count": null,
   "id": "42a0e8d5",
   "metadata": {},
   "outputs": [],
   "source": []
  },
  {
   "cell_type": "code",
   "execution_count": null,
   "id": "128dad13",
   "metadata": {},
   "outputs": [],
   "source": []
  }
 ],
 "metadata": {
  "kernelspec": {
   "display_name": "Python 3",
   "language": "python",
   "name": "python3"
  },
  "language_info": {
   "codemirror_mode": {
    "name": "ipython",
    "version": 3
   },
   "file_extension": ".py",
   "mimetype": "text/x-python",
   "name": "python",
   "nbconvert_exporter": "python",
   "pygments_lexer": "ipython3",
   "version": "3.9.5"
  }
 },
 "nbformat": 4,
 "nbformat_minor": 5
}
