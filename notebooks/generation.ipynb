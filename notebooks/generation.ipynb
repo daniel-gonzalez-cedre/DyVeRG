{
 "cells": [
  {
   "cell_type": "code",
   "execution_count": null,
   "id": "1cbb42e6",
   "metadata": {},
   "outputs": [],
   "source": [
    "import sys\n",
    "import random\n",
    "import pickle\n",
    "from os.path import join\n",
    "\n",
    "sys.path.append('..')\n",
    "\n",
    "import numpy as np\n",
    "import networkx as nx\n",
    "\n",
    "from cnrg.VRG import VRG as VRG\n",
    "from cnrg.LightMultiGraph import convert\n",
    "from cnrg.LightMultiGraph import LightMultiGraph as LightMultiGraph\n",
    "from cnrg.generate import generate_graph\n",
    "from cnrg.globals import find_boundary_edges\n",
    "from cnrg.generate import generate_graph\n",
    "\n",
    "import matplotlib.pyplot as plt\n",
    "import matplotlib_inline\n",
    "%matplotlib inline\n",
    "matplotlib_inline.backend_inline.set_matplotlib_formats('svg')"
   ]
  },
  {
   "cell_type": "code",
   "execution_count": null,
   "id": "06d80261",
   "metadata": {},
   "outputs": [],
   "source": [
    "sys.path.append('../src')\n",
    "from data import load_data\n",
    "from decomposition import decompose, decompose_component\n",
    "from adjoin_graph import update_grammar"
   ]
  },
  {
   "cell_type": "markdown",
   "id": "140d4d2b",
   "metadata": {},
   "source": [
    "# prelims"
   ]
  },
  {
   "cell_type": "code",
   "execution_count": 3,
   "id": "4a7250d2",
   "metadata": {},
   "outputs": [],
   "source": [
    "loaded = load_data(dataname='email-eucore', lookback=0)\n",
    "graphs = [g for _, g in loaded]\n",
    "times = [t for t, _ in loaded]"
   ]
  },
  {
   "cell_type": "code",
   "execution_count": 4,
   "id": "c0b7c978",
   "metadata": {},
   "outputs": [],
   "source": [
    "t = 13\n",
    "g = graphs[t]\n",
    "h = graphs[t + 1]"
   ]
  },
  {
   "cell_type": "code",
   "execution_count": 5,
   "id": "da636c91",
   "metadata": {
    "scrolled": true
   },
   "outputs": [
    {
     "name": "stderr",
     "output_type": "stream",
     "text": [
      "100%|███████████████████████████████|[00:00<00:00]\n",
      "100%|███████████████████████████████|[00:00<00:00]\n",
      "100%|███████████████████████████████|[00:00<00:00]\n",
      "100%|███████████████████████████████|[00:00<00:00]\n",
      "100%|███████████████████████████████|[00:00<00:00]\n",
      "100%|███████████████████████████████|[00:00<00:00]\n",
      "100%|███████████████████████████████|[00:00<00:00]\n"
     ]
    },
    {
     "data": {
      "text/plain": [
       "graph: , mu: 4, type: mu_level_dl clustering: leiden rules: 245(245) mdl: 19_990.3 bits"
      ]
     },
     "execution_count": 5,
     "metadata": {},
     "output_type": "execute_result"
    }
   ],
   "source": [
    "grammar = decompose(g, time=t)\n",
    "grammar"
   ]
  },
  {
   "cell_type": "code",
   "execution_count": 6,
   "id": "98cbec98",
   "metadata": {
    "scrolled": true
   },
   "outputs": [
    {
     "name": "stderr",
     "output_type": "stream",
     "text": [
      "additions: 100%|██████████| 3464/3464 [00:00<00:00, 12405.81it/s]\n",
      "additions: 100%|██████████| 63/63 [00:00<00:00, 13781.94it/s]\n"
     ]
    },
    {
     "data": {
      "text/plain": [
       "graph: , mu: 4, type: mu_level_dl clustering: leiden rules: 245(245) mdl: 30_224.5 bits"
      ]
     },
     "metadata": {},
     "output_type": "display_data"
    },
    {
     "data": {
      "text/plain": [
       "-10.735853049472523"
      ]
     },
     "metadata": {},
     "output_type": "display_data"
    }
   ],
   "source": [
    "igrammar = update_grammar(grammar, g, h, time=t+1, signature='i')\n",
    "display(igrammar, igrammar.ll)"
   ]
  },
  {
   "cell_type": "code",
   "execution_count": 7,
   "id": "e0c83a2e",
   "metadata": {
    "scrolled": false
   },
   "outputs": [
    {
     "name": "stderr",
     "output_type": "stream",
     "text": [
      "joint changes: 100%|██████████| 120/120 [00:00<00:00, 4882.59it/s]\n",
      "additions: 100%|██████████| 3277/3277 [00:00<00:00, 11220.88it/s]\n",
      "additions: 100%|██████████| 11/11 [00:00<00:00, 15849.31it/s]\n"
     ]
    },
    {
     "data": {
      "text/plain": [
       "graph: , mu: 4, type: mu_level_dl clustering: leiden rules: 257(257) mdl: 30_742.3 bits"
      ]
     },
     "metadata": {},
     "output_type": "display_data"
    },
    {
     "data": {
      "text/plain": [
       "-10.678652412305714"
      ]
     },
     "metadata": {},
     "output_type": "display_data"
    }
   ],
   "source": [
    "jagrammar = update_grammar(grammar, g, h, time=t+1, signature='ja')\n",
    "display(jagrammar, jagrammar.ll)"
   ]
  },
  {
   "cell_type": "code",
   "execution_count": 8,
   "id": "89f80ac3",
   "metadata": {
    "scrolled": true
   },
   "outputs": [
    {
     "name": "stderr",
     "output_type": "stream",
     "text": [
      "joint changes: 100%|██████████| 120/120 [00:00<00:00, 7863.21it/s]\n",
      "additions: 100%|██████████| 3277/3277 [00:00<00:00, 11826.95it/s]\n",
      "additions: 100%|██████████| 11/11 [00:00<00:00, 14665.40it/s]\n"
     ]
    },
    {
     "data": {
      "text/plain": [
       "graph: , mu: 4, type: mu_level_dl clustering: leiden rules: 255(255) mdl: 30_581.8 bits"
      ]
     },
     "metadata": {},
     "output_type": "display_data"
    },
    {
     "data": {
      "text/plain": [
       "-10.674336240759926"
      ]
     },
     "metadata": {},
     "output_type": "display_data"
    }
   ],
   "source": [
    "jbgrammar = update_grammar(grammar, g, h, time=t+1, signature='jb')\n",
    "display(jbgrammar, jbgrammar.ll)"
   ]
  },
  {
   "cell_type": "markdown",
   "id": "311f4dde",
   "metadata": {},
   "source": [
    "# generation"
   ]
  },
  {
   "cell_type": "code",
   "execution_count": 9,
   "id": "813689c3",
   "metadata": {},
   "outputs": [
    {
     "name": "stdout",
     "output_type": "stream",
     "text": [
      "794 5285 | 620 1758 | 772 4243\n"
     ]
    }
   ],
   "source": [
    "base_n = g.order()\n",
    "target_n = len(set(g.nodes()) | set(h.nodes()))\n",
    "target_e = len(set(g.edges()) | set(h.edges()))\n",
    "print(target_n, target_e, '|', g.order(), g.size(), '|', h.order(), h.size())"
   ]
  },
  {
   "cell_type": "code",
   "execution_count": 10,
   "id": "203b2ea6",
   "metadata": {},
   "outputs": [
    {
     "name": "stdout",
     "output_type": "stream",
     "text": [
      "Generated graph: n = 641, m = 1781\n"
     ]
    },
    {
     "data": {
      "text/plain": [
       "n = 641 m = 1_781"
      ]
     },
     "execution_count": 10,
     "metadata": {},
     "output_type": "execute_result"
    }
   ],
   "source": [
    "base_g, base_ro = generate_graph(base_n, grammar, merge_iso_rules=False)\n",
    "base_g"
   ]
  },
  {
   "cell_type": "code",
   "execution_count": 11,
   "id": "2784f3ef",
   "metadata": {
    "scrolled": true
   },
   "outputs": [
    {
     "name": "stdout",
     "output_type": "stream",
     "text": [
      "Graph generated in 5 tries.\n",
      "Generated graph: n = 805, m = 5513\n"
     ]
    },
    {
     "data": {
      "text/plain": [
       "n = 805 m = 5_513"
      ]
     },
     "execution_count": 11,
     "metadata": {},
     "output_type": "execute_result"
    }
   ],
   "source": [
    "ig, iro = generate_graph(target_n, igrammar, merge_iso_rules=False)\n",
    "ig"
   ]
  },
  {
   "cell_type": "code",
   "execution_count": 12,
   "id": "dd52c1f0",
   "metadata": {},
   "outputs": [
    {
     "name": "stdout",
     "output_type": "stream",
     "text": [
      "Generated graph: n = 821, m = 5224\n"
     ]
    },
    {
     "data": {
      "text/plain": [
       "n = 821 m = 5_224"
      ]
     },
     "execution_count": 12,
     "metadata": {},
     "output_type": "execute_result"
    }
   ],
   "source": [
    "jag, jaro = generate_graph(target_n, jagrammar, merge_iso_rules=False)\n",
    "jag"
   ]
  },
  {
   "cell_type": "code",
   "execution_count": null,
   "id": "049a435b",
   "metadata": {},
   "outputs": [],
   "source": []
  },
  {
   "cell_type": "code",
   "execution_count": 13,
   "id": "0527fa50",
   "metadata": {},
   "outputs": [
    {
     "name": "stdout",
     "output_type": "stream",
     "text": [
      "Graph generated in 3 tries.\n",
      "Generated graph: n = 775, m = 5162\n"
     ]
    },
    {
     "data": {
      "text/plain": [
       "n = 775 m = 5_162"
      ]
     },
     "execution_count": 13,
     "metadata": {},
     "output_type": "execute_result"
    }
   ],
   "source": [
    "jbg, jbro = generate_graph(target_n, jbgrammar, merge_iso_rules=False)\n",
    "jbg"
   ]
  },
  {
   "cell_type": "code",
   "execution_count": null,
   "id": "a89d8b74",
   "metadata": {},
   "outputs": [],
   "source": [
    "for rule, pidx, anode in jbgrammar:\n",
    "    if rule.lhs != (ll := sum(d['b_deg'] for v, d in rule.graph.nodes(data=True))):\n",
    "        print(rule.lhs, ll, rule, pidx, anode)"
   ]
  },
  {
   "cell_type": "code",
   "execution_count": null,
   "id": "83afe3e5",
   "metadata": {},
   "outputs": [],
   "source": [
    "for rule, _, _ in jbgrammar:\n",
    "    try:\n",
    "        if rule.branch:\n",
    "            print(rule)\n",
    "    except:\n",
    "        continue"
   ]
  },
  {
   "cell_type": "code",
   "execution_count": null,
   "id": "42a0e8d5",
   "metadata": {},
   "outputs": [],
   "source": [
    "jbgrammar.root"
   ]
  },
  {
   "cell_type": "code",
   "execution_count": null,
   "id": "128dad13",
   "metadata": {},
   "outputs": [],
   "source": []
  }
 ],
 "metadata": {
  "kernelspec": {
   "display_name": "Python 3",
   "language": "python",
   "name": "python3"
  },
  "language_info": {
   "codemirror_mode": {
    "name": "ipython",
    "version": 3
   },
   "file_extension": ".py",
   "mimetype": "text/x-python",
   "name": "python",
   "nbconvert_exporter": "python",
   "pygments_lexer": "ipython3",
   "version": "3.9.5"
  }
 },
 "nbformat": 4,
 "nbformat_minor": 5
}
