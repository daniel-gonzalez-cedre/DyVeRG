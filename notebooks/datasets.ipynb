{
 "cells": [
  {
   "cell_type": "code",
   "execution_count": 1,
   "metadata": {},
   "outputs": [],
   "source": [
    "from os.path import join\n",
    "import joblib\n",
    "import pickle\n",
    "import sys\n",
    "sys.path.append('/g/g15/cedre/')\n",
    "sys.path.append('/g/g15/cedre/cnrg')\n",
    "sys.path.append('/g/g15/cedre/cnrg/utils')\n",
    "sys.path.append('/g/g15/cedre/pysparkplug')\n",
    "sys.path.append('/g/g15/cedre/pysparkplug/pysp')\n",
    "\n",
    "import numpy as np\n",
    "import networkx as nx\n",
    "import matplotlib.pyplot as plt\n",
    "import seaborn as sns\n",
    "\n",
    "%matplotlib inline\n",
    "rng = np.random.RandomState()"
   ]
  },
  {
   "cell_type": "code",
   "execution_count": 2,
   "metadata": {},
   "outputs": [],
   "source": [
    "sys.path.append('/g/g15/cedre/gonzalez_mrhyde/scripts')\n",
    "from data_scripts import read_data, create_graphs\n",
    "from rule_to_rule_scripts import convert_LMG, decompose, ancestor, common_ancestor\n",
    "from rule_to_rule_scripts import update_grammar_independent, update_rule_case1, update_rule_case2"
   ]
  },
  {
   "cell_type": "code",
   "execution_count": 3,
   "metadata": {},
   "outputs": [],
   "source": [
    "def stats(graphs, T):\n",
    "    print('this,\\tnext,\\toverlap,\\trounded%,\\tadd,\\tdel,\\tchanges,\\tchurn%')\n",
    "    \n",
    "    avg_churn = 0\n",
    "    for idx in range(T - 1):\n",
    "        this_nodes = set(graphs[idx].nodes())\n",
    "        next_nodes = set(graphs[idx + 1].nodes())\n",
    "        overlap = this_nodes & next_nodes\n",
    "        additions = next_nodes - this_nodes\n",
    "        deletions = this_nodes - next_nodes\n",
    "        changes = additions | deletions\n",
    "        churn = 100 * len(changes) // graphs[idx].size()\n",
    "        avg_churn += churn\n",
    "        print(graphs[idx].order(),\n",
    "              '\\t',\n",
    "              graphs[idx + 1].order(),\n",
    "              '\\t',\n",
    "              len(overlap),\n",
    "              '\\t\\t',\n",
    "              100 * len(overlap) // len(this_nodes),\n",
    "              '\\t\\t',\n",
    "              len(additions),\n",
    "              '\\t',\n",
    "              len(deletions),\n",
    "              '\\t',\n",
    "              len(changes),\n",
    "              '\\t\\t',\n",
    "              churn)\n",
    "    \n",
    "    avg_churn /= (T - 1)\n",
    "    print(f'average churn: {avg_churn}')    "
   ]
  },
  {
   "cell_type": "code",
   "execution_count": 4,
   "metadata": {},
   "outputs": [],
   "source": [
    "datadir = '/g/g15/cedre/gonzalez_mrhyde/data'\n",
    "T = 10"
   ]
  },
  {
   "cell_type": "markdown",
   "metadata": {},
   "source": [
    "# nips"
   ]
  },
  {
   "cell_type": "code",
   "execution_count": null,
   "metadata": {},
   "outputs": [],
   "source": [
    "dataname = 'nips'\n",
    "graphs, years = read_data(dataname=dataname)"
   ]
  },
  {
   "cell_type": "code",
   "execution_count": null,
   "metadata": {
    "scrolled": true
   },
   "outputs": [],
   "source": [
    "stats(graphs, len(graphs))"
   ]
  },
  {
   "cell_type": "code",
   "execution_count": null,
   "metadata": {},
   "outputs": [],
   "source": []
  },
  {
   "cell_type": "markdown",
   "metadata": {},
   "source": [
    "# fb-messages"
   ]
  },
  {
   "cell_type": "code",
   "execution_count": 5,
   "metadata": {},
   "outputs": [],
   "source": [
    "dataname = 'fb-messages'\n",
    "path = join(datadir, dataname, f'{dataname}.edges')\n",
    "\n",
    "graph_data = nx.read_edgelist(path,\n",
    "                              delimiter=',',\n",
    "                              nodetype=int,\n",
    "                              data=[('time', float)])\n",
    "\n",
    "edges = sorted([(u, v, d['time']) for u, v, d in graph_data.edges(data=True)],\n",
    "               key=lambda x: x[2])\n",
    "times = sorted([t for u, v, t in edges])\n",
    "delta = len(times) // T\n",
    "\n",
    "edge_brackets = [edges[k * delta:(k + 1) * delta]\n",
    "                 for k in range(T + 1)]\n",
    "edge_brackets[T - 1] += edge_brackets[T]\n",
    "del edge_brackets[T]\n",
    "\n",
    "edges_clean = [[(u, v) for u, v, t in bracket]\n",
    "               for bracket in edge_brackets]\n",
    "\n",
    "graphs = [graph_data.edge_subgraph(clean)\n",
    "          for clean in edges_clean]"
   ]
  },
  {
   "cell_type": "code",
   "execution_count": 6,
   "metadata": {
    "scrolled": false
   },
   "outputs": [
    {
     "name": "stdout",
     "output_type": "stream",
     "text": [
      "True\n",
      "True\n",
      "True\n",
      "True\n",
      "True\n",
      "True\n",
      "True\n",
      "True\n",
      "True\n",
      "True\n"
     ]
    }
   ],
   "source": [
    "cum_graphs = [graphs[0].subgraph(sorted(nx.connected_components(graphs[0]), key=len, reverse=True)[0])]\n",
    "\n",
    "for idx, graph in enumerate(graphs[1:]):\n",
    "    next_graph = cum_graphs[idx].copy()\n",
    "    next_graph.add_nodes_from(graph.nodes())\n",
    "    next_graph.add_edges_from(graph.edges())\n",
    "    next_graph = next_graph.subgraph(sorted(nx.connected_components(next_graph), key=len, reverse=True)[0])\n",
    "    cum_graphs.append(next_graph)\n",
    "\n",
    "for g in cum_graphs:\n",
    "    print(nx.is_connected(g))"
   ]
  },
  {
   "cell_type": "code",
   "execution_count": 7,
   "metadata": {
    "scrolled": false
   },
   "outputs": [
    {
     "name": "stdout",
     "output_type": "stream",
     "text": [
      "this,\tnext,\toverlap,\trounded%,\tadd,\tdel,\tchanges,\tchurn%\n",
      "402 \t 666 \t 402 \t\t 100 \t\t 264 \t 0 \t 264 \t\t 19\n",
      "666 \t 902 \t 666 \t\t 100 \t\t 236 \t 0 \t 236 \t\t 8\n",
      "902 \t 1057 \t 902 \t\t 100 \t\t 155 \t 0 \t 155 \t\t 3\n",
      "1057 \t 1218 \t 1057 \t\t 100 \t\t 161 \t 0 \t 161 \t\t 2\n",
      "1218 \t 1364 \t 1218 \t\t 100 \t\t 146 \t 0 \t 146 \t\t 1\n",
      "1364 \t 1484 \t 1364 \t\t 100 \t\t 120 \t 0 \t 120 \t\t 1\n",
      "1484 \t 1643 \t 1484 \t\t 100 \t\t 159 \t 0 \t 159 \t\t 1\n",
      "1643 \t 1745 \t 1643 \t\t 100 \t\t 102 \t 0 \t 102 \t\t 0\n",
      "1745 \t 1888 \t 1745 \t\t 100 \t\t 143 \t 0 \t 143 \t\t 1\n",
      "average churn: 4.0\n"
     ]
    }
   ],
   "source": [
    "stats(cum_graphs, T)"
   ]
  },
  {
   "cell_type": "code",
   "execution_count": 8,
   "metadata": {},
   "outputs": [],
   "source": [
    "test_graphs = []\n",
    "k = len(graphs)\n",
    "\n",
    "for i in range(len(graphs)):\n",
    "    cum_nodes = set()\n",
    "    cum_edges = set()\n",
    "    \n",
    "    for g in graphs[max(0, i - k + 1):i + 1]:\n",
    "        cum_nodes |= set(g.nodes())\n",
    "        cum_edges |= set(g.edges())\n",
    "        \n",
    "    cum_graph = nx.Graph()\n",
    "    cum_graph.add_nodes_from(cum_nodes)\n",
    "    cum_graph.add_edges_from(cum_edges)\n",
    "    \n",
    "    cum_graph = cum_graph.subgraph(sorted(nx.connected_components(cum_graph), key=len, reverse=True)[0])\n",
    "    \n",
    "    test_graphs.append(cum_graph)"
   ]
  },
  {
   "cell_type": "code",
   "execution_count": 9,
   "metadata": {},
   "outputs": [
    {
     "name": "stdout",
     "output_type": "stream",
     "text": [
      "this,\tnext,\toverlap,\trounded%,\tadd,\tdel,\tchanges,\tchurn%\n",
      "402 \t 667 \t 402 \t\t 100 \t\t 265 \t 0 \t 265 \t\t 19\n",
      "667 \t 904 \t 667 \t\t 100 \t\t 237 \t 0 \t 237 \t\t 8\n",
      "904 \t 1061 \t 904 \t\t 100 \t\t 157 \t 0 \t 157 \t\t 3\n",
      "1061 \t 1224 \t 1061 \t\t 100 \t\t 163 \t 0 \t 163 \t\t 2\n",
      "1224 \t 1369 \t 1224 \t\t 100 \t\t 145 \t 0 \t 145 \t\t 1\n",
      "1369 \t 1490 \t 1369 \t\t 100 \t\t 121 \t 0 \t 121 \t\t 1\n",
      "1490 \t 1649 \t 1490 \t\t 100 \t\t 159 \t 0 \t 159 \t\t 1\n",
      "1649 \t 1751 \t 1649 \t\t 100 \t\t 102 \t 0 \t 102 \t\t 0\n",
      "1751 \t 1893 \t 1751 \t\t 100 \t\t 142 \t 0 \t 142 \t\t 1\n",
      "average churn: 4.0\n"
     ]
    }
   ],
   "source": [
    "stats(test_graphs, T)"
   ]
  },
  {
   "cell_type": "code",
   "execution_count": null,
   "metadata": {},
   "outputs": [],
   "source": []
  },
  {
   "cell_type": "code",
   "execution_count": 10,
   "metadata": {},
   "outputs": [],
   "source": [
    "graphs, years = read_data(dataname='fb-messages', cumulative=10)"
   ]
  },
  {
   "cell_type": "code",
   "execution_count": 11,
   "metadata": {},
   "outputs": [
    {
     "name": "stdout",
     "output_type": "stream",
     "text": [
      "this,\tnext,\toverlap,\trounded%,\tadd,\tdel,\tchanges,\tchurn%\n",
      "402 \t 663 \t 402 \t\t 100 \t\t 261 \t 0 \t 261 \t\t 18\n",
      "663 \t 899 \t 663 \t\t 100 \t\t 236 \t 0 \t 236 \t\t 8\n",
      "899 \t 1054 \t 899 \t\t 100 \t\t 155 \t 0 \t 155 \t\t 3\n",
      "1054 \t 1211 \t 1054 \t\t 100 \t\t 157 \t 0 \t 157 \t\t 2\n",
      "1211 \t 1352 \t 1211 \t\t 100 \t\t 141 \t 0 \t 141 \t\t 1\n",
      "1352 \t 1473 \t 1352 \t\t 100 \t\t 121 \t 0 \t 121 \t\t 1\n",
      "1473 \t 1626 \t 1473 \t\t 100 \t\t 153 \t 0 \t 153 \t\t 1\n",
      "1626 \t 1730 \t 1626 \t\t 100 \t\t 104 \t 0 \t 104 \t\t 0\n",
      "1730 \t 1870 \t 1730 \t\t 100 \t\t 140 \t 0 \t 140 \t\t 1\n",
      "average churn: 3.888888888888889\n"
     ]
    }
   ],
   "source": [
    "stats(graphs, T)"
   ]
  },
  {
   "cell_type": "code",
   "execution_count": null,
   "metadata": {},
   "outputs": [],
   "source": []
  },
  {
   "cell_type": "code",
   "execution_count": null,
   "metadata": {},
   "outputs": [],
   "source": []
  },
  {
   "cell_type": "code",
   "execution_count": null,
   "metadata": {},
   "outputs": [],
   "source": []
  },
  {
   "cell_type": "markdown",
   "metadata": {},
   "source": [
    "# email-dnc"
   ]
  },
  {
   "cell_type": "code",
   "execution_count": null,
   "metadata": {},
   "outputs": [],
   "source": [
    "dataname = 'email-dnc'\n",
    "path = join(datadir, dataname, f'{dataname}.edges')\n",
    "\n",
    "with open(path, 'r') as infile:\n",
    "    for idx, line in enumerate(infile):\n",
    "        u, v, t = map(int, line.strip().split(','))\n",
    "\n",
    "print('ligma')"
   ]
  },
  {
   "cell_type": "code",
   "execution_count": null,
   "metadata": {
    "scrolled": true
   },
   "outputs": [],
   "source": [
    "dataname = 'email-dnc'\n",
    "path = join(datadir, dataname, f'{dataname}.edges')\n",
    "\n",
    "graph_data = nx.read_edgelist(path,\n",
    "                              delimiter=',',\n",
    "                              nodetype=int,\n",
    "                              data=[('time', float)])\n",
    "\n",
    "edges = sorted([(u, v, d['time']) for u, v, d in graph_data.edges(data=True)],\n",
    "               key=lambda x: x[2])\n",
    "times = sorted([t for u, v, t in edges])\n",
    "delta = len(times) // T\n",
    "\n",
    "edge_brackets = [edges[k * delta:(k + 1) * delta]\n",
    "                 for k in range(T + 1)]\n",
    "edge_brackets[T - 1] += edge_brackets[T]\n",
    "del edge_brackets[T]\n",
    "\n",
    "edges_clean = [[(u, v) for u, v, t in bracket]\n",
    "               for bracket in edge_brackets]\n",
    "\n",
    "graphs = [graph_data.edge_subgraph(clean)\n",
    "          for clean in edges_clean]"
   ]
  },
  {
   "cell_type": "code",
   "execution_count": null,
   "metadata": {},
   "outputs": [],
   "source": [
    "stats(graphs, T)"
   ]
  },
  {
   "cell_type": "code",
   "execution_count": null,
   "metadata": {},
   "outputs": [],
   "source": [
    "graphs, years = read_data(dataname='email-dnc', cumulative=10)"
   ]
  },
  {
   "cell_type": "code",
   "execution_count": null,
   "metadata": {},
   "outputs": [],
   "source": [
    "stats(graphs, T)"
   ]
  },
  {
   "cell_type": "markdown",
   "metadata": {},
   "source": [
    "# ca-cit-HepTh"
   ]
  },
  {
   "cell_type": "code",
   "execution_count": null,
   "metadata": {},
   "outputs": [],
   "source": [
    "dataname = 'ca-cit-HepTh'\n",
    "path = join(datadir, dataname, f'{dataname}.edges')\n",
    "\n",
    "graph_data = nx.read_edgelist(path,\n",
    "                              delimiter=' ',\n",
    "                              nodetype=int,\n",
    "                              data=[('', int), ('time', int)])"
   ]
  },
  {
   "cell_type": "code",
   "execution_count": null,
   "metadata": {},
   "outputs": [],
   "source": [
    "edges = sorted([(u, v, d['time']) for u, v, d in graph_data.edges(data=True)],\n",
    "               key=lambda x: x[2])\n",
    "times = sorted([t for u, v, t in edges])\n",
    "delta = len(times) // T\n",
    "\n",
    "edge_brackets = [edges[k * delta:(k + 1) * delta]\n",
    "                 for k in range(T + 1)]\n",
    "edge_brackets[T - 1] += edge_brackets[T]\n",
    "del edge_brackets[T]\n",
    "\n",
    "edges_clean = [[(u, v) for u, v, t in bracket]\n",
    "               for bracket in edge_brackets]\n",
    "\n",
    "graphs = [graph_data.edge_subgraph(clean)\n",
    "          for clean in edges_clean]"
   ]
  },
  {
   "cell_type": "code",
   "execution_count": null,
   "metadata": {},
   "outputs": [],
   "source": [
    "stats(graphs, T)"
   ]
  },
  {
   "cell_type": "markdown",
   "metadata": {},
   "source": [
    "# ca-cit-HepPh"
   ]
  },
  {
   "cell_type": "code",
   "execution_count": null,
   "metadata": {},
   "outputs": [],
   "source": [
    "dataname = 'ca-cit-HepPh'\n",
    "path = join(datadir, dataname, f'{dataname}.edges')\n",
    "\n",
    "graph_data = nx.read_edgelist(path,\n",
    "                              delimiter=' ',\n",
    "                              nodetype=int,\n",
    "                              data=[('', int), ('time', int)])"
   ]
  },
  {
   "cell_type": "code",
   "execution_count": null,
   "metadata": {},
   "outputs": [],
   "source": [
    "edges = sorted([(u, v, d['time']) for u, v, d in graph_data.edges(data=True)],\n",
    "               key=lambda x: x[2])\n",
    "times = sorted([t for u, v, t in edges])\n",
    "delta = len(times) // T\n",
    "\n",
    "edge_brackets = [edges[k * delta:(k + 1) * delta]\n",
    "                 for k in range(T + 1)]\n",
    "edge_brackets[T - 1] += edge_brackets[T]\n",
    "del edge_brackets[T]\n",
    "\n",
    "edges_clean = [[(u, v) for u, v, t in bracket]\n",
    "               for bracket in edge_brackets]\n",
    "\n",
    "graphs = [graph_data.edge_subgraph(clean)\n",
    "          for clean in edges_clean]"
   ]
  },
  {
   "cell_type": "code",
   "execution_count": null,
   "metadata": {},
   "outputs": [],
   "source": [
    "stats(graphs, T)"
   ]
  },
  {
   "cell_type": "code",
   "execution_count": null,
   "metadata": {},
   "outputs": [],
   "source": []
  },
  {
   "cell_type": "code",
   "execution_count": null,
   "metadata": {},
   "outputs": [],
   "source": []
  },
  {
   "cell_type": "markdown",
   "metadata": {},
   "source": [
    "# tech-as-topology"
   ]
  },
  {
   "cell_type": "code",
   "execution_count": null,
   "metadata": {},
   "outputs": [],
   "source": [
    "dataname = 'tech-as-topology'\n",
    "path = join(datadir, dataname, f'{dataname}.edges')\n",
    "\n",
    "with open(path, 'r') as infile:\n",
    "    for line in infile:\n",
    "        u, v, k, t = map(int, line.strip().split(' '))\n",
    "        if k != 1:\n",
    "            print(k)\n",
    "\n",
    "print('confirming that the third data point on each line is always 1')"
   ]
  },
  {
   "cell_type": "code",
   "execution_count": null,
   "metadata": {},
   "outputs": [],
   "source": [
    "dataname = 'tech-as-topology'\n",
    "path = join(datadir, dataname, f'{dataname}.edges')\n",
    "\n",
    "graph_data = nx.read_edgelist(path,\n",
    "                              delimiter=' ',\n",
    "                              nodetype=int,\n",
    "                              data=[('', int), ('time', int)])"
   ]
  },
  {
   "cell_type": "code",
   "execution_count": null,
   "metadata": {},
   "outputs": [],
   "source": [
    "edges = sorted([(u, v, d['time']) for u, v, d in graph_data.edges(data=True)],\n",
    "               key=lambda x: x[2])\n",
    "times = sorted([t for u, v, t in edges])\n",
    "delta = len(times) // T\n",
    "\n",
    "edge_brackets = [edges[k * delta:(k + 1) * delta]\n",
    "                 for k in range(T + 1)]\n",
    "edge_brackets[T - 1] += edge_brackets[T]\n",
    "del edge_brackets[T]\n",
    "\n",
    "edges_clean = [[(u, v) for u, v, t in bracket]\n",
    "               for bracket in edge_brackets]\n",
    "\n",
    "graphs = [graph_data.edge_subgraph(clean)\n",
    "          for clean in edges_clean]"
   ]
  },
  {
   "cell_type": "code",
   "execution_count": null,
   "metadata": {},
   "outputs": [],
   "source": [
    "stats(graphs, T)"
   ]
  },
  {
   "cell_type": "code",
   "execution_count": null,
   "metadata": {},
   "outputs": [],
   "source": []
  },
  {
   "cell_type": "code",
   "execution_count": null,
   "metadata": {},
   "outputs": [],
   "source": []
  }
 ],
 "metadata": {
  "kernelspec": {
   "display_name": "conda python for LLNL",
   "language": "python",
   "name": "condakernel"
  },
  "language_info": {
   "codemirror_mode": {
    "name": "ipython",
    "version": 3
   },
   "file_extension": ".py",
   "mimetype": "text/x-python",
   "name": "python",
   "nbconvert_exporter": "python",
   "pygments_lexer": "ipython3",
   "version": "3.7.13"
  }
 },
 "nbformat": 4,
 "nbformat_minor": 4
}
