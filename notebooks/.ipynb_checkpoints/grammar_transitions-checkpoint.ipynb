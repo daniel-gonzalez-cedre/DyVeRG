{
 "cells": [
  {
   "cell_type": "code",
   "execution_count": 1,
   "id": "07a754c7",
   "metadata": {
    "scrolled": true
   },
   "outputs": [],
   "source": [
    "import sys\n",
    "import copy\n",
    "import random\n",
    "from os.path import join\n",
    "\n",
    "sys.path.append('..')\n",
    "\n",
    "import numpy as np\n",
    "import networkx as nx\n",
    "\n",
    "from cnrg.VRG import VRG as VRG\n",
    "from cnrg.LightMultiGraph import LightMultiGraph as LightMultiGraph"
   ]
  },
  {
   "cell_type": "code",
   "execution_count": 2,
   "id": "15f678a7",
   "metadata": {},
   "outputs": [],
   "source": [
    "sys.path.append('../src')\n",
    "from data_scripts import read_data, create_graphs\n",
    "from bookkeeping import convert_LMG, decompose, ancestor, common_ancestor\n",
    "from rule_transitions import update_rule_domestic, update_rule_diplomatic\n",
    "# from grammar_transitions import \n",
    "from update_grammar import update_grammar"
   ]
  },
  {
   "cell_type": "code",
   "execution_count": 3,
   "id": "5efaafcc",
   "metadata": {},
   "outputs": [],
   "source": [
    "dataname = 'fb-messages'\n",
    "graphs, years = read_data(dataname=dataname, lookback=1)"
   ]
  },
  {
   "cell_type": "code",
   "execution_count": 4,
   "id": "807b1e32",
   "metadata": {},
   "outputs": [],
   "source": [
    "graph0 = graphs[0]\n",
    "graph1 = graphs[1]"
   ]
  },
  {
   "cell_type": "code",
   "execution_count": 5,
   "id": "52d17512",
   "metadata": {
    "scrolled": false
   },
   "outputs": [
    {
     "name": "stderr",
     "output_type": "stream",
     "text": [
      "100%|███████████████████████████████|[00:00<00:00]\n",
      "WARNING:root:graph: , mu: 4, type: mu_level_dl clustering: leiden rules: 117(117) mdl: 16_764.8 bits generated in 0.226 secs\n",
      "\n"
     ]
    },
    {
     "data": {
      "text/plain": [
       "graph: , mu: 4, type: mu_level_dl clustering: leiden rules: 117(117) mdl: 16_764.8 bits"
      ]
     },
     "execution_count": 5,
     "metadata": {},
     "output_type": "execute_result"
    }
   ],
   "source": [
    "grammar = decompose(graph0, mu=4)\n",
    "grammar"
   ]
  },
  {
   "cell_type": "code",
   "execution_count": 6,
   "id": "bc30e713",
   "metadata": {
    "scrolled": true
   },
   "outputs": [
    {
     "name": "stderr",
     "output_type": "stream",
     "text": [
      "joint changes:   0%|          | 0/69 [00:00<?, ?it/s]\n",
      "100%|███████████████████████████████|[00:00<00:00]\u001b[A\n",
      "WARNING:root:graph: , mu: 4, type: mu_level_dl clustering: leiden rules: 107(107) mdl: 12_165.6 bits generated in 0.103 secs\n",
      "\n",
      "joint changes: 100%|██████████| 69/69 [00:01<00:00, 44.02it/s]\n",
      "additions: 1: 100%|██████████| 457/457 [00:25<00:00, 17.94it/s]\n",
      "additions: 2: 100%|██████████| 3/3 [00:00<00:00, 26.07it/s]\n"
     ]
    },
    {
     "data": {
      "text/plain": [
       "graph: , mu: 4, type: mu_level_dl clustering: leiden rules: 439(222) mdl: 543_272 bits"
      ]
     },
     "execution_count": 6,
     "metadata": {},
     "output_type": "execute_result"
    }
   ],
   "source": [
    "new_grammar = update_grammar(grammar, graph0, graph1)\n",
    "new_grammar"
   ]
  },
  {
   "cell_type": "code",
   "execution_count": 7,
   "id": "93adc8b6",
   "metadata": {},
   "outputs": [
    {
     "name": "stdout",
     "output_type": "stream",
     "text": [
      "-106.20320832702843\n",
      "543271.9996675028\n"
     ]
    }
   ],
   "source": [
    "print(new_grammar.conditional_ll())\n",
    "print(new_grammar.cost)"
   ]
  },
  {
   "cell_type": "code",
   "execution_count": 8,
   "id": "fd4d67e5",
   "metadata": {},
   "outputs": [
    {
     "name": "stdout",
     "output_type": "stream",
     "text": [
      "True\n",
      "False\n"
     ]
    }
   ],
   "source": [
    "randomrule = grammar.rule_tree[50][0]\n",
    "otherrule = grammar.rule_list[grammar.rule_list.index(randomrule)]\n",
    "print(randomrule == otherrule)\n",
    "print(randomrule is otherrule)"
   ]
  },
  {
   "cell_type": "code",
   "execution_count": 10,
   "id": "98e25caa",
   "metadata": {},
   "outputs": [
    {
     "data": {
      "text/plain": [
       "[]"
      ]
     },
     "execution_count": 10,
     "metadata": {},
     "output_type": "execute_result"
    }
   ],
   "source": [
    "otherrule.non_terminals"
   ]
  },
  {
   "cell_type": "code",
   "execution_count": 11,
   "id": "bff652ee",
   "metadata": {
    "collapsed": true
   },
   "outputs": [
    {
     "name": "stdout",
     "output_type": "stream",
     "text": [
      "False\n",
      "False\n",
      "False\n",
      "False\n",
      "False\n",
      "False\n",
      "False\n",
      "False\n",
      "False\n",
      "False\n",
      "False\n",
      "False\n",
      "False\n",
      "False\n",
      "True\n",
      "False\n",
      "False\n",
      "False\n",
      "False\n",
      "False\n",
      "False\n",
      "False\n",
      "False\n",
      "False\n",
      "False\n",
      "False\n",
      "False\n",
      "False\n",
      "False\n",
      "True\n",
      "False\n",
      "False\n",
      "False\n",
      "False\n",
      "False\n",
      "False\n",
      "False\n",
      "False\n",
      "False\n",
      "False\n",
      "False\n",
      "False\n",
      "False\n",
      "False\n",
      "False\n",
      "False\n",
      "False\n",
      "False\n",
      "False\n",
      "False\n",
      "False\n",
      "False\n",
      "False\n",
      "False\n",
      "True\n",
      "False\n",
      "False\n",
      "False\n",
      "False\n",
      "False\n",
      "False\n",
      "False\n",
      "False\n",
      "False\n",
      "False\n",
      "False\n",
      "True\n",
      "False\n",
      "False\n",
      "False\n",
      "False\n",
      "False\n",
      "False\n",
      "True\n",
      "True\n",
      "True\n",
      "False\n",
      "True\n",
      "False\n",
      "True\n",
      "True\n",
      "False\n",
      "True\n",
      "False\n",
      "False\n",
      "False\n",
      "True\n",
      "True\n",
      "False\n",
      "False\n",
      "True\n",
      "True\n",
      "False\n",
      "False\n",
      "False\n",
      "False\n",
      "False\n",
      "False\n",
      "False\n",
      "False\n",
      "False\n",
      "False\n",
      "False\n",
      "False\n",
      "False\n",
      "False\n",
      "False\n",
      "False\n",
      "False\n",
      "False\n",
      "False\n",
      "False\n",
      "False\n",
      "False\n",
      "False\n",
      "False\n",
      "False\n",
      "True\n",
      "True\n",
      "True\n",
      "True\n",
      "True\n",
      "False\n",
      "True\n",
      "True\n",
      "True\n",
      "True\n",
      "True\n",
      "True\n",
      "False\n",
      "True\n",
      "False\n",
      "False\n",
      "False\n",
      "False\n",
      "False\n",
      "True\n",
      "False\n",
      "False\n",
      "False\n",
      "True\n",
      "False\n",
      "False\n",
      "True\n",
      "False\n",
      "True\n",
      "False\n",
      "True\n",
      "False\n",
      "False\n",
      "False\n",
      "False\n",
      "False\n",
      "True\n",
      "False\n",
      "True\n",
      "True\n",
      "False\n",
      "False\n",
      "True\n",
      "True\n",
      "False\n",
      "True\n",
      "True\n",
      "False\n",
      "False\n",
      "False\n",
      "False\n",
      "True\n",
      "False\n",
      "True\n",
      "False\n",
      "False\n",
      "False\n",
      "True\n",
      "True\n",
      "False\n",
      "False\n",
      "False\n",
      "False\n",
      "False\n",
      "True\n",
      "False\n",
      "False\n",
      "False\n",
      "False\n",
      "False\n",
      "True\n",
      "False\n",
      "False\n",
      "False\n",
      "True\n",
      "False\n",
      "False\n",
      "True\n",
      "False\n",
      "False\n",
      "False\n",
      "False\n",
      "True\n",
      "False\n",
      "False\n",
      "False\n",
      "True\n",
      "False\n",
      "False\n",
      "False\n",
      "False\n",
      "False\n",
      "False\n",
      "False\n",
      "False\n",
      "True\n",
      "False\n",
      "False\n",
      "False\n",
      "True\n",
      "True\n",
      "True\n",
      "True\n",
      "False\n",
      "False\n",
      "True\n",
      "False\n",
      "False\n",
      "False\n",
      "True\n",
      "False\n",
      "False\n",
      "True\n",
      "False\n",
      "False\n",
      "False\n",
      "False\n",
      "True\n",
      "False\n",
      "False\n",
      "False\n",
      "True\n",
      "False\n",
      "False\n",
      "False\n",
      "True\n",
      "False\n",
      "False\n",
      "False\n",
      "False\n",
      "False\n",
      "True\n",
      "False\n",
      "True\n",
      "False\n",
      "False\n",
      "False\n",
      "True\n",
      "True\n",
      "True\n",
      "True\n",
      "True\n",
      "True\n",
      "True\n",
      "True\n",
      "True\n",
      "True\n",
      "True\n",
      "True\n",
      "True\n",
      "True\n",
      "True\n",
      "True\n",
      "True\n",
      "True\n",
      "True\n",
      "True\n",
      "True\n",
      "True\n",
      "True\n",
      "True\n",
      "True\n",
      "True\n",
      "True\n",
      "True\n",
      "True\n",
      "True\n",
      "True\n",
      "True\n",
      "True\n",
      "True\n",
      "True\n",
      "True\n",
      "True\n",
      "True\n",
      "True\n",
      "True\n",
      "True\n",
      "True\n",
      "True\n",
      "True\n",
      "True\n",
      "True\n",
      "True\n",
      "True\n",
      "True\n",
      "True\n",
      "True\n",
      "True\n",
      "True\n",
      "True\n",
      "True\n",
      "True\n",
      "True\n",
      "True\n",
      "True\n",
      "True\n",
      "True\n",
      "True\n",
      "True\n",
      "True\n",
      "True\n",
      "True\n",
      "True\n",
      "True\n",
      "True\n",
      "True\n",
      "True\n",
      "True\n",
      "True\n",
      "True\n",
      "True\n",
      "True\n",
      "True\n",
      "True\n",
      "True\n",
      "True\n",
      "True\n",
      "True\n",
      "True\n",
      "True\n",
      "True\n",
      "True\n",
      "True\n",
      "True\n",
      "True\n",
      "True\n",
      "True\n",
      "True\n",
      "True\n",
      "True\n",
      "True\n",
      "True\n",
      "True\n",
      "True\n",
      "True\n",
      "True\n",
      "True\n",
      "True\n",
      "True\n",
      "True\n",
      "True\n",
      "True\n",
      "True\n",
      "True\n",
      "True\n",
      "True\n",
      "True\n",
      "True\n",
      "True\n",
      "True\n",
      "True\n",
      "True\n",
      "True\n",
      "True\n",
      "True\n",
      "True\n",
      "True\n",
      "True\n",
      "True\n",
      "True\n",
      "True\n",
      "True\n",
      "True\n",
      "True\n",
      "False\n",
      "False\n",
      "False\n",
      "False\n",
      "False\n",
      "False\n",
      "False\n",
      "False\n",
      "False\n",
      "False\n",
      "False\n",
      "False\n",
      "False\n",
      "False\n",
      "False\n",
      "False\n",
      "False\n",
      "False\n",
      "True\n",
      "False\n",
      "False\n",
      "True\n",
      "False\n",
      "False\n",
      "False\n",
      "False\n",
      "False\n",
      "False\n",
      "False\n",
      "False\n",
      "False\n",
      "False\n",
      "False\n",
      "False\n",
      "False\n",
      "False\n",
      "False\n",
      "True\n"
     ]
    }
   ],
   "source": [
    "for rule, _, _ in new_grammar.rule_tree:\n",
    "    print(rule in new_grammar.rule_list)"
   ]
  },
  {
   "cell_type": "code",
   "execution_count": 12,
   "id": "db02d6b6",
   "metadata": {},
   "outputs": [
    {
     "name": "stderr",
     "output_type": "stream",
     "text": [
      "additions: 1: 100%|██████████| 854/854 [00:07<00:00, 118.50it/s]\n",
      "additions: 2: 100%|██████████| 296/296 [00:06<00:00, 45.89it/s]\n",
      "additions: 3: 100%|██████████| 75/75 [00:02<00:00, 30.16it/s]\n",
      "additions: 4: 100%|██████████| 10/10 [00:00<00:00, 19.45it/s]\n"
     ]
    },
    {
     "data": {
      "text/plain": [
       "graph: , mu: 4, type: mu_level_dl clustering: leiden rules: 871(117) mdl: 549_867 bits"
      ]
     },
     "execution_count": 12,
     "metadata": {},
     "output_type": "execute_result"
    }
   ],
   "source": [
    "indep_grammar = update_grammar(grammar, graph0, graph1, mode='independent')\n",
    "indep_grammar"
   ]
  },
  {
   "cell_type": "code",
   "execution_count": 17,
   "id": "300442c0",
   "metadata": {},
   "outputs": [
    {
     "name": "stdout",
     "output_type": "stream",
     "text": [
      "-209.63238384317702\n",
      "549867.2251202534\n"
     ]
    }
   ],
   "source": [
    "print(indep_grammar.conditional_ll())\n",
    "print(indep_grammar.cost)"
   ]
  },
  {
   "cell_type": "code",
   "execution_count": 21,
   "id": "7b81745c",
   "metadata": {
    "scrolled": true
   },
   "outputs": [
    {
     "name": "stdout",
     "output_type": "stream",
     "text": [
      "True\n",
      "True\n",
      "True\n",
      "True\n",
      "True\n",
      "True\n",
      "True\n",
      "True\n",
      "True\n",
      "True\n",
      "True\n",
      "True\n",
      "True\n",
      "True\n",
      "True\n",
      "True\n",
      "True\n",
      "True\n",
      "True\n",
      "True\n",
      "True\n",
      "True\n",
      "True\n",
      "True\n",
      "True\n",
      "True\n",
      "True\n",
      "True\n",
      "True\n",
      "True\n",
      "True\n",
      "True\n",
      "True\n",
      "True\n",
      "True\n",
      "True\n",
      "True\n",
      "True\n",
      "True\n",
      "True\n",
      "True\n",
      "True\n",
      "True\n",
      "True\n",
      "True\n",
      "True\n",
      "True\n",
      "True\n",
      "True\n",
      "True\n",
      "True\n",
      "True\n",
      "True\n",
      "True\n",
      "True\n",
      "True\n",
      "True\n",
      "True\n",
      "True\n",
      "True\n",
      "True\n",
      "True\n",
      "True\n",
      "True\n",
      "True\n",
      "True\n",
      "True\n",
      "True\n",
      "True\n",
      "True\n",
      "True\n",
      "True\n",
      "True\n",
      "True\n",
      "True\n",
      "True\n",
      "True\n",
      "True\n",
      "True\n",
      "True\n",
      "True\n",
      "True\n",
      "True\n",
      "True\n",
      "True\n",
      "True\n",
      "True\n",
      "True\n",
      "True\n",
      "True\n",
      "True\n",
      "True\n",
      "True\n",
      "True\n",
      "True\n",
      "True\n",
      "True\n",
      "True\n",
      "True\n",
      "True\n",
      "True\n",
      "True\n",
      "True\n",
      "True\n",
      "True\n",
      "True\n",
      "True\n",
      "True\n",
      "True\n",
      "True\n",
      "True\n",
      "True\n",
      "True\n",
      "True\n",
      "True\n",
      "True\n",
      "True\n",
      "True\n",
      "True\n",
      "True\n",
      "True\n",
      "True\n",
      "True\n",
      "True\n",
      "True\n",
      "True\n",
      "True\n",
      "True\n",
      "True\n",
      "True\n",
      "True\n",
      "True\n",
      "True\n",
      "True\n",
      "True\n",
      "True\n",
      "True\n",
      "True\n",
      "True\n",
      "True\n",
      "True\n",
      "True\n",
      "True\n",
      "True\n",
      "True\n",
      "True\n",
      "True\n",
      "True\n",
      "True\n",
      "True\n",
      "True\n",
      "True\n",
      "True\n",
      "True\n",
      "True\n",
      "True\n",
      "True\n",
      "True\n",
      "True\n",
      "True\n",
      "True\n",
      "True\n",
      "True\n",
      "True\n",
      "True\n",
      "True\n",
      "True\n",
      "True\n",
      "True\n",
      "True\n",
      "True\n",
      "True\n",
      "True\n",
      "True\n",
      "True\n",
      "True\n",
      "True\n",
      "True\n",
      "True\n",
      "True\n",
      "True\n",
      "True\n",
      "True\n",
      "True\n",
      "True\n",
      "True\n",
      "True\n",
      "True\n",
      "True\n",
      "True\n",
      "True\n",
      "True\n",
      "True\n",
      "True\n",
      "True\n",
      "True\n",
      "True\n",
      "True\n",
      "True\n",
      "True\n",
      "True\n",
      "True\n",
      "True\n",
      "True\n",
      "True\n",
      "True\n",
      "True\n",
      "True\n",
      "True\n",
      "True\n",
      "True\n",
      "True\n",
      "True\n",
      "True\n",
      "True\n",
      "True\n",
      "True\n",
      "True\n",
      "True\n",
      "True\n",
      "True\n",
      "True\n",
      "True\n",
      "True\n",
      "True\n",
      "True\n",
      "True\n",
      "True\n",
      "True\n",
      "True\n",
      "True\n",
      "True\n",
      "True\n",
      "True\n",
      "True\n",
      "True\n",
      "True\n",
      "True\n",
      "True\n",
      "True\n",
      "True\n",
      "True\n",
      "True\n",
      "True\n",
      "True\n",
      "True\n",
      "True\n",
      "True\n",
      "True\n",
      "True\n",
      "True\n",
      "True\n",
      "True\n",
      "True\n",
      "True\n",
      "True\n",
      "True\n",
      "True\n",
      "True\n",
      "True\n",
      "True\n",
      "True\n",
      "True\n",
      "True\n",
      "True\n",
      "True\n",
      "True\n",
      "True\n",
      "True\n",
      "True\n",
      "True\n",
      "True\n"
     ]
    }
   ],
   "source": [
    "for rule, _, _ in indep_grammar.rule_tree:\n",
    "    print(rule in indep_grammar.rule_list)"
   ]
  },
  {
   "cell_type": "code",
   "execution_count": null,
   "id": "c8a5a718",
   "metadata": {},
   "outputs": [],
   "source": []
  },
  {
   "cell_type": "code",
   "execution_count": null,
   "id": "38881417",
   "metadata": {},
   "outputs": [],
   "source": []
  },
  {
   "cell_type": "code",
   "execution_count": null,
   "id": "813e6e84",
   "metadata": {
    "scrolled": false
   },
   "outputs": [],
   "source": [
    "good = []\n",
    "bad = []\n",
    "\n",
    "for idx, rule in enumerate(new_grammar.rule_list):\n",
    "    try:\n",
    "        rule.calculate_cost()\n",
    "    except:\n",
    "        bad.append(idx)\n",
    "        #print(idx, rule)\n",
    "        #print(rule.graph.nodes(data=True))\n",
    "        #print(rule.graph.edges(data=True))\n",
    "    else:\n",
    "        good.append(idx)\n"
   ]
  },
  {
   "cell_type": "code",
   "execution_count": null,
   "id": "294190f6",
   "metadata": {},
   "outputs": [],
   "source": [
    "print(len(new_grammar.rule_list))\n",
    "print(len(good))\n",
    "print(len(bad))"
   ]
  },
  {
   "cell_type": "code",
   "execution_count": null,
   "id": "88d5d212",
   "metadata": {},
   "outputs": [],
   "source": [
    "count = 0\n",
    "for idx, rule in enumerate(new_grammar.rule_list):\n",
    "    b_deg = nx.get_node_attributes(rule.graph, 'b_deg')\n",
    "    if len(b_deg) != rule.graph.order():\n",
    "        # print(idx)\n",
    "        # print(rule.graph.nodes(data=True))\n",
    "        count += 1\n",
    "        if idx not in bad:\n",
    "            print(rule.graph.nodes(data=True))\n",
    "        \n",
    "print(count)"
   ]
  },
  {
   "cell_type": "code",
   "execution_count": null,
   "id": "26eda480",
   "metadata": {},
   "outputs": [],
   "source": [
    "copy_grammar = grammar.copy()\n",
    "copy_copy_grammar = copy_grammar.copy()\n",
    "copy_copy_copy_grammar = copy_copy_grammar.copy()"
   ]
  },
  {
   "cell_type": "code",
   "execution_count": null,
   "id": "87a5fcfb",
   "metadata": {},
   "outputs": [],
   "source": [
    "count = 0\n",
    "for idx, rule in enumerate(copy_grammar.rule_list):\n",
    "    b_deg = nx.get_node_attributes(rule.graph, 'b_deg')\n",
    "    if len(b_deg) != rule.graph.order():\n",
    "        # print(idx)\n",
    "        # print(rule.graph.nodes(data=True))\n",
    "        count += 1\n",
    "        \n",
    "print(count)\n",
    "\n",
    "count = 0\n",
    "for idx, rule in enumerate(copy_copy_grammar.rule_list):\n",
    "    b_deg = nx.get_node_attributes(rule.graph, 'b_deg')\n",
    "    if len(b_deg) != rule.graph.order():\n",
    "        # print(idx)\n",
    "        # print(rule.graph.nodes(data=True))\n",
    "        count += 1\n",
    "        \n",
    "print(count)\n",
    "\n",
    "count = 0\n",
    "for idx, rule in enumerate(copy_copy_copy_grammar.rule_list):\n",
    "    b_deg = nx.get_node_attributes(rule.graph, 'b_deg')\n",
    "    if len(b_deg) != rule.graph.order():\n",
    "        # print(idx)\n",
    "        # print(rule.graph.nodes(data=True))\n",
    "        count += 1\n",
    "        \n",
    "print(count)"
   ]
  },
  {
   "cell_type": "code",
   "execution_count": null,
   "id": "13f5aa26",
   "metadata": {},
   "outputs": [],
   "source": [
    "for rule in  copy_grammar.rule_list:\n",
    "    for v, d in rule.graph.nodes(data=True):\n",
    "        if len(d) > 0:\n",
    "            print(d)"
   ]
  },
  {
   "cell_type": "code",
   "execution_count": null,
   "id": "1a4b3933",
   "metadata": {},
   "outputs": [],
   "source": [
    "x = copy_grammar.rule_list\n",
    "y = [rule.copy() for rule in x]\n",
    "\n",
    "for rule in y:\n",
    "    for v, d in rule.graph.nodes(data=True):\n",
    "        if len(d) > 0:\n",
    "            print(d)"
   ]
  },
  {
   "cell_type": "code",
   "execution_count": null,
   "id": "1dc6e4e1",
   "metadata": {},
   "outputs": [],
   "source": [
    "for rule in  copy_copy_copy_grammar.rule_list:\n",
    "    for v, d in rule.graph.nodes(data=True):\n",
    "        if len(d) > 0:\n",
    "            print(d)"
   ]
  },
  {
   "cell_type": "code",
   "execution_count": null,
   "id": "9239c847",
   "metadata": {},
   "outputs": [],
   "source": [
    "grammar.mu"
   ]
  },
  {
   "cell_type": "code",
   "execution_count": null,
   "id": "c5d2c64d",
   "metadata": {},
   "outputs": [],
   "source": [
    "z = {frozenset({1, 2}): 'a', frozenset({1, 3}): 'b'}"
   ]
  },
  {
   "cell_type": "code",
   "execution_count": null,
   "id": "9c0b1a05",
   "metadata": {},
   "outputs": [],
   "source": []
  },
  {
   "cell_type": "code",
   "execution_count": null,
   "id": "56276842",
   "metadata": {},
   "outputs": [],
   "source": []
  },
  {
   "cell_type": "code",
   "execution_count": null,
   "id": "9248e817",
   "metadata": {},
   "outputs": [],
   "source": []
  },
  {
   "cell_type": "code",
   "execution_count": null,
   "id": "b43d726a",
   "metadata": {},
   "outputs": [],
   "source": [
    "print(graph0.order(), graph0.size())\n",
    "print(graph1.order(), graph1.size())"
   ]
  },
  {
   "cell_type": "code",
   "execution_count": null,
   "id": "5fa08a85",
   "metadata": {},
   "outputs": [],
   "source": [
    "g = nx.Graph()\n",
    "g.add_nodes_from([1, 2, 3, 4], b_deg=0)\n",
    "g.add_edge(1, 2)"
   ]
  },
  {
   "cell_type": "code",
   "execution_count": null,
   "id": "1bee2b7c",
   "metadata": {},
   "outputs": [],
   "source": [
    "h = g.copy()\n",
    "k = h.copy()\n",
    "l = k.copy()"
   ]
  },
  {
   "cell_type": "code",
   "execution_count": null,
   "id": "34bfae77",
   "metadata": {},
   "outputs": [],
   "source": [
    "h.nodes(data=True)"
   ]
  },
  {
   "cell_type": "code",
   "execution_count": null,
   "id": "c3d78219",
   "metadata": {},
   "outputs": [],
   "source": [
    "l.nodes(data=True)"
   ]
  },
  {
   "cell_type": "code",
   "execution_count": null,
   "id": "0c1b4fdc",
   "metadata": {
    "scrolled": false
   },
   "outputs": [],
   "source": [
    "nodesample = random.sample(graph0.nodes(), 5)\n",
    "nodesample"
   ]
  },
  {
   "cell_type": "code",
   "execution_count": null,
   "id": "e8dd7a1a",
   "metadata": {},
   "outputs": [],
   "source": [
    "common_ancestor(nodesample[0], nodesample[1], grammar)"
   ]
  },
  {
   "cell_type": "code",
   "execution_count": null,
   "id": "87912bb6",
   "metadata": {},
   "outputs": [],
   "source": [
    "all_common_ancestor(nodesample, grammar)"
   ]
  },
  {
   "cell_type": "code",
   "execution_count": null,
   "id": "954bf1b4",
   "metadata": {},
   "outputs": [],
   "source": []
  },
  {
   "cell_type": "code",
   "execution_count": null,
   "id": "669ecae2",
   "metadata": {},
   "outputs": [],
   "source": [
    "this_nodes = set(graph0.nodes())\n",
    "this_edges = set(graph0.edges())\n",
    "next_nodes = set(graph1.nodes())\n",
    "next_edges = set(graph1.edges())\n",
    "\n",
    "additions = next_edges - this_edges\n",
    "deletions = this_edges - next_edges\n",
    "\n",
    "case1 = {(u, v) for u, v in additions\n",
    "         if u in graph0.nodes() and v in graph0.nodes()}\n",
    "case2 = {(u, v) for u, v in additions\n",
    "         if (u in graph0.nodes()) ^ (v in graph0.nodes())}\n",
    "case3 = {(u, v) for u, v in additions\n",
    "         if u not in graph0.nodes() and v not in graph0.nodes()}\n",
    "\n",
    "# frontier = {(u, v) for (u, v) in additions\n",
    "#             if (u in this_nodes) ^ (v in this_nodes)}\n",
    "frontier = case2\n",
    "                                               \n",
    "print(len(additions))\n",
    "print(len(deletions))"
   ]
  },
  {
   "cell_type": "code",
   "execution_count": null,
   "id": "adc82bf1",
   "metadata": {
    "scrolled": true
   },
   "outputs": [],
   "source": [
    "new_graph = nx.Graph()\n",
    "# new_graph.add_edges_from(case2 | case3)\n",
    "new_graph.add_edges_from(case3)\n",
    "\n",
    "new_nodes = [nodes for nodes in nx.connected_components(new_graph)]\n",
    "new_components = [(nodes, new_graph.subgraph(nodes)) for nodes in new_nodes]"
   ]
  },
  {
   "cell_type": "code",
   "execution_count": null,
   "id": "894a136b",
   "metadata": {},
   "outputs": [],
   "source": []
  },
  {
   "cell_type": "code",
   "execution_count": null,
   "id": "e261d843",
   "metadata": {},
   "outputs": [],
   "source": [
    "print(0x45)"
   ]
  },
  {
   "cell_type": "code",
   "execution_count": null,
   "id": "8967a2a0",
   "metadata": {},
   "outputs": [],
   "source": [
    "# testing = new_nodes[2]\n",
    "# incident_frontier = {(u, v) for (u, v) in frontier if (u in testing) or (v in testing)}\n",
    "# print(incident_frontier)"
   ]
  },
  {
   "cell_type": "code",
   "execution_count": null,
   "id": "16a86462",
   "metadata": {
    "scrolled": true
   },
   "outputs": [],
   "source": [
    "for nodes, component in new_components:\n",
    "    comp_grammar = decompose(component)\n",
    "    # incident_frontier = {(u, v) for (u, v) in frontier if (u in component) or (v in component)}\n",
    "    incident_frontier = {(u if u not in graph0 else v, v if v in graph0 else u)\n",
    "                         for (u, v) in frontier if (u in component) or (v in component)}\n",
    "\n",
    "    \n",
    "    break\n",
    "    # for u, v in incident_frontier:\n",
    "    #     if u not in graph0.nodes():\n",
    "    #         pass\n",
    "    \n",
    "# grammar = decompose(graph0)"
   ]
  },
  {
   "cell_type": "code",
   "execution_count": null,
   "id": "df908628",
   "metadata": {},
   "outputs": [],
   "source": [
    "comp_grammar.extraction_matrix"
   ]
  },
  {
   "cell_type": "code",
   "execution_count": null,
   "id": "3507be14",
   "metadata": {},
   "outputs": [],
   "source": [
    "grammar.extraction_matrix"
   ]
  },
  {
   "cell_type": "code",
   "execution_count": null,
   "id": "ace3adb5",
   "metadata": {},
   "outputs": [],
   "source": []
  },
  {
   "cell_type": "code",
   "execution_count": null,
   "id": "7755d6d5",
   "metadata": {},
   "outputs": [],
   "source": [
    "root_rule, = comp_grammar.rule_dict[0]"
   ]
  },
  {
   "cell_type": "code",
   "execution_count": null,
   "id": "37954a55",
   "metadata": {},
   "outputs": [],
   "source": [
    "root_rule.lhs in comp_grammar.rule_dict"
   ]
  },
  {
   "cell_type": "code",
   "execution_count": null,
   "id": "7cb8ccda",
   "metadata": {},
   "outputs": [],
   "source": [
    "del comp_grammar.rule_dict[100]"
   ]
  },
  {
   "cell_type": "code",
   "execution_count": null,
   "id": "8fcdfa3d",
   "metadata": {},
   "outputs": [],
   "source": [
    "comp_grammar.rule_dict[0] = [root_rule]"
   ]
  },
  {
   "cell_type": "code",
   "execution_count": null,
   "id": "fd5f594e",
   "metadata": {},
   "outputs": [],
   "source": [
    "x = ['a', 'b', 'c', 'd']\n",
    "x.index('e')"
   ]
  },
  {
   "cell_type": "code",
   "execution_count": null,
   "id": "3cafb32a",
   "metadata": {},
   "outputs": [],
   "source": []
  },
  {
   "cell_type": "code",
   "execution_count": null,
   "id": "693f0af3",
   "metadata": {},
   "outputs": [],
   "source": [
    "h = nx.Graph()\n",
    "h.add_node('a', label='hello', b_deg=0)\n",
    "print(h.nodes(data=True), h.edges(data=True))"
   ]
  },
  {
   "cell_type": "code",
   "execution_count": null,
   "id": "3c355264",
   "metadata": {},
   "outputs": [],
   "source": [
    "u0 = 162\n",
    "rule, which_parent, which_u = ancestor(u0, comp_grammar)\n",
    "ancestor_u, d = list(rule.graph.nodes(data=True))[which_u]"
   ]
  },
  {
   "cell_type": "code",
   "execution_count": null,
   "id": "f95d7847",
   "metadata": {},
   "outputs": [],
   "source": [
    "if component.has_edge(1585, 113):\n",
    "    print(component.edges[113, 1585])"
   ]
  },
  {
   "cell_type": "code",
   "execution_count": null,
   "id": "628c9917",
   "metadata": {},
   "outputs": [],
   "source": []
  },
  {
   "cell_type": "code",
   "execution_count": null,
   "id": "22248cef",
   "metadata": {},
   "outputs": [],
   "source": [
    "162 in component.nodes()"
   ]
  },
  {
   "cell_type": "code",
   "execution_count": null,
   "id": "46afbf8c",
   "metadata": {},
   "outputs": [],
   "source": [
    "for x in [1, 2, 3, 4, 5]:\n",
    "    if x == 6:\n",
    "        print('henlo')\n",
    "        break\n",
    "else:\n",
    "    print('hi')"
   ]
  },
  {
   "cell_type": "code",
   "execution_count": null,
   "id": "210435da",
   "metadata": {},
   "outputs": [],
   "source": [
    "incident_frontier"
   ]
  },
  {
   "cell_type": "code",
   "execution_count": null,
   "id": "eb278ad5",
   "metadata": {},
   "outputs": [],
   "source": []
  },
  {
   "cell_type": "code",
   "execution_count": null,
   "id": "daad5f92",
   "metadata": {
    "scrolled": true
   },
   "outputs": [],
   "source": [
    "for u, v in incident_frontier:\n",
    "    if u in component and v in component:\n",
    "        print(u, v)"
   ]
  },
  {
   "cell_type": "code",
   "execution_count": null,
   "id": "b292353c",
   "metadata": {},
   "outputs": [],
   "source": []
  },
  {
   "cell_type": "code",
   "execution_count": null,
   "id": "bb45086d",
   "metadata": {},
   "outputs": [],
   "source": []
  },
  {
   "cell_type": "code",
   "execution_count": null,
   "id": "1d67bfeb",
   "metadata": {},
   "outputs": [],
   "source": []
  },
  {
   "cell_type": "code",
   "execution_count": null,
   "id": "e08897ef",
   "metadata": {},
   "outputs": [],
   "source": []
  }
 ],
 "metadata": {
  "kernelspec": {
   "display_name": "Python 3",
   "language": "python",
   "name": "python3"
  },
  "language_info": {
   "codemirror_mode": {
    "name": "ipython",
    "version": 3
   },
   "file_extension": ".py",
   "mimetype": "text/x-python",
   "name": "python",
   "nbconvert_exporter": "python",
   "pygments_lexer": "ipython3",
   "version": "3.9.5"
  }
 },
 "nbformat": 4,
 "nbformat_minor": 5
}
