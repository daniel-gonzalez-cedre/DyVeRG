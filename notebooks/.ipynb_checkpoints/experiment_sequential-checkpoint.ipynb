{
 "cells": [
  {
   "cell_type": "code",
   "execution_count": 21,
   "id": "2109d799",
   "metadata": {},
   "outputs": [],
   "source": [
    "import sys\n",
    "import random\n",
    "import pickle\n",
    "from os.path import join\n",
    "\n",
    "sys.path.append('..')\n",
    "\n",
    "import numpy as np\n",
    "import networkx as nx\n",
    "\n",
    "from cnrg.VRG import VRG as VRG\n",
    "from cnrg.LightMultiGraph import LightMultiGraph as LightMultiGraph\n",
    "\n",
    "import matplotlib.pyplot as plt\n",
    "import seaborn as sns\n",
    "%matplotlib inline"
   ]
  },
  {
   "cell_type": "code",
   "execution_count": 2,
   "id": "e42cc78c",
   "metadata": {},
   "outputs": [],
   "source": [
    "sys.path.append('../src')\n",
    "from data_scripts import read_data, create_graphs\n",
    "from bookkeeping import convert_LMG, decompose\n",
    "from update_grammar import update_grammar"
   ]
  },
  {
   "cell_type": "code",
   "execution_count": 8,
   "id": "ff090e88",
   "metadata": {},
   "outputs": [],
   "source": []
  },
  {
   "cell_type": "markdown",
   "id": "6f7306dd",
   "metadata": {},
   "source": [
    "# independent sequential experiments"
   ]
  },
  {
   "cell_type": "code",
   "execution_count": null,
   "id": "0b90fa3b",
   "metadata": {},
   "outputs": [],
   "source": [
    "dataname = 'fb-messages'\n",
    "lookback = 1\n",
    "graphs, years = read_data(dataname=dataname, lookback=lookback)"
   ]
  },
  {
   "cell_type": "code",
   "execution_count": 9,
   "id": "a4122a38",
   "metadata": {
    "scrolled": true
   },
   "outputs": [
    {
     "name": "stderr",
     "output_type": "stream",
     "text": [
      "100%|███████████████████████████████|[00:00<00:00]\n",
      "WARNING:root:graph: , mu: 4, type: mu_level_dl clustering: leiden rules: 107(107) mdl: 16_208.3 bits generated in 0.208 secs\n",
      "\n"
     ]
    },
    {
     "name": "stdout",
     "output_type": "stream",
     "text": [
      "0 [16208.325712416925]\n",
      "year 0->1 joint grammar\n"
     ]
    },
    {
     "name": "stderr",
     "output_type": "stream",
     "text": [
      "joint changes: 1:   0%|          | 0/69 [00:00<?, ?it/s]\n",
      "  0%|                                   |[00:00<?]\u001b[A\n",
      "100%|███████████████████████████████|[00:00<00:00]\u001b[A\n",
      "WARNING:root:graph: , mu: 4, type: mu_level_dl clustering: leiden rules: 106(106) mdl: 12_071.3 bits generated in 0.107 secs\n",
      "\n",
      "joint changes: 1: 100%|██████████| 69/69 [00:01<00:00, 44.33it/s]\n",
      "additions: 1: 100%|██████████| 457/457 [00:04<00:00, 104.49it/s]\n",
      "additions: 2: 100%|██████████| 3/3 [00:00<00:00, 182.31it/s]\n"
     ]
    },
    {
     "name": "stdout",
     "output_type": "stream",
     "text": [
      "0 [-24.590633804543142, 56527.25492227433]\n",
      "year 0->1 independent grammar\n"
     ]
    },
    {
     "name": "stderr",
     "output_type": "stream",
     "text": [
      "additions: 1: 100%|██████████| 854/854 [00:15<00:00, 55.22it/s] \n",
      "additions: 2: 100%|██████████| 296/296 [00:10<00:00, 29.35it/s]\n",
      "additions: 3: 100%|██████████| 75/75 [00:04<00:00, 16.68it/s]\n",
      "additions: 4: 100%|██████████| 10/10 [00:00<00:00, 11.40it/s]\n"
     ]
    },
    {
     "name": "stdout",
     "output_type": "stream",
     "text": [
      "0 [-232.34521312153936, 644338.7495175578]\n"
     ]
    },
    {
     "name": "stderr",
     "output_type": "stream",
     "text": [
      "100%|███████████████████████████████|[00:00<00:00]\n",
      "WARNING:root:graph: , mu: 4, type: mu_level_dl clustering: leiden rules: 168(168) mdl: 21_239.8 bits generated in 0.19 secs\n",
      "\n"
     ]
    },
    {
     "name": "stdout",
     "output_type": "stream",
     "text": [
      "1 [21239.803694400074]\n",
      "year 1->2 joint grammar\n"
     ]
    },
    {
     "name": "stderr",
     "output_type": "stream",
     "text": [
      "joint changes: 1:   0%|          | 0/104 [00:00<?, ?it/s]\n",
      "  0%|                                   |[00:00<?]\u001b[A\n",
      "100%|███████████████████████████████|[00:00<00:00]\u001b[A\n",
      "WARNING:root:graph: , mu: 4, type: mu_level_dl clustering: leiden rules: 106(106) mdl: 13_856.1 bits generated in 0.121 secs\n",
      "\n",
      "joint changes: 1:   1%|          | 1/104 [00:01<02:33,  1.49s/it]\n",
      "100%|███████████████████████████████|[00:00<00:00]\u001b[A\n",
      "WARNING:root:graph: , mu: 4, type: mu_level_dl clustering: leiden rules: 2(2) mdl: 110.886 bits generated in 0.002 secs\n",
      "\n",
      "\n",
      "100%|███████████████████████████████|[00:00<00:00]\u001b[A\n",
      "WARNING:root:graph: , mu: 4, type: mu_level_dl clustering: leiden rules: 2(2) mdl: 117.811 bits generated in 0.002 secs\n",
      "\n",
      "joint changes: 1: 100%|██████████| 104/104 [00:01<00:00, 64.41it/s]\n",
      "additions: 1: 100%|██████████| 663/663 [00:08<00:00, 81.34it/s] \n",
      "additions: 2: 100%|██████████| 10/10 [00:00<00:00, 439.93it/s]\n"
     ]
    },
    {
     "name": "stdout",
     "output_type": "stream",
     "text": [
      "1 [-123.65434187019807, 117819.0353825449]\n",
      "year 1->2 independent grammar\n"
     ]
    },
    {
     "name": "stderr",
     "output_type": "stream",
     "text": [
      "additions: 1: 100%|██████████| 1074/1074 [00:13<00:00, 76.82it/s]\n",
      "additions: 2: 100%|██████████| 230/230 [00:13<00:00, 17.39it/s]\n",
      "additions: 3: 100%|██████████| 28/28 [00:01<00:00, 18.02it/s]\n",
      "additions: 4: 100%|██████████| 3/3 [00:00<00:00, 60.54it/s]\n",
      "additions: 5: 100%|██████████| 1/1 [00:00<00:00, 55.63it/s]\n"
     ]
    },
    {
     "name": "stdout",
     "output_type": "stream",
     "text": [
      "1 [-243.868990893666, 2237766.986083542]\n"
     ]
    },
    {
     "name": "stderr",
     "output_type": "stream",
     "text": [
      "100%|███████████████████████████████|[00:00<00:00]\n",
      "WARNING:root:graph: , mu: 4, type: mu_level_dl clustering: leiden rules: 176(176) mdl: 28_312.1 bits generated in 0.274 secs\n",
      "\n"
     ]
    },
    {
     "name": "stdout",
     "output_type": "stream",
     "text": [
      "2 [28312.074920795094]\n",
      "year 2->3 joint grammar\n"
     ]
    },
    {
     "name": "stderr",
     "output_type": "stream",
     "text": [
      "joint changes: 1:   0%|          | 0/109 [00:00<?, ?it/s]\n",
      "100%|███████████████████████████████|[00:00<00:00]\u001b[A\n",
      "WARNING:root:graph: , mu: 4, type: mu_level_dl clustering: leiden rules: 89(89) mdl: 9_298.4 bits generated in 0.081 secs\n",
      "\n",
      "joint changes: 1:   1%|          | 1/109 [00:01<02:20,  1.30s/it]\n",
      "100%|███████████████████████████████|[00:00<00:00]\u001b[A\n",
      "WARNING:root:graph: , mu: 4, type: mu_level_dl clustering: leiden rules: 3(3) mdl: 210.362 bits generated in 0.002 secs\n",
      "\n",
      "joint changes: 1: 100%|██████████| 109/109 [00:01<00:00, 80.56it/s]\n",
      "additions: 1: 100%|██████████| 898/898 [00:32<00:00, 27.84it/s]\n",
      "additions: 2: 100%|██████████| 3/3 [00:00<00:00, 232.00it/s]\n"
     ]
    },
    {
     "name": "stdout",
     "output_type": "stream",
     "text": [
      "2 [-163.6061342699639, 244911.76024683125]\n",
      "year 2->3 independent grammar\n"
     ]
    },
    {
     "name": "stderr",
     "output_type": "stream",
     "text": [
      "additions: 1: 100%|██████████| 1240/1240 [00:29<00:00, 41.93it/s]\n",
      "additions: 2: 100%|██████████| 142/142 [00:02<00:00, 48.89it/s]\n",
      "additions: 3: 100%|██████████| 18/18 [00:00<00:00, 30.81it/s]\n",
      "additions: 4: 100%|██████████| 1/1 [00:00<00:00, 23.91it/s]\n"
     ]
    },
    {
     "name": "stdout",
     "output_type": "stream",
     "text": [
      "2 [-293.89868533368417, 603235.317902957]\n"
     ]
    },
    {
     "name": "stderr",
     "output_type": "stream",
     "text": [
      "100%|███████████████████████████████|[00:00<00:00]\n",
      "WARNING:root:graph: , mu: 4, type: mu_level_dl clustering: leiden rules: 181(181) mdl: 24_266.4 bits generated in 0.398 secs\n",
      "\n"
     ]
    },
    {
     "name": "stdout",
     "output_type": "stream",
     "text": [
      "3 [24266.437296791508]\n",
      "year 3->4 joint grammar\n"
     ]
    },
    {
     "name": "stderr",
     "output_type": "stream",
     "text": [
      "joint changes: 1:   0%|          | 0/136 [00:00<?, ?it/s]\n",
      "100%|███████████████████████████████|[00:00<00:00]\u001b[A\n",
      "WARNING:root:graph: , mu: 4, type: mu_level_dl clustering: leiden rules: 74(74) mdl: 8_377.49 bits generated in 0.08 secs\n",
      "\n",
      "joint changes: 1:   1%|          | 1/136 [00:01<02:51,  1.27s/it]\n",
      "100%|███████████████████████████████|[00:00<00:00]\u001b[A\n",
      "WARNING:root:graph: , mu: 4, type: mu_level_dl clustering: leiden rules: 2(2) mdl: 147.041 bits generated in 0.002 secs\n",
      "\n",
      "joint changes: 1: 100%|██████████| 136/136 [00:01<00:00, 103.87it/s]\n",
      "additions: 1: 100%|██████████| 933/933 [00:22<00:00, 40.85it/s] \n",
      "additions: 2: 100%|██████████| 11/11 [00:00<00:00, 287.81it/s]\n"
     ]
    },
    {
     "name": "stdout",
     "output_type": "stream",
     "text": [
      "3 [-175.99756240236562, 198487.2676971371]\n",
      "year 3->4 independent grammar\n"
     ]
    },
    {
     "name": "stderr",
     "output_type": "stream",
     "text": [
      "additions: 1: 100%|██████████| 1215/1215 [00:11<00:00, 105.09it/s]\n",
      "additions: 2: 100%|██████████| 131/131 [00:02<00:00, 44.37it/s]\n",
      "additions: 3: 100%|██████████| 20/20 [00:00<00:00, 28.01it/s]\n",
      "additions: 4: 100%|██████████| 2/2 [00:00<00:00, 64.44it/s]\n",
      "additions: 5: 100%|██████████| 1/1 [00:00<00:00, 63.02it/s]\n"
     ]
    },
    {
     "name": "stdout",
     "output_type": "stream",
     "text": [
      "3 [-282.6190396409274, 415804.07979404164]\n"
     ]
    },
    {
     "name": "stderr",
     "output_type": "stream",
     "text": [
      "100%|███████████████████████████████|[00:00<00:00]\n",
      "WARNING:root:graph: , mu: 4, type: mu_level_dl clustering: leiden rules: 190(190) mdl: 24_614.2 bits generated in 0.288 secs\n",
      "\n"
     ]
    },
    {
     "name": "stdout",
     "output_type": "stream",
     "text": [
      "4 [24614.214511902257]\n",
      "year 4->5 joint grammar\n"
     ]
    },
    {
     "name": "stderr",
     "output_type": "stream",
     "text": [
      "joint changes: 1:   0%|          | 0/185 [00:00<?, ?it/s]\n",
      "  0%|                                   |[00:00<?]\u001b[A\n",
      "100%|███████████████████████████████|[00:00<00:00]\u001b[A\n",
      "WARNING:root:graph: , mu: 4, type: mu_level_dl clustering: leiden rules: 74(74) mdl: 7_434.95 bits generated in 0.137 secs\n",
      "\n",
      "joint changes: 1:   2%|▏         | 3/185 [00:01<01:14,  2.43it/s]\n",
      "100%|███████████████████████████████|[00:00<00:00]\u001b[A\n",
      "WARNING:root:graph: , mu: 4, type: mu_level_dl clustering: leiden rules: 2(2) mdl: 164.184 bits generated in 0.002 secs\n",
      "\n",
      "joint changes: 1: 100%|██████████| 185/185 [00:01<00:00, 144.88it/s]\n",
      "additions: 1: 100%|██████████| 902/902 [00:14<00:00, 62.88it/s] \n",
      "additions: 2: 100%|██████████| 8/8 [00:00<00:00, 249.69it/s]\n"
     ]
    },
    {
     "name": "stdout",
     "output_type": "stream",
     "text": [
      "4 [-216.4534184358072, 149432.31060548258]\n",
      "year 4->5 independent grammar\n"
     ]
    },
    {
     "name": "stderr",
     "output_type": "stream",
     "text": [
      "additions: 1: 100%|██████████| 1135/1135 [00:11<00:00, 99.48it/s]\n",
      "additions: 2: 100%|██████████| 147/147 [00:01<00:00, 90.75it/s]\n",
      "additions: 3: 100%|██████████| 23/23 [00:00<00:00, 64.09it/s]\n",
      "additions: 4: 100%|██████████| 1/1 [00:00<00:00, 98.02it/s]\n"
     ]
    },
    {
     "name": "stdout",
     "output_type": "stream",
     "text": [
      "4 [-299.31560873636516, 235674.0138340461]\n"
     ]
    },
    {
     "name": "stderr",
     "output_type": "stream",
     "text": [
      "100%|███████████████████████████████|[00:00<00:00]\n",
      "WARNING:root:graph: , mu: 4, type: mu_level_dl clustering: leiden rules: 187(187) mdl: 24_547.3 bits generated in 0.318 secs\n",
      "\n"
     ]
    },
    {
     "name": "stdout",
     "output_type": "stream",
     "text": [
      "5 [24547.301938547236]\n",
      "year 5->6 joint grammar\n"
     ]
    },
    {
     "name": "stderr",
     "output_type": "stream",
     "text": [
      "joint changes: 1:   0%|          | 0/124 [00:00<?, ?it/s]\n",
      "100%|███████████████████████████████|[00:00<00:00]\u001b[A\n",
      "WARNING:root:graph: , mu: 4, type: mu_level_dl clustering: leiden rules: 82(82) mdl: 8_535.04 bits generated in 0.085 secs\n",
      "\n",
      "joint changes: 1:   1%|          | 1/124 [00:01<02:51,  1.40s/it]\n",
      "100%|███████████████████████████████|[00:00<00:00]\u001b[A\n",
      "WARNING:root:graph: , mu: 4, type: mu_level_dl clustering: leiden rules: 3(3) mdl: 223.066 bits generated in 0.002 secs\n",
      "\n",
      "\n",
      "100%|███████████████████████████████|[00:00<00:00]\u001b[A\n",
      "WARNING:root:graph: , mu: 4, type: mu_level_dl clustering: leiden rules: 2(2) mdl: 124.566 bits generated in 0.002 secs\n",
      "\n",
      "joint changes: 1:   6%|▋         | 8/124 [00:01<00:16,  7.13it/s]\n",
      "100%|███████████████████████████████|[00:00<00:00]\u001b[A\n",
      "WARNING:root:graph: , mu: 4, type: mu_level_dl clustering: leiden rules: 2(2) mdl: 133.344 bits generated in 0.002 secs\n",
      "\n",
      "\n",
      "100%|███████████████████████████████|[00:00<00:00]\u001b[A\n",
      "WARNING:root:graph: , mu: 4, type: mu_level_dl clustering: leiden rules: 1(1) mdl: 218.233 bits generated in 0.002 secs\n",
      "\n",
      "joint changes: 1: 100%|██████████| 124/124 [00:01<00:00, 78.41it/s]\n",
      "additions: 1: 100%|██████████| 949/949 [00:36<00:00, 25.72it/s]\n",
      "additions: 2: 100%|██████████| 9/9 [00:00<00:00, 311.30it/s]\n"
     ]
    },
    {
     "name": "stdout",
     "output_type": "stream",
     "text": [
      "5 [-204.70746399253, 376707.92502634146]\n",
      "year 5->6 independent grammar\n"
     ]
    },
    {
     "name": "stderr",
     "output_type": "stream",
     "text": [
      "additions: 1: 100%|██████████| 1279/1279 [00:14<00:00, 88.62it/s]\n",
      "additions: 2: 100%|██████████| 102/102 [00:01<00:00, 76.33it/s]\n",
      "additions: 3: 100%|██████████| 10/10 [00:00<00:00, 55.20it/s]\n",
      "additions: 4: 100%|██████████| 1/1 [00:00<00:00, 75.14it/s]\n"
     ]
    },
    {
     "name": "stdout",
     "output_type": "stream",
     "text": [
      "5 [-338.27964747087196, 206306.78742463148]\n"
     ]
    },
    {
     "name": "stderr",
     "output_type": "stream",
     "text": [
      "100%|███████████████████████████████|[00:00<00:00]\n",
      "WARNING:root:graph: , mu: 4, type: mu_level_dl clustering: leiden rules: 195(195) mdl: 25_982 bits generated in 0.332 secs\n",
      "\n"
     ]
    },
    {
     "name": "stdout",
     "output_type": "stream",
     "text": [
      "6 [25982.03311884535]\n",
      "year 6->7 joint grammar\n"
     ]
    },
    {
     "name": "stderr",
     "output_type": "stream",
     "text": [
      "joint changes: 1:   0%|          | 0/146 [00:00<?, ?it/s]\n",
      "  0%|                                   |[00:00<?]\u001b[A\n",
      "100%|███████████████████████████████|[00:00<00:00]\u001b[A\n",
      "WARNING:root:graph: , mu: 4, type: mu_level_dl clustering: leiden rules: 106(106) mdl: 13_362.8 bits generated in 0.135 secs\n",
      "\n",
      "joint changes: 1: 100%|██████████| 146/146 [00:01<00:00, 80.01it/s]\n",
      "additions: 1: 100%|██████████| 755/755 [00:12<00:00, 62.45it/s]\n",
      "additions: 2: 100%|██████████| 10/10 [00:00<00:00, 209.05it/s]\n",
      "additions: 3: 100%|██████████| 4/4 [00:00<00:00, 169.91it/s]\n"
     ]
    },
    {
     "name": "stdout",
     "output_type": "stream",
     "text": [
      "6 [-179.31721282805944, 131265.36293653975]\n",
      "year 6->7 independent grammar\n"
     ]
    },
    {
     "name": "stderr",
     "output_type": "stream",
     "text": [
      "additions: 1: 100%|██████████| 1111/1111 [00:22<00:00, 49.30it/s]\n",
      "additions: 2: 100%|██████████| 223/223 [00:05<00:00, 42.86it/s]\n",
      "additions: 3: 100%|██████████| 47/47 [00:01<00:00, 37.78it/s]\n",
      "additions: 4: 100%|██████████| 7/7 [00:00<00:00, 33.80it/s]\n"
     ]
    },
    {
     "name": "stdout",
     "output_type": "stream",
     "text": [
      "6 [-364.79549416640737, 428873.48341970495]\n"
     ]
    },
    {
     "name": "stderr",
     "output_type": "stream",
     "text": [
      "100%|███████████████████████████████|[00:00<00:00]\n",
      "WARNING:root:graph: , mu: 4, type: mu_level_dl clustering: leiden rules: 198(198) mdl: 25_863.5 bits generated in 0.38 secs\n",
      "\n"
     ]
    },
    {
     "name": "stdout",
     "output_type": "stream",
     "text": [
      "7 [25863.45963137017]\n",
      "year 7->8 joint grammar\n"
     ]
    },
    {
     "name": "stderr",
     "output_type": "stream",
     "text": [
      "joint changes: 1:   0%|          | 0/117 [00:00<?, ?it/s]\n",
      "100%|███████████████████████████████|[00:00<00:00]\u001b[A\n",
      "WARNING:root:graph: , mu: 4, type: mu_level_dl clustering: leiden rules: 76(76) mdl: 11_017 bits generated in 0.086 secs\n",
      "\n",
      "joint changes: 1:   1%|          | 1/117 [00:01<02:48,  1.45s/it]\n",
      "100%|███████████████████████████████|[00:00<00:00]\u001b[A\n",
      "WARNING:root:graph: , mu: 4, type: mu_level_dl clustering: leiden rules: 2(2) mdl: 125.999 bits generated in 0.002 secs\n",
      "\n",
      "\n",
      "100%|███████████████████████████████|[00:00<00:00]\u001b[A\n",
      "WARNING:root:graph: , mu: 4, type: mu_level_dl clustering: leiden rules: 2(2) mdl: 117.811 bits generated in 0.002 secs\n",
      "\n",
      "joint changes: 1: 100%|██████████| 117/117 [00:01<00:00, 75.50it/s]\n",
      "additions: 1: 100%|██████████| 970/970 [01:16<00:00, 12.61it/s]\n",
      "additions: 2: 100%|██████████| 10/10 [00:00<00:00, 254.73it/s]\n",
      "additions: 3: 100%|██████████| 1/1 [00:00<00:00, 241.54it/s]\n"
     ]
    },
    {
     "name": "stdout",
     "output_type": "stream",
     "text": [
      "7 [-225.91164390043645, 884522.3719328168]\n",
      "year 7->8 independent grammar\n"
     ]
    },
    {
     "name": "stderr",
     "output_type": "stream",
     "text": [
      "additions: 1: 100%|██████████| 1299/1299 [01:59<00:00, 10.83it/s]\n",
      "additions: 2: 100%|██████████| 120/120 [00:07<00:00, 16.39it/s]\n",
      "additions: 3: 100%|██████████| 11/11 [00:00<00:00, 43.96it/s]\n"
     ]
    },
    {
     "name": "stdout",
     "output_type": "stream",
     "text": [
      "7 [-415.54546436369645, 1192173.4565814445]\n"
     ]
    },
    {
     "name": "stderr",
     "output_type": "stream",
     "text": [
      "100%|███████████████████████████████|[00:00<00:00]\n",
      "WARNING:root:graph: , mu: 4, type: mu_level_dl clustering: leiden rules: 190(190) mdl: 26_627.8 bits generated in 0.327 secs\n",
      "\n"
     ]
    },
    {
     "name": "stdout",
     "output_type": "stream",
     "text": [
      "8 [26627.792977058532]\n",
      "year 8->9 joint grammar\n"
     ]
    },
    {
     "name": "stderr",
     "output_type": "stream",
     "text": [
      "joint changes: 1:   0%|          | 0/131 [00:00<?, ?it/s]\n",
      "100%|███████████████████████████████|[00:00<00:00]\u001b[A\n",
      "WARNING:root:graph: , mu: 4, type: mu_level_dl clustering: leiden rules: 79(79) mdl: 8_680.41 bits generated in 0.07 secs\n",
      "\n",
      "joint changes: 1:   1%|          | 1/131 [00:01<02:30,  1.15s/it]\n",
      "100%|███████████████████████████████|[00:00<00:00]\u001b[A\n",
      "WARNING:root:graph: , mu: 4, type: mu_level_dl clustering: leiden rules: 3(3) mdl: 1_592.46 bits generated in 0.003 secs\n",
      "\n",
      "joint changes: 1: 100%|██████████| 131/131 [00:01<00:00, 103.69it/s]\n",
      "additions: 1: 100%|██████████| 905/905 [00:51<00:00, 17.63it/s]\n",
      "additions: 2: 100%|██████████| 7/7 [00:00<00:00, 214.89it/s]\n"
     ]
    },
    {
     "name": "stdout",
     "output_type": "stream",
     "text": [
      "8 [-212.51883638310403, 441992.4322975252]\n",
      "year 8->9 independent grammar\n"
     ]
    },
    {
     "name": "stderr",
     "output_type": "stream",
     "text": [
      "additions: 1: 100%|██████████| 1231/1231 [00:37<00:00, 33.18it/s]\n",
      "additions: 2: 100%|██████████| 119/119 [00:02<00:00, 39.92it/s]\n",
      "additions: 3: 100%|██████████| 14/14 [00:00<00:00, 42.57it/s]\n",
      "additions: 4: 100%|██████████| 4/4 [00:00<00:00, 55.95it/s]\n"
     ]
    },
    {
     "name": "stdout",
     "output_type": "stream",
     "text": [
      "8 [-310.7097916069056, 582829.2222336553]\n"
     ]
    }
   ],
   "source": [
    "lookbacks = list(range(11))\n",
    "\n",
    "base_grammars = {lookback: [] for lookback in lookbacks}\n",
    "joint_grammars = {lookback: [] for lookback in lookbacks}\n",
    "indep_grammars = {lookback: [] for lookback in lookbacks}\n",
    "\n",
    "base_mdls = {lookback: [] for lookback in lookbacks}\n",
    "joint_mdls = {lookback: [] for lookback in lookbacks}\n",
    "joint_lls = {lookback: [] for lookback in lookbacks}\n",
    "indep_mdls = {lookback: [] for lookback in lookbacks}\n",
    "indep_lls = {lookback: [] for lookback in lookbacks}\n",
    "\n",
    "mu = 4\n",
    "for lookback in lookbacks:\n",
    "    graphs, years = read_data(dataname=dataname, lookback=lookback)\n",
    "    base_mdl = []\n",
    "    joint_ll = []\n",
    "    joint_mdl = []\n",
    "    indep_ll = []\n",
    "    indep_mdl = []\n",
    "\n",
    "    for idx, (home_graph, away_graph) in enumerate(zip(graphs[:-1], graphs[1:])):\n",
    "        base_grammar = decompose(home_graph, mu=mu)\n",
    "        joint_grammar = update_grammar(base_grammar, home_graph, away_graph, mode='joint')\n",
    "        indep_grammar = update_grammar(base_grammar, home_graph, away_graph, mode='independent')\n",
    "        \n",
    "        base_grammars[lookback] += [base_grammar]\n",
    "        joint_grammars[lookback] += [joint_grammar]\n",
    "        indep_grammars[lookback] += [indep_grammar]\n",
    "        \n",
    "        base_mdl += [base_grammar.calculate_cost()]\n",
    "        \n",
    "        joint_mdl += [joint_grammar.calculate_cost()]\n",
    "        joint_ll += [joint_grammar.conditional_ll()]\n",
    "        \n",
    "        indep_mdls[lookback] += [indep_grammar.calculate_cost()]\n",
    "        indep_lls[lookback] += [indep_grammar.conditional_ll()]\n",
    "    \n",
    "    base_grammar = decompose(graphs[-1], mu=mu)\n",
    "    base_grammars[lookback] += [base_grammar]\n",
    "    base_mdls[lookback] += [base_grammar.calculate_cost()]\n",
    "\n",
    "with open(f'../results/experiment_sequential/{dataset}_base.grammars', 'wb') as outfile:\n",
    "    pickle.dump(base_grammars)\n",
    "with open(f'../results/experiment_sequential/{dataset}_joint.grammars', 'wb') as outfile:\n",
    "    pickle.dump(joint_grammars)\n",
    "with open(f'../results/experiment_sequential/{dataset}_indep.grammars', 'wb') as outfile:\n",
    "    pickle.dump(indep_grammars)\n",
    "    \n",
    "with open(f'../results/experiment_sequential/{dataset}_base.mdls', 'wb') as outfile:\n",
    "    pickle.dump(base_mdls)\n",
    "with open(f'../results/experiment_sequential/{dataset}_joint.mdls', 'wb') as outfile:\n",
    "    pickle.dump(joint_mdls)\n",
    "with open(f'../results/experiment_sequential/{dataset}_joint.lls', 'wb') as outfile:\n",
    "    pickle.dump(joint_lls)\n",
    "with open(f'../results/experiment_sequential/{dataset}_indep.mdls', 'wb') as outfile:\n",
    "    pickle.dump(indep_mdls)\n",
    "with open(f'../results/experiment_sequential/{dataset}_indep.lls', 'wb') as outfile:\n",
    "    pickle.dump(indep_lls)"
   ]
  },
  {
   "cell_type": "code",
   "execution_count": 19,
   "id": "223bf6d0",
   "metadata": {},
   "outputs": [
    {
     "data": {
      "image/png": "[encoded data removed]",
      "text/plain": [
       "<Figure size 432x288 with 1 Axes>"
      ]
     },
     "metadata": {
      "needs_background": "light"
     },
     "output_type": "display_data"
    }
   ],
   "source": [
    "#with plt.style.context(['ipynb', 'use_mathtext', 'colors5-light']):\n",
    "plt.title(f'sequential experiments: {dataname}, lookback {lookback}')\n",
    "plt.xlabel('time')\n",
    "plt.ylabel('log likelihood')\n",
    "plt.plot(years[:-1], joint_ll, label='joint model')\n",
    "plt.plot(years[:-1], indep_ll, label='independent model')\n",
    "plt.legend(loc='upper left', bbox_to_anchor=(1, 1))\n",
    "plt.ticklabel_format(style='plain')\n",
    "    #plt.savefig(f'../figures/exp3_{dataname}_{cumulative}.svg')"
   ]
  },
  {
   "cell_type": "code",
   "execution_count": 20,
   "id": "c7aded18",
   "metadata": {
    "scrolled": false
   },
   "outputs": [
    {
     "data": {
      "image/png": "[encoded data removed]",
      "text/plain": [
       "<Figure size 432x288 with 1 Axes>"
      ]
     },
     "metadata": {
      "needs_background": "light"
     },
     "output_type": "display_data"
    }
   ],
   "source": [
    "#with plt.style.context(['ipynb', 'use_mathtext', 'colors5-light']):\n",
    "plt.title(f'sequential experiments: {dataname}, lookback {lookback}')\n",
    "plt.xlabel('time')\n",
    "plt.ylabel('minimal description length')\n",
    "plt.plot(years[:-1], joint_mdl, label='joint model')\n",
    "plt.plot(years[:-1], indep_mdl, label='independent model')\n",
    "plt.plot(years[:-1], base_mdl, label='base model')\n",
    "plt.legend(loc='upper left', bbox_to_anchor=(1, 1))\n",
    "plt.ticklabel_format(style='plain')\n",
    "    #plt.savefig(f'../figures/exp3_{dataname}_{cumulative}.svg')"
   ]
  },
  {
   "cell_type": "code",
   "execution_count": null,
   "id": "017177f9",
   "metadata": {},
   "outputs": [],
   "source": []
  },
  {
   "cell_type": "code",
   "execution_count": null,
   "id": "071dc95e",
   "metadata": {},
   "outputs": [],
   "source": []
  },
  {
   "cell_type": "markdown",
   "id": "47a91b33",
   "metadata": {},
   "source": [
    "# accumulated sequential experiments"
   ]
  },
  {
   "cell_type": "code",
   "execution_count": null,
   "id": "bfede589",
   "metadata": {},
   "outputs": [],
   "source": []
  },
  {
   "cell_type": "code",
   "execution_count": null,
   "id": "29dfb920",
   "metadata": {},
   "outputs": [],
   "source": []
  }
 ],
 "metadata": {
  "kernelspec": {
   "display_name": "Python 3",
   "language": "python",
   "name": "python3"
  },
  "language_info": {
   "codemirror_mode": {
    "name": "ipython",
    "version": 3
   },
   "file_extension": ".py",
   "mimetype": "text/x-python",
   "name": "python",
   "nbconvert_exporter": "python",
   "pygments_lexer": "ipython3",
   "version": "3.9.5"
  }
 },
 "nbformat": 4,
 "nbformat_minor": 5
}
