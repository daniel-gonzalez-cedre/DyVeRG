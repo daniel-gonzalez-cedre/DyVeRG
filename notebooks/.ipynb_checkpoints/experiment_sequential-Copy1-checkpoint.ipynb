{
 "cells": [
  {
   "cell_type": "code",
   "execution_count": 1,
   "id": "3da7a225",
   "metadata": {},
   "outputs": [],
   "source": [
    "import sys\n",
    "import random\n",
    "from os.path import join\n",
    "\n",
    "sys.path.append('..')\n",
    "\n",
    "import numpy as np\n",
    "import networkx as nx\n",
    "\n",
    "from cnrg.VRG import VRG as VRG\n",
    "from cnrg.LightMultiGraph import LightMultiGraph as LightMultiGraph"
   ]
  },
  {
   "cell_type": "code",
   "execution_count": 2,
   "id": "c87046fb",
   "metadata": {},
   "outputs": [],
   "source": [
    "sys.path.append('../src')\n",
    "from data_scripts import read_data, create_graphs\n",
    "from bookkeeping import convert_LMG, decompose\n",
    "from update_grammar import update_grammar"
   ]
  },
  {
   "cell_type": "code",
   "execution_count": 3,
   "id": "93223596",
   "metadata": {},
   "outputs": [],
   "source": [
    "dataname = 'fb-messages'\n",
    "graphs, years = read_data(dataname=dataname, lookback=1)"
   ]
  },
  {
   "cell_type": "markdown",
   "id": "f8cb5f7e",
   "metadata": {},
   "source": [
    "# independent sequential experiments"
   ]
  },
  {
   "cell_type": "code",
   "execution_count": 4,
   "id": "a82c86f5",
   "metadata": {
    "scrolled": false
   },
   "outputs": [
    {
     "name": "stderr",
     "output_type": "stream",
     "text": [
      "100%|███████████████████████████████|[00:00<00:00]\n",
      "WARNING:root:graph: , mu: 4, type: mu_level_dl clustering: leiden rules: 104(104) mdl: 15_962.6 bits generated in 0.197 secs\n",
      "\n"
     ]
    },
    {
     "name": "stdout",
     "output_type": "stream",
     "text": [
      "0 [15962.600266735319]\n",
      "year 0->1 joint grammar\n"
     ]
    },
    {
     "name": "stderr",
     "output_type": "stream",
     "text": [
      "joint changes:   0%|          | 0/69 [00:00<?, ?it/s]\n",
      "100%|███████████████████████████████|[00:00<00:00]\u001b[A\n",
      "WARNING:root:graph: , mu: 4, type: mu_level_dl clustering: leiden rules: 100(100) mdl: 11_966.1 bits generated in 0.094 secs\n",
      "\n",
      "joint changes: 100%|██████████| 69/69 [00:01<00:00, 48.46it/s]\n",
      "additions: 1: 100%|██████████| 457/457 [00:08<00:00, 56.95it/s] \n",
      "additions: 2: 100%|██████████| 3/3 [00:00<00:00, 187.51it/s]\n"
     ]
    },
    {
     "name": "stdout",
     "output_type": "stream",
     "text": [
      "0 [-66.47018924296688, 196816.5165260972]\n",
      "year 0->1 independent grammar\n"
     ]
    },
    {
     "name": "stderr",
     "output_type": "stream",
     "text": [
      "additions: 1: 100%|██████████| 854/854 [00:11<00:00, 76.80it/s] \n",
      "additions: 2: 100%|██████████| 296/296 [00:07<00:00, 37.06it/s]\n",
      "additions: 3: 100%|██████████| 75/75 [00:03<00:00, 21.29it/s]\n",
      "additions: 4: 100%|██████████| 10/10 [00:00<00:00, 14.10it/s]\n"
     ]
    },
    {
     "name": "stdout",
     "output_type": "stream",
     "text": [
      "0 [-219.44074477920182, 613270.0940112906]\n"
     ]
    },
    {
     "name": "stderr",
     "output_type": "stream",
     "text": [
      "100%|███████████████████████████████|[00:00<00:00]\n",
      "WARNING:root:graph: , mu: 4, type: mu_level_dl clustering: leiden rules: 165(165) mdl: 21_076.4 bits generated in 0.234 secs\n",
      "\n"
     ]
    },
    {
     "name": "stdout",
     "output_type": "stream",
     "text": [
      "1 [21076.386621122496]\n",
      "year 1->2 joint grammar\n"
     ]
    },
    {
     "name": "stderr",
     "output_type": "stream",
     "text": [
      "joint changes:   0%|          | 0/104 [00:00<?, ?it/s]\n",
      "  0%|                                   |[00:00<?]\u001b[A\n",
      "100%|███████████████████████████████|[00:00<00:00]\u001b[A\n",
      "WARNING:root:graph: , mu: 4, type: mu_level_dl clustering: leiden rules: 106(106) mdl: 13_755.2 bits generated in 0.118 secs\n",
      "\n",
      "joint changes:   1%|          | 1/104 [00:01<02:29,  1.46s/it]\n",
      "100%|███████████████████████████████|[00:00<00:00]\u001b[A\n",
      "WARNING:root:graph: , mu: 4, type: mu_level_dl clustering: leiden rules: 2(2) mdl: 110.886 bits generated in 0.002 secs\n",
      "\n",
      "\n",
      "100%|███████████████████████████████|[00:00<00:00]\u001b[A\n",
      "WARNING:root:graph: , mu: 4, type: mu_level_dl clustering: leiden rules: 2(2) mdl: 117.811 bits generated in 0.002 secs\n",
      "\n",
      "joint changes: 100%|██████████| 104/104 [00:01<00:00, 67.68it/s]\n",
      "additions: 1: 100%|██████████| 663/663 [00:14<00:00, 46.61it/s]\n",
      "additions: 2: 100%|██████████| 10/10 [00:00<00:00, 359.62it/s]\n"
     ]
    },
    {
     "name": "stdout",
     "output_type": "stream",
     "text": [
      "1 [-158.51687790215763, 529600.7969072198]\n",
      "year 1->2 independent grammar\n"
     ]
    },
    {
     "name": "stderr",
     "output_type": "stream",
     "text": [
      "additions: 1: 100%|██████████| 1074/1074 [00:22<00:00, 48.49it/s]\n",
      "additions: 2: 100%|██████████| 230/230 [00:14<00:00, 15.90it/s]\n",
      "additions: 3: 100%|██████████| 28/28 [00:01<00:00, 17.68it/s]\n",
      "additions: 4: 100%|██████████| 3/3 [00:00<00:00, 50.81it/s]\n",
      "additions: 5: 100%|██████████| 1/1 [00:00<00:00, 53.07it/s]\n"
     ]
    },
    {
     "name": "stdout",
     "output_type": "stream",
     "text": [
      "1 [-247.11542763810823, 2188610.7839133935]\n"
     ]
    },
    {
     "name": "stderr",
     "output_type": "stream",
     "text": [
      "100%|███████████████████████████████|[00:00<00:00]\n",
      "WARNING:root:graph: , mu: 4, type: mu_level_dl clustering: leiden rules: 184(184) mdl: 27_838.9 bits generated in 0.263 secs\n",
      "\n"
     ]
    },
    {
     "name": "stdout",
     "output_type": "stream",
     "text": [
      "2 [27838.903125828696]\n",
      "year 2->3 joint grammar\n"
     ]
    },
    {
     "name": "stderr",
     "output_type": "stream",
     "text": [
      "joint changes:   0%|          | 0/109 [00:00<?, ?it/s]\n",
      "100%|███████████████████████████████|[00:00<00:00]\u001b[A\n",
      "WARNING:root:graph: , mu: 4, type: mu_level_dl clustering: leiden rules: 94(94) mdl: 9_759.17 bits generated in 0.083 secs\n",
      "\n",
      "joint changes:   1%|          | 1/109 [00:01<02:18,  1.28s/it]\n",
      "100%|███████████████████████████████|[00:00<00:00]\u001b[A\n",
      "WARNING:root:graph: , mu: 4, type: mu_level_dl clustering: leiden rules: 3(3) mdl: 210.362 bits generated in 0.002 secs\n",
      "\n",
      "joint changes: 100%|██████████| 109/109 [00:01<00:00, 81.61it/s]\n",
      "additions: 1:  23%|██▎       | 208/898 [00:01<00:06, 110.60it/s]\n"
     ]
    },
    {
     "ename": "IndexError",
     "evalue": "?? wlist index out of rangew ??",
     "output_type": "error",
     "traceback": [
      "\u001b[0;31m---------------------------------------------------------------------------\u001b[0m",
      "\u001b[0;31mIndexError\u001b[0m                                Traceback (most recent call last)",
      "File \u001b[0;32m~/repos/temporal_VRG/notebooks/../src/rule_transitions.py:21\u001b[0m, in \u001b[0;36mupdate_rule_domestic\u001b[0;34m(grammar, u, v, mode)\u001b[0m\n\u001b[1;32m     20\u001b[0m     ancestor_u \u001b[38;5;241m=\u001b[39m \u001b[38;5;28mlist\u001b[39m(parent_rule\u001b[38;5;241m.\u001b[39mgraph\u001b[38;5;241m.\u001b[39mnodes())[which_u]\n\u001b[0;32m---> 21\u001b[0m     ancestor_v \u001b[38;5;241m=\u001b[39m \u001b[38;5;28;43mlist\u001b[39;49m\u001b[43m(\u001b[49m\u001b[43mparent_rule\u001b[49m\u001b[38;5;241;43m.\u001b[39;49m\u001b[43mgraph\u001b[49m\u001b[38;5;241;43m.\u001b[39;49m\u001b[43mnodes\u001b[49m\u001b[43m(\u001b[49m\u001b[43m)\u001b[49m\u001b[43m)\u001b[49m\u001b[43m[\u001b[49m\u001b[43mwhich_v\u001b[49m\u001b[43m]\u001b[49m\n\u001b[1;32m     22\u001b[0m \u001b[38;5;28;01mexcept\u001b[39;00m \u001b[38;5;167;01mIndexError\u001b[39;00m \u001b[38;5;28;01mas\u001b[39;00m e:\n",
      "\u001b[0;31mIndexError\u001b[0m: list index out of range",
      "\nDuring handling of the above exception, another exception occurred:\n",
      "\u001b[0;31mIndexError\u001b[0m                                Traceback (most recent call last)",
      "Input \u001b[0;32mIn [4]\u001b[0m, in \u001b[0;36m<module>\u001b[0;34m\u001b[0m\n\u001b[1;32m     17\u001b[0m \u001b[38;5;28mprint\u001b[39m(idx, [bmdl])\n\u001b[1;32m     19\u001b[0m \u001b[38;5;28mprint\u001b[39m(\u001b[38;5;124mf\u001b[39m\u001b[38;5;124m'\u001b[39m\u001b[38;5;124myear \u001b[39m\u001b[38;5;132;01m{\u001b[39;00midx\u001b[38;5;132;01m}\u001b[39;00m\u001b[38;5;124m->\u001b[39m\u001b[38;5;132;01m{\u001b[39;00midx\u001b[38;5;241m+\u001b[39m\u001b[38;5;241m1\u001b[39m\u001b[38;5;132;01m}\u001b[39;00m\u001b[38;5;124m joint grammar\u001b[39m\u001b[38;5;124m'\u001b[39m)\n\u001b[0;32m---> 20\u001b[0m joint_grammar \u001b[38;5;241m=\u001b[39m \u001b[43mupdate_grammar\u001b[49m\u001b[43m(\u001b[49m\u001b[43mbase_grammar\u001b[49m\u001b[43m,\u001b[49m\u001b[43m \u001b[49m\u001b[43mhome_graph\u001b[49m\u001b[43m,\u001b[49m\u001b[43m \u001b[49m\u001b[43maway_graph\u001b[49m\u001b[43m,\u001b[49m\u001b[43m \u001b[49m\u001b[43mmode\u001b[49m\u001b[38;5;241;43m=\u001b[39;49m\u001b[38;5;124;43m'\u001b[39;49m\u001b[38;5;124;43mjoint\u001b[39;49m\u001b[38;5;124;43m'\u001b[39;49m\u001b[43m)\u001b[49m\n\u001b[1;32m     21\u001b[0m jll \u001b[38;5;241m=\u001b[39m joint_grammar\u001b[38;5;241m.\u001b[39mconditional_ll()\n\u001b[1;32m     22\u001b[0m jmdl \u001b[38;5;241m=\u001b[39m joint_grammar\u001b[38;5;241m.\u001b[39mcalculate_cost()\n",
      "File \u001b[0;32m~/repos/temporal_VRG/notebooks/../src/update_grammar.py:86\u001b[0m, in \u001b[0;36mupdate_grammar\u001b[0;34m(grammar, home_graph, away_graph, mode, mu)\u001b[0m\n\u001b[1;32m     84\u001b[0m \u001b[38;5;28;01mfor\u001b[39;00m u, v \u001b[38;5;129;01min\u001b[39;00m tqdm(changes, desc\u001b[38;5;241m=\u001b[39m\u001b[38;5;124mf\u001b[39m\u001b[38;5;124m'\u001b[39m\u001b[38;5;124madditions: \u001b[39m\u001b[38;5;132;01m{\u001b[39;00mcount\u001b[38;5;132;01m}\u001b[39;00m\u001b[38;5;124m'\u001b[39m, leave\u001b[38;5;241m=\u001b[39m\u001b[38;5;28;01mTrue\u001b[39;00m):\n\u001b[1;32m     85\u001b[0m     \u001b[38;5;28;01mif\u001b[39;00m u \u001b[38;5;129;01min\u001b[39;00m conquered \u001b[38;5;129;01mand\u001b[39;00m v \u001b[38;5;129;01min\u001b[39;00m conquered:\n\u001b[0;32m---> 86\u001b[0m         charted_grammar \u001b[38;5;241m=\u001b[39m \u001b[43mupdate_rule_domestic\u001b[49m\u001b[43m(\u001b[49m\u001b[43mcharted_grammar\u001b[49m\u001b[43m,\u001b[49m\u001b[43m \u001b[49m\u001b[43mu\u001b[49m\u001b[43m,\u001b[49m\u001b[43m \u001b[49m\u001b[43mv\u001b[49m\u001b[43m,\u001b[49m\u001b[43m \u001b[49m\u001b[38;5;124;43m'\u001b[39;49m\u001b[38;5;124;43madd\u001b[39;49m\u001b[38;5;124;43m'\u001b[39;49m\u001b[43m)\u001b[49m\n\u001b[1;32m     87\u001b[0m     \u001b[38;5;28;01melif\u001b[39;00m u \u001b[38;5;129;01min\u001b[39;00m conquered \u001b[38;5;129;01mand\u001b[39;00m v \u001b[38;5;129;01mnot\u001b[39;00m \u001b[38;5;129;01min\u001b[39;00m conquered:\n\u001b[1;32m     88\u001b[0m         charted_grammar \u001b[38;5;241m=\u001b[39m update_rule_diplomatic(charted_grammar, u, v, \u001b[38;5;124m'\u001b[39m\u001b[38;5;124madd\u001b[39m\u001b[38;5;124m'\u001b[39m)\n",
      "File \u001b[0;32m~/repos/temporal_VRG/notebooks/../src/rule_transitions.py:23\u001b[0m, in \u001b[0;36mupdate_rule_domestic\u001b[0;34m(grammar, u, v, mode)\u001b[0m\n\u001b[1;32m     21\u001b[0m     ancestor_v \u001b[38;5;241m=\u001b[39m \u001b[38;5;28mlist\u001b[39m(parent_rule\u001b[38;5;241m.\u001b[39mgraph\u001b[38;5;241m.\u001b[39mnodes())[which_v]\n\u001b[1;32m     22\u001b[0m \u001b[38;5;28;01mexcept\u001b[39;00m \u001b[38;5;167;01mIndexError\u001b[39;00m \u001b[38;5;28;01mas\u001b[39;00m e:\n\u001b[0;32m---> 23\u001b[0m     \u001b[38;5;28;01mraise\u001b[39;00m \u001b[38;5;167;01mIndexError\u001b[39;00m(\u001b[38;5;124mf\u001b[39m\u001b[38;5;124m'\u001b[39m\u001b[38;5;124m?? w\u001b[39m\u001b[38;5;132;01m{\u001b[39;00me\u001b[38;5;132;01m}\u001b[39;00m\u001b[38;5;124mw ??\u001b[39m\u001b[38;5;124m'\u001b[39m)\n\u001b[1;32m     25\u001b[0m new_rule \u001b[38;5;241m=\u001b[39m copy\u001b[38;5;241m.\u001b[39mdeepcopy(parent_rule)\n\u001b[1;32m     27\u001b[0m \u001b[38;5;28;01mif\u001b[39;00m mode \u001b[38;5;241m==\u001b[39m \u001b[38;5;124m'\u001b[39m\u001b[38;5;124madd\u001b[39m\u001b[38;5;124m'\u001b[39m:\n",
      "\u001b[0;31mIndexError\u001b[0m: ?? wlist index out of rangew ??"
     ]
    }
   ],
   "source": [
    "mu = 4\n",
    "\n",
    "base_mdl = []\n",
    "\n",
    "joint_ll = []\n",
    "joint_mdl = []\n",
    "\n",
    "indep_ll = []\n",
    "indep_mdl = []\n",
    "\n",
    "for idx, (home_graph, away_graph) in enumerate(zip(graphs[:-1], graphs[1:])):\n",
    "    # if idx == 0:\n",
    "    #     continue\n",
    "    base_grammar = decompose(home_graph, mu=4)\n",
    "    bmdl = base_grammar.calculate_cost()\n",
    "    base_mdl += [bmdl]\n",
    "    print(idx, [bmdl])\n",
    "    \n",
    "    print(f'year {idx}->{idx+1} joint grammar')\n",
    "    joint_grammar = update_grammar(base_grammar, home_graph, away_graph, mode='joint')\n",
    "    jll = joint_grammar.conditional_ll()\n",
    "    jmdl = joint_grammar.calculate_cost()\n",
    "    joint_ll += [jll]\n",
    "    joint_mdl += [jmdl]\n",
    "    print(idx, [jll, jmdl])\n",
    "    \n",
    "    print(f'year {idx}->{idx+1} independent grammar')\n",
    "    indep_grammar = update_grammar(base_grammar, home_graph, away_graph, mode='independent')\n",
    "    ill = indep_grammar.conditional_ll()\n",
    "    imdl = indep_grammar.calculate_cost()\n",
    "    indep_ll += [ill]\n",
    "    indep_mdl += [imdl]\n",
    "    print(idx, [ill, imdl])"
   ]
  },
  {
   "cell_type": "code",
   "execution_count": null,
   "id": "52acf3ae",
   "metadata": {},
   "outputs": [],
   "source": []
  },
  {
   "cell_type": "markdown",
   "id": "5a1e37ef",
   "metadata": {},
   "source": [
    "# accumulated sequential experiments"
   ]
  },
  {
   "cell_type": "code",
   "execution_count": null,
   "id": "7201315c",
   "metadata": {},
   "outputs": [],
   "source": []
  },
  {
   "cell_type": "code",
   "execution_count": null,
   "id": "0e76deb6",
   "metadata": {},
   "outputs": [],
   "source": []
  }
 ],
 "metadata": {
  "kernelspec": {
   "display_name": "Python 3",
   "language": "python",
   "name": "python3"
  },
  "language_info": {
   "codemirror_mode": {
    "name": "ipython",
    "version": 3
   },
   "file_extension": ".py",
   "mimetype": "text/x-python",
   "name": "python",
   "nbconvert_exporter": "python",
   "pygments_lexer": "ipython3",
   "version": "3.9.5"
  }
 },
 "nbformat": 4,
 "nbformat_minor": 5
}
