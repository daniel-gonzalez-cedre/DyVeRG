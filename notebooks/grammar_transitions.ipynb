{
 "cells": [
  {
   "cell_type": "code",
   "execution_count": 23,
   "id": "07a754c7",
   "metadata": {
    "scrolled": true
   },
   "outputs": [],
   "source": [
    "import sys\n",
    "import copy\n",
    "import random\n",
    "from os.path import join\n",
    "\n",
    "sys.path.append('..')\n",
    "\n",
    "import numpy as np\n",
    "import networkx as nx\n",
    "\n",
    "from cnrg.VRG import VRG as VRG\n",
    "from cnrg.LightMultiGraph import LightMultiGraph as LightMultiGraph"
   ]
  },
  {
   "cell_type": "code",
   "execution_count": 24,
   "id": "15f678a7",
   "metadata": {},
   "outputs": [],
   "source": [
    "sys.path.append('../src')\n",
    "from data_scripts import read_data, create_graphs\n",
    "from bookkeeping import convert_LMG, decompose, ancestor, common_ancestor\n",
    "from rule_transitions import update_rule_domestic, update_rule_diplomatic\n",
    "# from grammar_transitions import \n",
    "from update_grammar import update_grammar"
   ]
  },
  {
   "cell_type": "code",
   "execution_count": 25,
   "id": "5efaafcc",
   "metadata": {},
   "outputs": [],
   "source": [
    "dataname = 'fb-messages'\n",
    "graphs, years = read_data(dataname=dataname, lookback=1)"
   ]
  },
  {
   "cell_type": "code",
   "execution_count": 26,
   "id": "807b1e32",
   "metadata": {},
   "outputs": [],
   "source": [
    "graph0 = graphs[0]\n",
    "graph1 = graphs[1]"
   ]
  },
  {
   "cell_type": "code",
   "execution_count": 27,
   "id": "52d17512",
   "metadata": {
    "scrolled": false
   },
   "outputs": [
    {
     "name": "stderr",
     "output_type": "stream",
     "text": [
      "100%|███████████████████████████████|[00:00<00:00]\n",
      "WARNING:root:graph: , mu: 4, type: mu_level_dl clustering: leiden rules: 104(104) mdl: 15_806.6 bits generated in 0.206 secs\n",
      "\n"
     ]
    },
    {
     "data": {
      "text/plain": [
       "graph: , mu: 4, type: mu_level_dl clustering: leiden rules: 104(104) mdl: 15_806.6 bits"
      ]
     },
     "execution_count": 27,
     "metadata": {},
     "output_type": "execute_result"
    }
   ],
   "source": [
    "grammar = decompose(graph0, mu=4)\n",
    "grammar"
   ]
  },
  {
   "cell_type": "code",
   "execution_count": 28,
   "id": "7c4007ac",
   "metadata": {
    "scrolled": true
   },
   "outputs": [
    {
     "name": "stderr",
     "output_type": "stream",
     "text": [
      "joint changes:   0%|          | 0/69 [00:00<?, ?it/s]\n",
      "100%|███████████████████████████████|[00:00<00:00]\u001b[A\n",
      "WARNING:root:graph: , mu: 4, type: mu_level_dl clustering: leiden rules: 108(108) mdl: 12_420.8 bits generated in 0.096 secs\n",
      "\n",
      "joint changes: 100%|██████████| 69/69 [00:01<00:00, 47.38it/s]\n",
      "additions: 1: 100%|██████████| 457/457 [00:12<00:00, 36.72it/s]\n",
      "additions: 2: 100%|██████████| 3/3 [00:00<00:00, 50.12it/s]\n"
     ]
    },
    {
     "data": {
      "text/plain": [
       "graph: , mu: 4, type: mu_level_dl clustering: leiden rules: 398(208) mdl: 145_102 bits"
      ]
     },
     "execution_count": 28,
     "metadata": {},
     "output_type": "execute_result"
    }
   ],
   "source": [
    "new_grammar = update_grammar(grammar, graph0, graph1)\n",
    "new_grammar"
   ]
  },
  {
   "cell_type": "code",
   "execution_count": 29,
   "id": "c3df27c4",
   "metadata": {},
   "outputs": [
    {
     "name": "stdout",
     "output_type": "stream",
     "text": [
      "-68.39002692864717\n",
      "145101.97883362774\n"
     ]
    }
   ],
   "source": [
    "print(new_grammar.conditional_ll())\n",
    "print(new_grammar.cost)"
   ]
  },
  {
   "cell_type": "code",
   "execution_count": 30,
   "id": "06bcc643",
   "metadata": {},
   "outputs": [
    {
     "name": "stderr",
     "output_type": "stream",
     "text": [
      "additions: 1: 100%|██████████| 854/854 [00:11<00:00, 73.66it/s] \n",
      "additions: 2: 100%|██████████| 296/296 [00:06<00:00, 43.32it/s]\n",
      "additions: 3: 100%|██████████| 75/75 [00:02<00:00, 29.11it/s]\n",
      "additions: 4: 100%|██████████| 10/10 [00:00<00:00, 23.04it/s]\n"
     ]
    },
    {
     "data": {
      "text/plain": [
       "graph: , mu: 4, type: mu_level_dl clustering: leiden rules: 855(104) mdl: 534_201 bits"
      ]
     },
     "execution_count": 30,
     "metadata": {},
     "output_type": "execute_result"
    }
   ],
   "source": [
    "indep_grammar = update_grammar(grammar, graph0, graph1, mode='independent')\n",
    "indep_grammar"
   ]
  },
  {
   "cell_type": "code",
   "execution_count": 31,
   "id": "4eca3c43",
   "metadata": {},
   "outputs": [
    {
     "name": "stdout",
     "output_type": "stream",
     "text": [
      "-216.61753696170334\n",
      "534201.196636224\n"
     ]
    }
   ],
   "source": [
    "print(indep_grammar.conditional_ll())\n",
    "print(indep_grammar.cost)"
   ]
  },
  {
   "cell_type": "code",
   "execution_count": null,
   "id": "a8d1740a",
   "metadata": {},
   "outputs": [],
   "source": []
  },
  {
   "cell_type": "code",
   "execution_count": null,
   "id": "84e0cd7d",
   "metadata": {},
   "outputs": [],
   "source": []
  },
  {
   "cell_type": "code",
   "execution_count": null,
   "id": "18f94c0c",
   "metadata": {
    "scrolled": false
   },
   "outputs": [],
   "source": [
    "good = []\n",
    "bad = []\n",
    "\n",
    "for idx, rule in enumerate(new_grammar.rule_list):\n",
    "    try:\n",
    "        rule.calculate_cost()\n",
    "    except:\n",
    "        bad.append(idx)\n",
    "        #print(idx, rule)\n",
    "        #print(rule.graph.nodes(data=True))\n",
    "        #print(rule.graph.edges(data=True))\n",
    "    else:\n",
    "        good.append(idx)\n"
   ]
  },
  {
   "cell_type": "code",
   "execution_count": null,
   "id": "21dd06e4",
   "metadata": {},
   "outputs": [],
   "source": [
    "print(len(new_grammar.rule_list))\n",
    "print(len(good))\n",
    "print(len(bad))"
   ]
  },
  {
   "cell_type": "code",
   "execution_count": null,
   "id": "774919dd",
   "metadata": {},
   "outputs": [],
   "source": [
    "count = 0\n",
    "for idx, rule in enumerate(new_grammar.rule_list):\n",
    "    b_deg = nx.get_node_attributes(rule.graph, 'b_deg')\n",
    "    if len(b_deg) != rule.graph.order():\n",
    "        # print(idx)\n",
    "        # print(rule.graph.nodes(data=True))\n",
    "        count += 1\n",
    "        if idx not in bad:\n",
    "            print(rule.graph.nodes(data=True))\n",
    "        \n",
    "print(count)"
   ]
  },
  {
   "cell_type": "code",
   "execution_count": null,
   "id": "9de0aa31",
   "metadata": {},
   "outputs": [],
   "source": [
    "copy_grammar = grammar.copy()\n",
    "copy_copy_grammar = copy_grammar.copy()\n",
    "copy_copy_copy_grammar = copy_copy_grammar.copy()"
   ]
  },
  {
   "cell_type": "code",
   "execution_count": null,
   "id": "f9ee3658",
   "metadata": {},
   "outputs": [],
   "source": [
    "count = 0\n",
    "for idx, rule in enumerate(copy_grammar.rule_list):\n",
    "    b_deg = nx.get_node_attributes(rule.graph, 'b_deg')\n",
    "    if len(b_deg) != rule.graph.order():\n",
    "        # print(idx)\n",
    "        # print(rule.graph.nodes(data=True))\n",
    "        count += 1\n",
    "        \n",
    "print(count)\n",
    "\n",
    "count = 0\n",
    "for idx, rule in enumerate(copy_copy_grammar.rule_list):\n",
    "    b_deg = nx.get_node_attributes(rule.graph, 'b_deg')\n",
    "    if len(b_deg) != rule.graph.order():\n",
    "        # print(idx)\n",
    "        # print(rule.graph.nodes(data=True))\n",
    "        count += 1\n",
    "        \n",
    "print(count)\n",
    "\n",
    "count = 0\n",
    "for idx, rule in enumerate(copy_copy_copy_grammar.rule_list):\n",
    "    b_deg = nx.get_node_attributes(rule.graph, 'b_deg')\n",
    "    if len(b_deg) != rule.graph.order():\n",
    "        # print(idx)\n",
    "        # print(rule.graph.nodes(data=True))\n",
    "        count += 1\n",
    "        \n",
    "print(count)"
   ]
  },
  {
   "cell_type": "code",
   "execution_count": null,
   "id": "53f5334c",
   "metadata": {},
   "outputs": [],
   "source": [
    "for rule in  copy_grammar.rule_list:\n",
    "    for v, d in rule.graph.nodes(data=True):\n",
    "        if len(d) > 0:\n",
    "            print(d)"
   ]
  },
  {
   "cell_type": "code",
   "execution_count": null,
   "id": "cc1afe66",
   "metadata": {},
   "outputs": [],
   "source": [
    "x = copy_grammar.rule_list\n",
    "y = [rule.copy() for rule in x]\n",
    "\n",
    "for rule in y:\n",
    "    for v, d in rule.graph.nodes(data=True):\n",
    "        if len(d) > 0:\n",
    "            print(d)"
   ]
  },
  {
   "cell_type": "code",
   "execution_count": null,
   "id": "07d7dfa0",
   "metadata": {},
   "outputs": [],
   "source": [
    "for rule in  copy_copy_copy_grammar.rule_list:\n",
    "    for v, d in rule.graph.nodes(data=True):\n",
    "        if len(d) > 0:\n",
    "            print(d)"
   ]
  },
  {
   "cell_type": "code",
   "execution_count": null,
   "id": "caec9084",
   "metadata": {},
   "outputs": [],
   "source": [
    "grammar.mu"
   ]
  },
  {
   "cell_type": "code",
   "execution_count": null,
   "id": "c60d1d91",
   "metadata": {},
   "outputs": [],
   "source": [
    "z = {frozenset({1, 2}): 'a', frozenset({1, 3}): 'b'}"
   ]
  },
  {
   "cell_type": "code",
   "execution_count": null,
   "id": "aac13e0d",
   "metadata": {},
   "outputs": [],
   "source": []
  },
  {
   "cell_type": "code",
   "execution_count": null,
   "id": "2e74ecbd",
   "metadata": {},
   "outputs": [],
   "source": []
  },
  {
   "cell_type": "code",
   "execution_count": null,
   "id": "16a0c63a",
   "metadata": {},
   "outputs": [],
   "source": []
  },
  {
   "cell_type": "code",
   "execution_count": null,
   "id": "2447a1fa",
   "metadata": {},
   "outputs": [],
   "source": [
    "print(graph0.order(), graph0.size())\n",
    "print(graph1.order(), graph1.size())"
   ]
  },
  {
   "cell_type": "code",
   "execution_count": null,
   "id": "f6077c3d",
   "metadata": {},
   "outputs": [],
   "source": [
    "g = nx.Graph()\n",
    "g.add_nodes_from([1, 2, 3, 4], b_deg=0)\n",
    "g.add_edge(1, 2)"
   ]
  },
  {
   "cell_type": "code",
   "execution_count": null,
   "id": "2aa279cc",
   "metadata": {},
   "outputs": [],
   "source": [
    "h = g.copy()\n",
    "k = h.copy()\n",
    "l = k.copy()"
   ]
  },
  {
   "cell_type": "code",
   "execution_count": null,
   "id": "9202fdd5",
   "metadata": {},
   "outputs": [],
   "source": [
    "h.nodes(data=True)"
   ]
  },
  {
   "cell_type": "code",
   "execution_count": null,
   "id": "2b360097",
   "metadata": {},
   "outputs": [],
   "source": [
    "l.nodes(data=True)"
   ]
  },
  {
   "cell_type": "code",
   "execution_count": null,
   "id": "c3911978",
   "metadata": {
    "scrolled": false
   },
   "outputs": [],
   "source": [
    "nodesample = random.sample(graph0.nodes(), 5)\n",
    "nodesample"
   ]
  },
  {
   "cell_type": "code",
   "execution_count": null,
   "id": "6d67c969",
   "metadata": {},
   "outputs": [],
   "source": [
    "common_ancestor(nodesample[0], nodesample[1], grammar)"
   ]
  },
  {
   "cell_type": "code",
   "execution_count": null,
   "id": "f6376c34",
   "metadata": {},
   "outputs": [],
   "source": [
    "all_common_ancestor(nodesample, grammar)"
   ]
  },
  {
   "cell_type": "code",
   "execution_count": null,
   "id": "370cfe27",
   "metadata": {},
   "outputs": [],
   "source": []
  },
  {
   "cell_type": "code",
   "execution_count": null,
   "id": "669ecae2",
   "metadata": {},
   "outputs": [],
   "source": [
    "this_nodes = set(graph0.nodes())\n",
    "this_edges = set(graph0.edges())\n",
    "next_nodes = set(graph1.nodes())\n",
    "next_edges = set(graph1.edges())\n",
    "\n",
    "additions = next_edges - this_edges\n",
    "deletions = this_edges - next_edges\n",
    "\n",
    "case1 = {(u, v) for u, v in additions\n",
    "         if u in graph0.nodes() and v in graph0.nodes()}\n",
    "case2 = {(u, v) for u, v in additions\n",
    "         if (u in graph0.nodes()) ^ (v in graph0.nodes())}\n",
    "case3 = {(u, v) for u, v in additions\n",
    "         if u not in graph0.nodes() and v not in graph0.nodes()}\n",
    "\n",
    "# frontier = {(u, v) for (u, v) in additions\n",
    "#             if (u in this_nodes) ^ (v in this_nodes)}\n",
    "frontier = case2\n",
    "                                               \n",
    "print(len(additions))\n",
    "print(len(deletions))"
   ]
  },
  {
   "cell_type": "code",
   "execution_count": null,
   "id": "adc82bf1",
   "metadata": {
    "scrolled": true
   },
   "outputs": [],
   "source": [
    "new_graph = nx.Graph()\n",
    "# new_graph.add_edges_from(case2 | case3)\n",
    "new_graph.add_edges_from(case3)\n",
    "\n",
    "new_nodes = [nodes for nodes in nx.connected_components(new_graph)]\n",
    "new_components = [(nodes, new_graph.subgraph(nodes)) for nodes in new_nodes]"
   ]
  },
  {
   "cell_type": "code",
   "execution_count": null,
   "id": "1651c809",
   "metadata": {},
   "outputs": [],
   "source": []
  },
  {
   "cell_type": "code",
   "execution_count": null,
   "id": "e261d843",
   "metadata": {},
   "outputs": [],
   "source": [
    "print(0x45)"
   ]
  },
  {
   "cell_type": "code",
   "execution_count": null,
   "id": "8967a2a0",
   "metadata": {},
   "outputs": [],
   "source": [
    "# testing = new_nodes[2]\n",
    "# incident_frontier = {(u, v) for (u, v) in frontier if (u in testing) or (v in testing)}\n",
    "# print(incident_frontier)"
   ]
  },
  {
   "cell_type": "code",
   "execution_count": null,
   "id": "16a86462",
   "metadata": {
    "scrolled": true
   },
   "outputs": [],
   "source": [
    "for nodes, component in new_components:\n",
    "    comp_grammar = decompose(component)\n",
    "    # incident_frontier = {(u, v) for (u, v) in frontier if (u in component) or (v in component)}\n",
    "    incident_frontier = {(u if u not in graph0 else v, v if v in graph0 else u)\n",
    "                         for (u, v) in frontier if (u in component) or (v in component)}\n",
    "\n",
    "    \n",
    "    break\n",
    "    # for u, v in incident_frontier:\n",
    "    #     if u not in graph0.nodes():\n",
    "    #         pass\n",
    "    \n",
    "# grammar = decompose(graph0)"
   ]
  },
  {
   "cell_type": "code",
   "execution_count": null,
   "id": "01a8513d",
   "metadata": {},
   "outputs": [],
   "source": [
    "comp_grammar.extraction_matrix"
   ]
  },
  {
   "cell_type": "code",
   "execution_count": null,
   "id": "8b4af90b",
   "metadata": {},
   "outputs": [],
   "source": [
    "grammar.extraction_matrix"
   ]
  },
  {
   "cell_type": "code",
   "execution_count": null,
   "id": "d24a58c8",
   "metadata": {},
   "outputs": [],
   "source": []
  },
  {
   "cell_type": "code",
   "execution_count": null,
   "id": "c6562dfd",
   "metadata": {},
   "outputs": [],
   "source": [
    "root_rule, = comp_grammar.rule_dict[0]"
   ]
  },
  {
   "cell_type": "code",
   "execution_count": null,
   "id": "0426f771",
   "metadata": {},
   "outputs": [],
   "source": [
    "root_rule.lhs in comp_grammar.rule_dict"
   ]
  },
  {
   "cell_type": "code",
   "execution_count": null,
   "id": "00f5a506",
   "metadata": {},
   "outputs": [],
   "source": [
    "del comp_grammar.rule_dict[100]"
   ]
  },
  {
   "cell_type": "code",
   "execution_count": null,
   "id": "b8ffbfe9",
   "metadata": {},
   "outputs": [],
   "source": [
    "comp_grammar.rule_dict[0] = [root_rule]"
   ]
  },
  {
   "cell_type": "code",
   "execution_count": null,
   "id": "dcec9e33",
   "metadata": {},
   "outputs": [],
   "source": [
    "x = ['a', 'b', 'c', 'd']\n",
    "x.index('e')"
   ]
  },
  {
   "cell_type": "code",
   "execution_count": null,
   "id": "c6dc2a26",
   "metadata": {},
   "outputs": [],
   "source": []
  },
  {
   "cell_type": "code",
   "execution_count": null,
   "id": "693f0af3",
   "metadata": {},
   "outputs": [],
   "source": [
    "h = nx.Graph()\n",
    "h.add_node('a', label='hello', b_deg=0)\n",
    "print(h.nodes(data=True), h.edges(data=True))"
   ]
  },
  {
   "cell_type": "code",
   "execution_count": null,
   "id": "3c355264",
   "metadata": {},
   "outputs": [],
   "source": [
    "u0 = 162\n",
    "rule, which_parent, which_u = ancestor(u0, comp_grammar)\n",
    "ancestor_u, d = list(rule.graph.nodes(data=True))[which_u]"
   ]
  },
  {
   "cell_type": "code",
   "execution_count": null,
   "id": "f95d7847",
   "metadata": {},
   "outputs": [],
   "source": [
    "if component.has_edge(1585, 113):\n",
    "    print(component.edges[113, 1585])"
   ]
  },
  {
   "cell_type": "code",
   "execution_count": null,
   "id": "cf658553",
   "metadata": {},
   "outputs": [],
   "source": []
  },
  {
   "cell_type": "code",
   "execution_count": null,
   "id": "22248cef",
   "metadata": {},
   "outputs": [],
   "source": [
    "162 in component.nodes()"
   ]
  },
  {
   "cell_type": "code",
   "execution_count": null,
   "id": "46afbf8c",
   "metadata": {},
   "outputs": [],
   "source": [
    "for x in [1, 2, 3, 4, 5]:\n",
    "    if x == 6:\n",
    "        print('henlo')\n",
    "        break\n",
    "else:\n",
    "    print('hi')"
   ]
  },
  {
   "cell_type": "code",
   "execution_count": null,
   "id": "210435da",
   "metadata": {},
   "outputs": [],
   "source": [
    "incident_frontier"
   ]
  },
  {
   "cell_type": "code",
   "execution_count": null,
   "id": "eb278ad5",
   "metadata": {},
   "outputs": [],
   "source": []
  },
  {
   "cell_type": "code",
   "execution_count": null,
   "id": "daad5f92",
   "metadata": {
    "scrolled": true
   },
   "outputs": [],
   "source": [
    "for u, v in incident_frontier:\n",
    "    if u in component and v in component:\n",
    "        print(u, v)"
   ]
  },
  {
   "cell_type": "code",
   "execution_count": null,
   "id": "b292353c",
   "metadata": {},
   "outputs": [],
   "source": []
  },
  {
   "cell_type": "code",
   "execution_count": null,
   "id": "bb45086d",
   "metadata": {},
   "outputs": [],
   "source": []
  },
  {
   "cell_type": "code",
   "execution_count": null,
   "id": "1d67bfeb",
   "metadata": {},
   "outputs": [],
   "source": []
  },
  {
   "cell_type": "code",
   "execution_count": null,
   "id": "e08897ef",
   "metadata": {},
   "outputs": [],
   "source": []
  }
 ],
 "metadata": {
  "kernelspec": {
   "display_name": "Python 3",
   "language": "python",
   "name": "python3"
  },
  "language_info": {
   "codemirror_mode": {
    "name": "ipython",
    "version": 3
   },
   "file_extension": ".py",
   "mimetype": "text/x-python",
   "name": "python",
   "nbconvert_exporter": "python",
   "pygments_lexer": "ipython3",
   "version": "3.9.5"
  }
 },
 "nbformat": 4,
 "nbformat_minor": 5
}
